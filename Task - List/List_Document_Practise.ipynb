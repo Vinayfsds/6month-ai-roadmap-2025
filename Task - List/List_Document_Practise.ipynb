{
 "cells": [
  {
   "cell_type": "code",
   "execution_count": 329,
   "id": "add1304a-b3d2-438b-8f00-1b491d55f090",
   "metadata": {},
   "outputs": [
    {
     "data": {
      "text/plain": [
       "'   I am a hard working guy   '"
      ]
     },
     "execution_count": 329,
     "metadata": {},
     "output_type": "execute_result"
    }
   ],
   "source": [
    "name = \"   I am a hard working guy   \"\n",
    "name\n"
   ]
  },
  {
   "cell_type": "code",
   "execution_count": 331,
   "id": "a0275174-89ac-4dde-a760-33b648473915",
   "metadata": {},
   "outputs": [
    {
     "data": {
      "text/plain": [
       "'I am a hard working guy   '"
      ]
     },
     "execution_count": 331,
     "metadata": {},
     "output_type": "execute_result"
    }
   ],
   "source": [
    "name.lstrip() # remove left spaces"
   ]
  },
  {
   "cell_type": "code",
   "execution_count": 333,
   "id": "2c007fee-7194-4383-bf9a-4b15bd071f76",
   "metadata": {},
   "outputs": [
    {
     "data": {
      "text/plain": [
       "'   I am a hard working guy'"
      ]
     },
     "execution_count": 333,
     "metadata": {},
     "output_type": "execute_result"
    }
   ],
   "source": [
    "name.rstrip() # remove right spaces"
   ]
  },
  {
   "cell_type": "code",
   "execution_count": 334,
   "id": "21d9e0ba-1e2a-4605-a6d7-2cfd8c3a31f2",
   "metadata": {},
   "outputs": [
    {
     "data": {
      "text/plain": [
       "'I am a hard working guy'"
      ]
     },
     "execution_count": 334,
     "metadata": {},
     "output_type": "execute_result"
    }
   ],
   "source": [
    "name.strip() # remove left and right spaces"
   ]
  },
  {
   "cell_type": "markdown",
   "id": "074d9fd8-0e3e-4956-ba66-fbc783c54e85",
   "metadata": {},
   "source": [
    " # Using Escape Character ('\\\\')\n",
    " "
   ]
  },
  {
   "cell_type": "code",
   "execution_count": 338,
   "id": "670a8720-5bd7-402f-b8c9-aed720831880",
   "metadata": {},
   "outputs": [
    {
     "data": {
      "text/plain": [
       "'Practising different programming languages like \"Pytho\" etc;'"
      ]
     },
     "execution_count": 338,
     "metadata": {},
     "output_type": "execute_result"
    }
   ],
   "source": [
    "mystr = 'Practising different programming languages like \\\"Pytho\\\" etc;'\n",
    "mystr"
   ]
  },
  {
   "cell_type": "code",
   "execution_count": 339,
   "id": "dd460cc0-a2e9-403d-b2fb-974f0202effe",
   "metadata": {},
   "outputs": [
    {
     "data": {
      "text/plain": [
       "'Practising different programming languages like \"Pytho\" etc;'"
      ]
     },
     "execution_count": 339,
     "metadata": {},
     "output_type": "execute_result"
    }
   ],
   "source": [
    "# using double quotes \n",
    "mystr = \"Practising different programming languages like \\\"Pytho\\\" etc;\"\n",
    "mystr"
   ]
  },
  {
   "cell_type": "markdown",
   "id": "647af30a-f4b6-42aa-ad61-2cc6a3d90c06",
   "metadata": {},
   "source": [
    "# List"
   ]
  },
  {
   "cell_type": "code",
   "execution_count": 341,
   "id": "15e894c3-6f78-454b-9d15-c0f6b136628e",
   "metadata": {},
   "outputs": [
    {
     "data": {
      "text/plain": [
       "[]"
      ]
     },
     "execution_count": 341,
     "metadata": {},
     "output_type": "execute_result"
    }
   ],
   "source": [
    "myList = [] # empty list\n",
    "myList"
   ]
  },
  {
   "cell_type": "code",
   "execution_count": 342,
   "id": "1d218df7-ac36-4e7b-b60e-63c41659f856",
   "metadata": {},
   "outputs": [
    {
     "name": "stdout",
     "output_type": "stream",
     "text": [
      "<class 'list'>\n"
     ]
    }
   ],
   "source": [
    "print(type(myList))"
   ]
  },
  {
   "cell_type": "code",
   "execution_count": 343,
   "id": "bdf63a8d-3563-4430-b290-63dfcefa89de",
   "metadata": {},
   "outputs": [
    {
     "data": {
      "text/plain": [
       "[30, 60, 90]"
      ]
     },
     "execution_count": 343,
     "metadata": {},
     "output_type": "execute_result"
    }
   ],
   "source": [
    "myList2 = [30,60, 90] # list of integers\n",
    "myList2"
   ]
  },
  {
   "cell_type": "code",
   "execution_count": 344,
   "id": "64fdd2ff-396c-4f3c-b290-da25cda5ccb3",
   "metadata": {},
   "outputs": [
    {
     "data": {
      "text/plain": [
       "[3.14, 2.22, 3.55]"
      ]
     },
     "execution_count": 344,
     "metadata": {},
     "output_type": "execute_result"
    }
   ],
   "source": [
    "myListFloat = [3.14, 2.22, 3.55] # list with floats\n",
    "myListFloat"
   ]
  },
  {
   "cell_type": "code",
   "execution_count": 345,
   "id": "1d2fc72d-aaf7-47bb-a7c7-f590127b7a07",
   "metadata": {},
   "outputs": [
    {
     "data": {
      "text/plain": [
       "['vinay', 'Vedasree', 'Meenusree', 'Harika']"
      ]
     },
     "execution_count": 345,
     "metadata": {},
     "output_type": "execute_result"
    }
   ],
   "source": [
    "myListString =['vinay', 'Vedasree', 'Meenusree', 'Harika'] # list of string\n",
    "myListString"
   ]
  },
  {
   "cell_type": "code",
   "execution_count": 346,
   "id": "82aa4025-2c55-4801-9cf5-c6808074f65d",
   "metadata": {},
   "outputs": [
    {
     "data": {
      "text/plain": [
       "['values', [], [30, 60, 90], [3.14, 2.22, 3.55]]"
      ]
     },
     "execution_count": 346,
     "metadata": {},
     "output_type": "execute_result"
    }
   ],
   "source": [
    "nestedList = ['values', [], [30,60, 90],[3.14, 2.22, 3.55]] # Nested List or Nested list with different data types\n",
    "nestedList"
   ]
  },
  {
   "cell_type": "code",
   "execution_count": 347,
   "id": "c3dc69a7-c7aa-4032-ae4b-47b6f3a5e342",
   "metadata": {},
   "outputs": [
    {
     "data": {
      "text/plain": [
       "4"
      ]
     },
     "execution_count": 347,
     "metadata": {},
     "output_type": "execute_result"
    }
   ],
   "source": [
    "len(nestedList) # gets the numbers of list items (nested will be consider as single item only)"
   ]
  },
  {
   "cell_type": "code",
   "execution_count": 348,
   "id": "150d611a-bddf-42d6-ac89-ccbcad9e451c",
   "metadata": {},
   "outputs": [],
   "source": [
    "# Forward index (left to right)\n",
    "# Backward index (right to left)"
   ]
  },
  {
   "cell_type": "code",
   "execution_count": 356,
   "id": "17d873d5-eba0-4611-bbb7-bcdaea016799",
   "metadata": {},
   "outputs": [
    {
     "data": {
      "text/plain": [
       "[30, 60, 90]"
      ]
     },
     "execution_count": 356,
     "metadata": {},
     "output_type": "execute_result"
    }
   ],
   "source": [
    "nestedList[2] # gets the second index list item"
   ]
  },
  {
   "cell_type": "code",
   "execution_count": 360,
   "id": "a7f79604-a34e-43cb-a1d4-7b195aca5e99",
   "metadata": {},
   "outputs": [
    {
     "data": {
      "text/plain": [
       "[]"
      ]
     },
     "execution_count": 360,
     "metadata": {},
     "output_type": "execute_result"
    }
   ],
   "source": [
    "nestedList[-3] # gets the backward index list item"
   ]
  },
  {
   "cell_type": "markdown",
   "id": "1a91d0e8-16fa-40af-bd57-940540ac9b88",
   "metadata": {},
   "source": [
    "# List Sclicing"
   ]
  },
  {
   "cell_type": "code",
   "execution_count": 364,
   "id": "2a4c580c-492b-497e-aaa8-247830197324",
   "metadata": {},
   "outputs": [
    {
     "data": {
      "text/plain": [
       "['mango',\n",
       " 'banana',\n",
       " 'apple',\n",
       " 'gova',\n",
       " 'avacado',\n",
       " 'pinaple',\n",
       " 'mosambee',\n",
       " 'watermilon']"
      ]
     },
     "execution_count": 364,
     "metadata": {},
     "output_type": "execute_result"
    }
   ],
   "source": [
    "listofFruits = ['mango', 'banana', 'apple', 'gova', 'avacado','pinaple', 'mosambee', 'watermilon']\n",
    "listofFruits"
   ]
  },
  {
   "cell_type": "code",
   "execution_count": 365,
   "id": "563b6811-5730-4b77-b8dd-3d2027af919a",
   "metadata": {},
   "outputs": [
    {
     "data": {
      "text/plain": [
       "['mango', 'banana', 'apple']"
      ]
     },
     "execution_count": 365,
     "metadata": {},
     "output_type": "execute_result"
    }
   ],
   "source": [
    "listofFruits[0:3] # gets the list of items from 0 to 2 (index forward formula works as (n-1))"
   ]
  },
  {
   "cell_type": "code",
   "execution_count": 366,
   "id": "ef918e57-f6e8-4e59-91b1-fb6e3be3b21a",
   "metadata": {},
   "outputs": [
    {
     "data": {
      "text/plain": [
       "['apple', 'gova', 'avacado']"
      ]
     },
     "execution_count": 366,
     "metadata": {},
     "output_type": "execute_result"
    }
   ],
   "source": [
    "listofFruits[2:5] # gets the list of items from 2 to 4"
   ]
  },
  {
   "cell_type": "code",
   "execution_count": 370,
   "id": "06ae380e-b209-4d86-aa1f-1fbf325d64b8",
   "metadata": {},
   "outputs": [
    {
     "data": {
      "text/plain": [
       "['mango', 'banana', 'apple']"
      ]
     },
     "execution_count": 370,
     "metadata": {},
     "output_type": "execute_result"
    }
   ],
   "source": [
    "listofFruits[:3] # gets first three items "
   ]
  },
  {
   "cell_type": "code",
   "execution_count": 371,
   "id": "aed7bb5d-bbbf-43a0-bfdd-0897b73e842a",
   "metadata": {},
   "outputs": [
    {
     "data": {
      "text/plain": [
       "['pinaple', 'mosambee', 'watermilon']"
      ]
     },
     "execution_count": 371,
     "metadata": {},
     "output_type": "execute_result"
    }
   ],
   "source": [
    "listofFruits[-3:] # gets last three items"
   ]
  },
  {
   "cell_type": "code",
   "execution_count": 372,
   "id": "f8459300-ff94-4c02-bab6-0d5b55fb49c9",
   "metadata": {},
   "outputs": [
    {
     "data": {
      "text/plain": [
       "'mosambee'"
      ]
     },
     "execution_count": 372,
     "metadata": {},
     "output_type": "execute_result"
    }
   ],
   "source": [
    "listofFruits[-2] # gets the last second item from the list"
   ]
  },
  {
   "cell_type": "code",
   "execution_count": 373,
   "id": "e21a5079-c674-43d2-8fdc-d7e2b9c7b360",
   "metadata": {},
   "outputs": [
    {
     "data": {
      "text/plain": [
       "['mango',\n",
       " 'banana',\n",
       " 'apple',\n",
       " 'gova',\n",
       " 'avacado',\n",
       " 'pinaple',\n",
       " 'mosambee',\n",
       " 'watermilon']"
      ]
     },
     "execution_count": 373,
     "metadata": {},
     "output_type": "execute_result"
    }
   ],
   "source": [
    "listofFruits[:] # returns whole list"
   ]
  },
  {
   "cell_type": "code",
   "execution_count": 374,
   "id": "bb429ec7-6270-4e97-b62b-d61367fc5037",
   "metadata": {},
   "outputs": [
    {
     "data": {
      "text/plain": [
       "['mango',\n",
       " 'banana',\n",
       " 'apple',\n",
       " 'gova',\n",
       " 'avacado',\n",
       " 'pinaple',\n",
       " 'mosambee',\n",
       " 'watermilon']"
      ]
     },
     "execution_count": 374,
     "metadata": {},
     "output_type": "execute_result"
    }
   ],
   "source": [
    "listofFruits[:10] # before 10th index items from the list"
   ]
  },
  {
   "cell_type": "code",
   "execution_count": 375,
   "id": "d6515074-6ecd-44c0-ad1f-67f271098add",
   "metadata": {},
   "outputs": [
    {
     "data": {
      "text/plain": [
       "['banana', 'apple', 'gova', 'avacado', 'pinaple', 'mosambee', 'watermilon']"
      ]
     },
     "execution_count": 375,
     "metadata": {},
     "output_type": "execute_result"
    }
   ],
   "source": [
    "listofFruits[1:] # after first index items from the list"
   ]
  },
  {
   "cell_type": "markdown",
   "id": "3e8b7cc6-94fe-43e9-8533-8de7b0098253",
   "metadata": {},
   "source": [
    "# Add remove items from the list"
   ]
  },
  {
   "cell_type": "code",
   "execution_count": 383,
   "id": "afd76729-7650-421e-a2ec-ee2045347e0b",
   "metadata": {},
   "outputs": [
    {
     "data": {
      "text/plain": [
       "['mango',\n",
       " 'banana',\n",
       " 'apple',\n",
       " 'gova',\n",
       " 'avacado',\n",
       " 'pinaple',\n",
       " 'mosambee',\n",
       " 'watermilon']"
      ]
     },
     "execution_count": 383,
     "metadata": {},
     "output_type": "execute_result"
    }
   ],
   "source": [
    "listofFruits"
   ]
  },
  {
   "cell_type": "code",
   "execution_count": 384,
   "id": "e0b0e1e6-2a23-4e93-845b-cc78266ef229",
   "metadata": {},
   "outputs": [],
   "source": [
    "listofFruits.append('dragon fruit') #Adding a new fruit into the list item"
   ]
  },
  {
   "cell_type": "code",
   "execution_count": 385,
   "id": "1caa19c5-1de8-4e39-a7d9-cc327bba92e3",
   "metadata": {},
   "outputs": [
    {
     "data": {
      "text/plain": [
       "['mango',\n",
       " 'banana',\n",
       " 'apple',\n",
       " 'gova',\n",
       " 'avacado',\n",
       " 'pinaple',\n",
       " 'mosambee',\n",
       " 'watermilon',\n",
       " 'dragon fruit']"
      ]
     },
     "execution_count": 385,
     "metadata": {},
     "output_type": "execute_result"
    }
   ],
   "source": [
    "listofFruits"
   ]
  },
  {
   "cell_type": "code",
   "execution_count": 389,
   "id": "4548a835-57c8-4c14-a5b4-4b5e13136507",
   "metadata": {},
   "outputs": [
    {
     "data": {
      "text/plain": [
       "['mango',\n",
       " 'banana',\n",
       " 'apple',\n",
       " 'grapes',\n",
       " 'gova',\n",
       " 'avacado',\n",
       " 'pinaple',\n",
       " 'mosambee',\n",
       " 'watermilon',\n",
       " 'dragon fruit']"
      ]
     },
     "execution_count": 389,
     "metadata": {},
     "output_type": "execute_result"
    }
   ],
   "source": [
    "listofFruits.insert(3,'grapes') #Adding a new fruit item at index 3\n",
    "listofFruits"
   ]
  },
  {
   "cell_type": "code",
   "execution_count": 390,
   "id": "c4bc94f8-3421-4659-ae6c-cee3c22e6086",
   "metadata": {},
   "outputs": [
    {
     "data": {
      "text/plain": [
       "['mango',\n",
       " 'banana',\n",
       " 'apple',\n",
       " 'grapes',\n",
       " 'gova',\n",
       " 'avacado',\n",
       " 'pinaple',\n",
       " 'mosambee',\n",
       " 'watermilon']"
      ]
     },
     "execution_count": 390,
     "metadata": {},
     "output_type": "execute_result"
    }
   ],
   "source": [
    "listofFruits.pop() # removes the last element from the list\n",
    "listofFruits"
   ]
  },
  {
   "cell_type": "code",
   "execution_count": 391,
   "id": "d3cac2d0-c7bc-43e1-a4ad-bb7ac4220128",
   "metadata": {},
   "outputs": [
    {
     "data": {
      "text/plain": [
       "['mango',\n",
       " 'banana',\n",
       " 'apple',\n",
       " 'gova',\n",
       " 'avacado',\n",
       " 'pinaple',\n",
       " 'mosambee',\n",
       " 'watermilon']"
      ]
     },
     "execution_count": 391,
     "metadata": {},
     "output_type": "execute_result"
    }
   ],
   "source": [
    "listofFruits.pop(3) # removes the item from the thrid index\n",
    "listofFruits"
   ]
  },
  {
   "cell_type": "code",
   "execution_count": 392,
   "id": "1c437b14-2cf7-43df-88f5-26bd5c5ad917",
   "metadata": {},
   "outputs": [],
   "source": [
    "listofFruits[1] = 'dragon' # change the element of the list"
   ]
  },
  {
   "cell_type": "code",
   "execution_count": 393,
   "id": "48f877b3-0bf7-45ac-82b6-ba8c8f095e93",
   "metadata": {},
   "outputs": [
    {
     "data": {
      "text/plain": [
       "['mango',\n",
       " 'dragon',\n",
       " 'apple',\n",
       " 'gova',\n",
       " 'avacado',\n",
       " 'pinaple',\n",
       " 'mosambee',\n",
       " 'watermilon']"
      ]
     },
     "execution_count": 393,
     "metadata": {},
     "output_type": "execute_result"
    }
   ],
   "source": [
    "listofFruits"
   ]
  },
  {
   "cell_type": "code",
   "execution_count": 394,
   "id": "4d985a95-7444-4ea3-acdb-59d4081e6fa9",
   "metadata": {},
   "outputs": [
    {
     "data": {
      "text/plain": [
       "['mango', 'dragon', 'apple', 'gova', 'avacado', 'mosambee', 'watermilon']"
      ]
     },
     "execution_count": 394,
     "metadata": {},
     "output_type": "execute_result"
    }
   ],
   "source": [
    "listofFruits.remove('pinaple')\n",
    "listofFruits"
   ]
  },
  {
   "cell_type": "code",
   "execution_count": 395,
   "id": "ea19583b-3030-431d-a408-429a6b5345d4",
   "metadata": {},
   "outputs": [
    {
     "data": {
      "text/plain": [
       "[]"
      ]
     },
     "execution_count": 395,
     "metadata": {},
     "output_type": "execute_result"
    }
   ],
   "source": [
    "listofFruits.clear()\n",
    "listofFruits"
   ]
  },
  {
   "cell_type": "code",
   "execution_count": 403,
   "id": "fd5e88f4-6e1c-42c9-a6e8-8ec5ec5b331d",
   "metadata": {},
   "outputs": [],
   "source": [
    "del listofFruits"
   ]
  },
  {
   "cell_type": "code",
   "execution_count": 404,
   "id": "a1d47ea0-4364-4a68-aaa8-b5fb037bf13c",
   "metadata": {},
   "outputs": [
    {
     "ename": "NameError",
     "evalue": "name 'listofFruits' is not defined",
     "output_type": "error",
     "traceback": [
      "\u001b[1;31m---------------------------------------------------------------------------\u001b[0m",
      "\u001b[1;31mNameError\u001b[0m                                 Traceback (most recent call last)",
      "Cell \u001b[1;32mIn[404], line 1\u001b[0m\n\u001b[1;32m----> 1\u001b[0m listofFruits\n",
      "\u001b[1;31mNameError\u001b[0m: name 'listofFruits' is not defined"
     ]
    }
   ],
   "source": [
    "listofFruits"
   ]
  },
  {
   "cell_type": "markdown",
   "id": "945e33da-88c3-4c3b-8b81-81a2c980eb54",
   "metadata": {},
   "source": [
    " # Copy List"
   ]
  },
  {
   "cell_type": "code",
   "execution_count": null,
   "id": "f9ed9330-5857-43fe-972c-2be5a9f76d93",
   "metadata": {},
   "outputs": [],
   "source": [
    "mylist =['one', 'two', 'three', 'four', 'five', 'six', 'seven', 'eight', 'nine', 'ten']\n",
    "mylist"
   ]
  },
  {
   "cell_type": "code",
   "execution_count": 407,
   "id": "d90b4b8c-9176-4b6d-bdd8-cc68a49e2432",
   "metadata": {},
   "outputs": [],
   "source": [
    "mylist1 = mylist # creating a new list"
   ]
  },
  {
   "cell_type": "code",
   "execution_count": 409,
   "id": "da3a44bf-43ad-4558-8616-d59b7f27bad7",
   "metadata": {},
   "outputs": [
    {
     "data": {
      "text/plain": [
       "['one', 'two', 'three', 1, 'five', 'six', 'seven', 'eight', 'nine', 'ten']"
      ]
     },
     "execution_count": 409,
     "metadata": {},
     "output_type": "execute_result"
    }
   ],
   "source": [
    "mylist1"
   ]
  },
  {
   "cell_type": "code",
   "execution_count": 411,
   "id": "c107c4a8-08f7-4fb3-a5e6-a64436de50d3",
   "metadata": {},
   "outputs": [
    {
     "data": {
      "text/plain": [
       "(1856438528768, 1856438528768)"
      ]
     },
     "execution_count": 411,
     "metadata": {},
     "output_type": "execute_result"
    }
   ],
   "source": [
    "id(mylist), id(mylist1)"
   ]
  },
  {
   "cell_type": "code",
   "execution_count": 412,
   "id": "3e4dc394-f09d-4e12-bce4-6f2e0220f798",
   "metadata": {},
   "outputs": [
    {
     "data": {
      "text/plain": [
       "['one', 'two', 'three', 1, 'five', 'six', 'seven', 'eight', 'nine', 'ten']"
      ]
     },
     "execution_count": 412,
     "metadata": {},
     "output_type": "execute_result"
    }
   ],
   "source": [
    "mylist2 = mylist1.copy() # copies the data to the new list\n",
    "mylist2"
   ]
  },
  {
   "cell_type": "code",
   "execution_count": 415,
   "id": "b570c267-3974-4b2d-912b-a2a3d540554c",
   "metadata": {},
   "outputs": [
    {
     "data": {
      "text/plain": [
       "(1856438528768, 1856475028736)"
      ]
     },
     "execution_count": 415,
     "metadata": {},
     "output_type": "execute_result"
    }
   ],
   "source": [
    "id(mylist1), id(mylist2) # the address will be different as when copy the a seperate mempry will be allocated"
   ]
  },
  {
   "cell_type": "code",
   "execution_count": 416,
   "id": "e305aa77-800f-4983-ae1b-d50a020401bc",
   "metadata": {},
   "outputs": [
    {
     "data": {
      "text/plain": [
       "['one', 'two', 'three', 1, 'five', 'six', 'seven', 'eight', 'nine', 'ten']"
      ]
     },
     "execution_count": 416,
     "metadata": {},
     "output_type": "execute_result"
    }
   ],
   "source": [
    "# overwrite data at the 3rd position of the list\n",
    "mylist[3] = 1\n",
    "mylist"
   ]
  },
  {
   "cell_type": "markdown",
   "id": "e49ff53e-85e2-4128-b312-c37d44d93e8e",
   "metadata": {},
   "source": [
    "# Join List"
   ]
  },
  {
   "cell_type": "code",
   "execution_count": 418,
   "id": "41523f6d-1000-4569-b1c0-6c0a61c02686",
   "metadata": {},
   "outputs": [],
   "source": [
    "list1 = ['one', 'two', 'three', 'four']\n",
    "list2 = ['five', 'six', 'seven']\n",
    "list3 = list1 + list2 # concatenate two list into new list\n",
    "list1.extend(list2) # merges two list into a single list"
   ]
  },
  {
   "cell_type": "code",
   "execution_count": 422,
   "id": "29d96b1e-1e54-4524-aac7-0b531b95e7ea",
   "metadata": {},
   "outputs": [
    {
     "name": "stdout",
     "output_type": "stream",
     "text": [
      "['one', 'two', 'three', 'four', 'five', 'six', 'seven']\n",
      "['one', 'two', 'three', 'four', 'five', 'six', 'seven']\n"
     ]
    }
   ],
   "source": [
    "print(list3)\n",
    "print(list1)"
   ]
  },
  {
   "cell_type": "markdown",
   "id": "ad63db03-4fbf-4fda-af86-706f789d33d4",
   "metadata": {},
   "source": [
    "# List Membership"
   ]
  },
  {
   "cell_type": "code",
   "execution_count": 433,
   "id": "61018070-ec70-4d00-aee6-6cffc4147e6c",
   "metadata": {},
   "outputs": [
    {
     "data": {
      "text/plain": [
       "['one', 'two', 'three', 'four', 'five', 'six', 'seven']"
      ]
     },
     "execution_count": 433,
     "metadata": {},
     "output_type": "execute_result"
    }
   ],
   "source": [
    "list1"
   ]
  },
  {
   "cell_type": "code",
   "execution_count": 435,
   "id": "7e69836a-bc79-4b87-bac2-b66308dde18b",
   "metadata": {},
   "outputs": [
    {
     "data": {
      "text/plain": [
       "True"
      ]
     },
     "execution_count": 435,
     "metadata": {},
     "output_type": "execute_result"
    }
   ],
   "source": [
    "'one' in list1 # checks and displays 'True' is exists"
   ]
  },
  {
   "cell_type": "code",
   "execution_count": 437,
   "id": "d4413f1f-38ba-4041-aeca-d78e5eb39f70",
   "metadata": {},
   "outputs": [
    {
     "data": {
      "text/plain": [
       "['five', 'six', 'seven']"
      ]
     },
     "execution_count": 437,
     "metadata": {},
     "output_type": "execute_result"
    }
   ],
   "source": [
    "list2"
   ]
  },
  {
   "cell_type": "code",
   "execution_count": 443,
   "id": "dc85ea0e-e1df-4ebe-b19a-99a48af2228b",
   "metadata": {},
   "outputs": [
    {
     "data": {
      "text/plain": [
       "False"
      ]
     },
     "execution_count": 443,
     "metadata": {},
     "output_type": "execute_result"
    }
   ],
   "source": [
    "'one' in list2 # checks and displays 'False' if not exists"
   ]
  },
  {
   "cell_type": "code",
   "execution_count": 448,
   "id": "9c3aea03-9d63-4d60-b367-c3df94e87107",
   "metadata": {},
   "outputs": [
    {
     "name": "stdout",
     "output_type": "stream",
     "text": [
      "found in the list1\n"
     ]
    }
   ],
   "source": [
    "if ('two' in list1):\n",
    "    print('found in the list1')\n",
    "else:\n",
    "    print('Not found in the list1')"
   ]
  },
  {
   "cell_type": "code",
   "execution_count": 454,
   "id": "05058da8-8a73-47fb-9e07-8d06f9f46a6e",
   "metadata": {},
   "outputs": [
    {
     "name": "stdout",
     "output_type": "stream",
     "text": [
      "Not found in the list1\n"
     ]
    }
   ],
   "source": [
    "if ('two' in list2):\n",
    "    print('found in the list1')\n",
    "else:\n",
    "    print('Not found in the list1')"
   ]
  },
  {
   "cell_type": "markdown",
   "id": "e7a40cfa-9061-4072-bfd8-1a69f6ba3d9c",
   "metadata": {},
   "source": [
    "# Reverse and sort list"
   ]
  },
  {
   "cell_type": "code",
   "execution_count": 473,
   "id": "6f411c83-b047-4f48-ade9-74b512dc6449",
   "metadata": {},
   "outputs": [
    {
     "data": {
      "text/plain": [
       "['seven', 'six', 'five', 'four', 'three', 'two', 'one']"
      ]
     },
     "execution_count": 473,
     "metadata": {},
     "output_type": "execute_result"
    }
   ],
   "source": [
    "list1"
   ]
  },
  {
   "cell_type": "code",
   "execution_count": 498,
   "id": "798c7e3d-1e35-4f64-bf1c-799f5e68eb54",
   "metadata": {},
   "outputs": [],
   "source": [
    "list1.reverse() # Reverse the list"
   ]
  },
  {
   "cell_type": "code",
   "execution_count": 500,
   "id": "7b01f0ef-4172-490b-89ed-0817d734d614",
   "metadata": {},
   "outputs": [
    {
     "data": {
      "text/plain": [
       "['seven', 'six', 'five', 'four', 'three', 'two', 'one']"
      ]
     },
     "execution_count": 500,
     "metadata": {},
     "output_type": "execute_result"
    }
   ],
   "source": [
    "list1 "
   ]
  },
  {
   "cell_type": "code",
   "execution_count": 502,
   "id": "6e1c72b8-40da-4e52-8c1d-6bc25e874d50",
   "metadata": {},
   "outputs": [
    {
     "data": {
      "text/plain": [
       "['one', 'two', 'three', 'four', 'five', 'six', 'seven']"
      ]
     },
     "execution_count": 502,
     "metadata": {},
     "output_type": "execute_result"
    }
   ],
   "source": [
    "list1 = list1[::-1] # Reverse the lsit\n",
    "list1"
   ]
  },
  {
   "cell_type": "code",
   "execution_count": 504,
   "id": "74fa7e06-7a48-4ab2-98e2-322af7ff7a09",
   "metadata": {},
   "outputs": [
    {
     "data": {
      "text/plain": [
       "[4, 3, 7, 5, 9, 0]"
      ]
     },
     "execution_count": 504,
     "metadata": {},
     "output_type": "execute_result"
    }
   ],
   "source": [
    "mylist2 = [4, 3, 7, 5, 9, 0]\n",
    "mylist2"
   ]
  },
  {
   "cell_type": "code",
   "execution_count": 510,
   "id": "0938b379-7aea-478e-8efd-c93f5659163a",
   "metadata": {},
   "outputs": [],
   "source": [
    "mylist2.sort() # sort list to ascending order"
   ]
  },
  {
   "cell_type": "code",
   "execution_count": 508,
   "id": "6225db27-f88a-4d31-8ef5-d76ea58a6e5f",
   "metadata": {},
   "outputs": [
    {
     "data": {
      "text/plain": [
       "[0, 3, 4, 5, 7, 9]"
      ]
     },
     "execution_count": 508,
     "metadata": {},
     "output_type": "execute_result"
    }
   ],
   "source": [
    "mylist2"
   ]
  },
  {
   "cell_type": "code",
   "execution_count": 512,
   "id": "b0581b3d-94fd-4b6f-92e6-a8f0715a0e27",
   "metadata": {},
   "outputs": [],
   "source": [
    "mylist2.sort(reverse=True) # sort decending order of the list"
   ]
  },
  {
   "cell_type": "code",
   "execution_count": 516,
   "id": "5178d5e1-59e0-4c0a-87f8-098619c07240",
   "metadata": {},
   "outputs": [
    {
     "data": {
      "text/plain": [
       "[9, 7, 5, 4, 3, 0]"
      ]
     },
     "execution_count": 516,
     "metadata": {},
     "output_type": "execute_result"
    }
   ],
   "source": [
    "mylist2"
   ]
  },
  {
   "cell_type": "markdown",
   "id": "c571c29c-0c60-461b-b760-fa4038df0175",
   "metadata": {},
   "source": [
    "# Loop through the list elements"
   ]
  },
  {
   "cell_type": "code",
   "execution_count": 519,
   "id": "792a4b03-0cd3-45e2-b76b-b8da9f46aa79",
   "metadata": {},
   "outputs": [
    {
     "name": "stdout",
     "output_type": "stream",
     "text": [
      "one\n",
      "two\n",
      "three\n",
      "four\n",
      "five\n",
      "six\n",
      "seven\n"
     ]
    }
   ],
   "source": [
    "for i in list1:\n",
    "    print(i)"
   ]
  },
  {
   "cell_type": "code",
   "execution_count": 527,
   "id": "70c53c76-351a-45ed-9726-78a51960c37b",
   "metadata": {},
   "outputs": [
    {
     "name": "stdout",
     "output_type": "stream",
     "text": [
      "(0, 'one')\n",
      "(1, 'two')\n",
      "(2, 'three')\n",
      "(3, 'four')\n",
      "(4, 'five')\n",
      "(5, 'six')\n",
      "(6, 'seven')\n"
     ]
    }
   ],
   "source": [
    "for i in enumerate(list1):\n",
    "    print(i)"
   ]
  },
  {
   "cell_type": "code",
   "execution_count": 532,
   "id": "6882574f-1a9c-4472-9c10-6d15e0a6128a",
   "metadata": {},
   "outputs": [
    {
     "data": {
      "text/plain": [
       "['one', 'two', 'three', 'four', 'five', 'one', 'two']"
      ]
     },
     "execution_count": 532,
     "metadata": {},
     "output_type": "execute_result"
    }
   ],
   "source": [
    "list10 =['one', 'two', 'three', 'four', 'five', 'one', 'two']\n",
    "list10"
   ]
  },
  {
   "cell_type": "code",
   "execution_count": 537,
   "id": "0d31fdb3-fd01-4547-a917-ad6f04663d6a",
   "metadata": {},
   "outputs": [
    {
     "data": {
      "text/plain": [
       "2"
      ]
     },
     "execution_count": 537,
     "metadata": {},
     "output_type": "execute_result"
    }
   ],
   "source": [
    "list10.count('one')"
   ]
  },
  {
   "cell_type": "code",
   "execution_count": 547,
   "id": "f7541ee1-fb56-412f-8fbe-7b02ad39e7fd",
   "metadata": {},
   "outputs": [
    {
     "data": {
      "text/plain": [
       "[0, 1, 2, 3, 4, 5]"
      ]
     },
     "execution_count": 547,
     "metadata": {},
     "output_type": "execute_result"
    }
   ],
   "source": [
    "L1 =[0,1,2,3,4,5]\n",
    "L1"
   ]
  },
  {
   "cell_type": "code",
   "execution_count": 553,
   "id": "dc535413-ed5b-4a1d-935b-436b014224f0",
   "metadata": {},
   "outputs": [
    {
     "data": {
      "text/plain": [
       "False"
      ]
     },
     "execution_count": 553,
     "metadata": {},
     "output_type": "execute_result"
    }
   ],
   "source": [
    "all(L1) # Will Return false as one value is false (Value 0)"
   ]
  },
  {
   "cell_type": "code",
   "execution_count": 555,
   "id": "f021a756-f5db-4b69-a5b0-2f194c43979c",
   "metadata": {},
   "outputs": [
    {
     "data": {
      "text/plain": [
       "True"
      ]
     },
     "execution_count": 555,
     "metadata": {},
     "output_type": "execute_result"
    }
   ],
   "source": [
    "any(L1) # Will Return True as we have items in the list with True value"
   ]
  },
  {
   "cell_type": "code",
   "execution_count": null,
   "id": "9f43578f-2d0a-4408-ad72-7e65c54df97d",
   "metadata": {},
   "outputs": [],
   "source": [
    "L2 = "
   ]
  },
  {
   "cell_type": "code",
   "execution_count": null,
   "id": "1f2aabc8-e1d7-4bdd-b7bf-f82f00fc336c",
   "metadata": {},
   "outputs": [],
   "source": []
  },
  {
   "cell_type": "code",
   "execution_count": null,
   "id": "3ad9c3df-dcfe-463b-a996-9d5a2c7b2930",
   "metadata": {},
   "outputs": [],
   "source": []
  },
  {
   "cell_type": "code",
   "execution_count": null,
   "id": "e457f0b8-4aed-43b3-a2c4-9d5b62224bd3",
   "metadata": {},
   "outputs": [],
   "source": []
  },
  {
   "cell_type": "code",
   "execution_count": null,
   "id": "58eaa536-c97c-4736-9b35-bafc13bee6a2",
   "metadata": {},
   "outputs": [],
   "source": []
  },
  {
   "cell_type": "code",
   "execution_count": null,
   "id": "7154741b-9303-46ee-a473-f64b9015df5a",
   "metadata": {},
   "outputs": [],
   "source": []
  }
 ],
 "metadata": {
  "kernelspec": {
   "display_name": "Python [conda env:base] *",
   "language": "python",
   "name": "conda-base-py"
  },
  "language_info": {
   "codemirror_mode": {
    "name": "ipython",
    "version": 3
   },
   "file_extension": ".py",
   "mimetype": "text/x-python",
   "name": "python",
   "nbconvert_exporter": "python",
   "pygments_lexer": "ipython3",
   "version": "3.12.7"
  }
 },
 "nbformat": 4,
 "nbformat_minor": 5
}
