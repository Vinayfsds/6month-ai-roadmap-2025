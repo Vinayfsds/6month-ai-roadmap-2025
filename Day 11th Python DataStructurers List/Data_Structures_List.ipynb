{
 "cells": [
  {
   "cell_type": "code",
   "execution_count": 1,
   "id": "cb6e1449-0d37-4ac2-a854-41c70e9e2a90",
   "metadata": {},
   "outputs": [
    {
     "data": {
      "text/plain": [
       "[]"
      ]
     },
     "execution_count": 1,
     "metadata": {},
     "output_type": "execute_result"
    }
   ],
   "source": [
    "l=[]\n",
    "l\n"
   ]
  },
  {
   "cell_type": "code",
   "execution_count": 3,
   "id": "eba19036-7ff3-4676-975a-5b9b27d462ec",
   "metadata": {},
   "outputs": [
    {
     "data": {
      "text/plain": [
       "[10, 20]"
      ]
     },
     "execution_count": 3,
     "metadata": {},
     "output_type": "execute_result"
    }
   ],
   "source": [
    "l.append(10)\n",
    "l.append(20)\n",
    "l"
   ]
  },
  {
   "cell_type": "code",
   "execution_count": 5,
   "id": "66f41920-20bd-4123-b4e3-d1ed01689b13",
   "metadata": {},
   "outputs": [],
   "source": [
    "l.append(30)\n",
    "l.append(40)\n",
    "l.append(10)"
   ]
  },
  {
   "cell_type": "code",
   "execution_count": 7,
   "id": "a3e2955b-e8f8-4e9a-8f1a-2a7c0a03166c",
   "metadata": {},
   "outputs": [
    {
     "data": {
      "text/plain": [
       "[10, 20, 30, 40, 10]"
      ]
     },
     "execution_count": 7,
     "metadata": {},
     "output_type": "execute_result"
    }
   ],
   "source": [
    "l"
   ]
  },
  {
   "cell_type": "code",
   "execution_count": 9,
   "id": "ca9b940a-e97b-4414-b9d5-91603f43600b",
   "metadata": {},
   "outputs": [
    {
     "data": {
      "text/plain": [
       "5"
      ]
     },
     "execution_count": 9,
     "metadata": {},
     "output_type": "execute_result"
    }
   ],
   "source": [
    "len(l)"
   ]
  },
  {
   "cell_type": "code",
   "execution_count": 22,
   "id": "ec0f3a5b-98bb-4829-b720-e743c8541a39",
   "metadata": {},
   "outputs": [],
   "source": [
    "l1= l.copy()"
   ]
  },
  {
   "cell_type": "code",
   "execution_count": 24,
   "id": "519ba8c0-c5f3-452b-b5f3-5474041aae13",
   "metadata": {},
   "outputs": [
    {
     "data": {
      "text/plain": [
       "[10, 20, 30, 40, 10]"
      ]
     },
     "execution_count": 24,
     "metadata": {},
     "output_type": "execute_result"
    }
   ],
   "source": [
    "l1"
   ]
  },
  {
   "cell_type": "code",
   "execution_count": 26,
   "id": "8a30dd3e-17b2-46fc-8e5b-4b790aaaee73",
   "metadata": {},
   "outputs": [
    {
     "data": {
      "text/plain": [
       "True"
      ]
     },
     "execution_count": 26,
     "metadata": {},
     "output_type": "execute_result"
    }
   ],
   "source": [
    "l1 ==l"
   ]
  },
  {
   "cell_type": "code",
   "execution_count": 28,
   "id": "befce3e0-5599-44c0-aae8-43d65977fff3",
   "metadata": {},
   "outputs": [],
   "source": [
    "l9 =[]\n",
    "l9.append(2.3)\n",
    "l9.append('nit')\n",
    "l9.append(1+ 2j)\n",
    "l9.append([1,2,3])"
   ]
  },
  {
   "cell_type": "code",
   "execution_count": 32,
   "id": "1af9ea85-fe93-4c55-94fb-98b72cbc2747",
   "metadata": {},
   "outputs": [
    {
     "data": {
      "text/plain": [
       "[2.3, 'nit', (1+2j), [1, 2, 3]]"
      ]
     },
     "execution_count": 32,
     "metadata": {},
     "output_type": "execute_result"
    }
   ],
   "source": [
    "l9"
   ]
  },
  {
   "cell_type": "code",
   "execution_count": 43,
   "id": "fa533e71-5f02-4276-a1c8-5c2a75b8ee30",
   "metadata": {},
   "outputs": [
    {
     "name": "stdout",
     "output_type": "stream",
     "text": [
      "5\n",
      "5\n",
      "4\n"
     ]
    }
   ],
   "source": [
    "print(len(l))\n",
    "print(len(l1))\n",
    "print(len(l9))"
   ]
  },
  {
   "cell_type": "code",
   "execution_count": 47,
   "id": "3d8fa98b-cda2-43bd-bb33-0568fe8ca0db",
   "metadata": {},
   "outputs": [
    {
     "name": "stdout",
     "output_type": "stream",
     "text": [
      "2096833246208\n",
      "2096874728832\n",
      "2096876007616\n"
     ]
    }
   ],
   "source": [
    "print(id(l))\n",
    "print(id(l1))\n",
    "print(id(l9))"
   ]
  },
  {
   "cell_type": "markdown",
   "id": "520be086-6068-480f-be11-fce6197e8737",
   "metadata": {},
   "source": [
    "# can you write patterns"
   ]
  },
  {
   "cell_type": "code",
   "execution_count": 59,
   "id": "f5cb4ff9-0c20-41ce-a4a6-468d62a24059",
   "metadata": {},
   "outputs": [
    {
     "data": {
      "text/plain": [
       "<function list.count(value, /)>"
      ]
     },
     "execution_count": 59,
     "metadata": {},
     "output_type": "execute_result"
    }
   ],
   "source": [
    "l.count\n"
   ]
  },
  {
   "cell_type": "code",
   "execution_count": 63,
   "id": "37cbe554-cd30-4299-a402-d34c77506e69",
   "metadata": {},
   "outputs": [
    {
     "data": {
      "text/plain": [
       "1"
      ]
     },
     "execution_count": 63,
     "metadata": {},
     "output_type": "execute_result"
    }
   ],
   "source": [
    "l.count(20)"
   ]
  },
  {
   "cell_type": "code",
   "execution_count": 73,
   "id": "665212ee-d637-446c-9d36-97a0cc54daca",
   "metadata": {},
   "outputs": [
    {
     "data": {
      "text/plain": [
       "2"
      ]
     },
     "execution_count": 73,
     "metadata": {},
     "output_type": "execute_result"
    }
   ],
   "source": [
    "l.count(10)"
   ]
  },
  {
   "cell_type": "code",
   "execution_count": 82,
   "id": "32272b88-95ed-45bc-8e70-cb2183a2ae2a",
   "metadata": {},
   "outputs": [
    {
     "data": {
      "text/plain": [
       "1"
      ]
     },
     "execution_count": 82,
     "metadata": {},
     "output_type": "execute_result"
    }
   ],
   "source": [
    "l9.count('nit')"
   ]
  },
  {
   "cell_type": "code",
   "execution_count": 95,
   "id": "79d7581a-81fa-4778-b2b3-6fadac5076f2",
   "metadata": {},
   "outputs": [],
   "source": [
    "l[0] = 230"
   ]
  },
  {
   "cell_type": "code",
   "execution_count": 97,
   "id": "9ac3549c-5c60-49c5-8012-094e1ccce391",
   "metadata": {},
   "outputs": [
    {
     "data": {
      "text/plain": [
       "[230, 20, 30, 40, 10]"
      ]
     },
     "execution_count": 97,
     "metadata": {},
     "output_type": "execute_result"
    }
   ],
   "source": [
    "l"
   ]
  },
  {
   "cell_type": "code",
   "execution_count": 99,
   "id": "b5c56edc-a2c6-4715-b49e-2dc41704f38f",
   "metadata": {},
   "outputs": [
    {
     "data": {
      "text/plain": [
       "5"
      ]
     },
     "execution_count": 99,
     "metadata": {},
     "output_type": "execute_result"
    }
   ],
   "source": [
    "len(l1)"
   ]
  },
  {
   "cell_type": "code",
   "execution_count": 101,
   "id": "0375a378-5e48-4b99-9950-d31a0b5bd4ee",
   "metadata": {},
   "outputs": [
    {
     "data": {
      "text/plain": [
       "[]"
      ]
     },
     "execution_count": 101,
     "metadata": {},
     "output_type": "execute_result"
    }
   ],
   "source": [
    "l1.clear()\n",
    "l1"
   ]
  },
  {
   "cell_type": "code",
   "execution_count": 105,
   "id": "f09415b7-e83d-4d55-8b40-09ed717b5215",
   "metadata": {},
   "outputs": [
    {
     "data": {
      "text/plain": [
       "0"
      ]
     },
     "execution_count": 105,
     "metadata": {},
     "output_type": "execute_result"
    }
   ],
   "source": [
    "len(l1)"
   ]
  },
  {
   "cell_type": "code",
   "execution_count": 113,
   "id": "3c3323a7-552b-4db7-8680-65ed7884a850",
   "metadata": {},
   "outputs": [
    {
     "ename": "NameError",
     "evalue": "name 'l1' is not defined",
     "output_type": "error",
     "traceback": [
      "\u001b[1;31m---------------------------------------------------------------------------\u001b[0m",
      "\u001b[1;31mNameError\u001b[0m                                 Traceback (most recent call last)",
      "Cell \u001b[1;32mIn[113], line 2\u001b[0m\n\u001b[0;32m      1\u001b[0m \u001b[38;5;28;01mdel\u001b[39;00m l1\n\u001b[1;32m----> 2\u001b[0m l1\n",
      "\u001b[1;31mNameError\u001b[0m: name 'l1' is not defined"
     ]
    }
   ],
   "source": [
    "del l1\n",
    "l1"
   ]
  },
  {
   "cell_type": "code",
   "execution_count": 119,
   "id": "3d023a7a-b009-4c7e-bb22-a7d158dbde28",
   "metadata": {},
   "outputs": [
    {
     "data": {
      "text/plain": [
       "[2.3, 'nit', (1+2j), [1, 2, 3]]"
      ]
     },
     "execution_count": 119,
     "metadata": {},
     "output_type": "execute_result"
    }
   ],
   "source": [
    "l9\n"
   ]
  },
  {
   "cell_type": "code",
   "execution_count": 124,
   "id": "97f52a5e-3832-480f-87ed-4ca58d351f04",
   "metadata": {},
   "outputs": [
    {
     "data": {
      "text/plain": [
       "(1+2j)"
      ]
     },
     "execution_count": 124,
     "metadata": {},
     "output_type": "execute_result"
    }
   ],
   "source": [
    "l9.pop(2)"
   ]
  },
  {
   "cell_type": "code",
   "execution_count": 129,
   "id": "9218db25-5228-42c9-986d-86c7f1104061",
   "metadata": {},
   "outputs": [
    {
     "data": {
      "text/plain": [
       "[2.3, 'nit', [1, 2, 3]]"
      ]
     },
     "execution_count": 129,
     "metadata": {},
     "output_type": "execute_result"
    }
   ],
   "source": [
    "l9"
   ]
  },
  {
   "cell_type": "code",
   "execution_count": 144,
   "id": "d81a2ccf-0ebb-444e-97b0-998b060bada9",
   "metadata": {},
   "outputs": [
    {
     "ename": "TypeError",
     "evalue": "insert expected 2 arguments, got 1",
     "output_type": "error",
     "traceback": [
      "\u001b[1;31m---------------------------------------------------------------------------\u001b[0m",
      "\u001b[1;31mTypeError\u001b[0m                                 Traceback (most recent call last)",
      "Cell \u001b[1;32mIn[144], line 1\u001b[0m\n\u001b[1;32m----> 1\u001b[0m l9\u001b[38;5;241m.\u001b[39minsert(\u001b[38;5;241m3456\u001b[39m)\n\u001b[0;32m      2\u001b[0m l9\n",
      "\u001b[1;31mTypeError\u001b[0m: insert expected 2 arguments, got 1"
     ]
    }
   ],
   "source": [
    "l9.insert(3456)\n",
    "l9"
   ]
  },
  {
   "cell_type": "code",
   "execution_count": 150,
   "id": "879f0df0-5708-4b8f-be35-006de50d040f",
   "metadata": {},
   "outputs": [],
   "source": [
    "l9.insert(len(l9),4)"
   ]
  },
  {
   "cell_type": "code",
   "execution_count": 152,
   "id": "72780c7d-d556-49e4-9a7e-423ce94d9373",
   "metadata": {},
   "outputs": [
    {
     "data": {
      "text/plain": [
       "[2.3, 'nit', [1, 2, 3], 4]"
      ]
     },
     "execution_count": 152,
     "metadata": {},
     "output_type": "execute_result"
    }
   ],
   "source": [
    "l9\n"
   ]
  },
  {
   "cell_type": "code",
   "execution_count": null,
   "id": "af330dba-f730-464e-adda-d5770223e8e0",
   "metadata": {},
   "outputs": [],
   "source": []
  },
  {
   "cell_type": "code",
   "execution_count": null,
   "id": "9b058dde-c2d3-4f4f-8eef-e749c38b6be6",
   "metadata": {},
   "outputs": [],
   "source": []
  },
  {
   "cell_type": "code",
   "execution_count": null,
   "id": "0909c07c-84ba-4fe1-9904-aa5dfc2b4118",
   "metadata": {},
   "outputs": [],
   "source": []
  },
  {
   "cell_type": "code",
   "execution_count": null,
   "id": "650d060a-864a-420f-ac07-fb9d3083e2a8",
   "metadata": {},
   "outputs": [],
   "source": []
  },
  {
   "cell_type": "code",
   "execution_count": null,
   "id": "f2c7269f-e2cd-4f63-b46e-18cd3e799e97",
   "metadata": {},
   "outputs": [],
   "source": []
  },
  {
   "cell_type": "code",
   "execution_count": null,
   "id": "54151597-075a-4e86-87dc-11ac6a161505",
   "metadata": {},
   "outputs": [],
   "source": []
  },
  {
   "cell_type": "code",
   "execution_count": null,
   "id": "2c1398f3-7eb2-4930-8219-ccf8c68404d2",
   "metadata": {},
   "outputs": [],
   "source": []
  },
  {
   "cell_type": "code",
   "execution_count": null,
   "id": "3dbe9851-7271-41ab-819e-4114a98d15c3",
   "metadata": {},
   "outputs": [],
   "source": []
  }
 ],
 "metadata": {
  "kernelspec": {
   "display_name": "Python [conda env:base] *",
   "language": "python",
   "name": "conda-base-py"
  },
  "language_info": {
   "codemirror_mode": {
    "name": "ipython",
    "version": 3
   },
   "file_extension": ".py",
   "mimetype": "text/x-python",
   "name": "python",
   "nbconvert_exporter": "python",
   "pygments_lexer": "ipython3",
   "version": "3.12.7"
  }
 },
 "nbformat": 4,
 "nbformat_minor": 5
}
