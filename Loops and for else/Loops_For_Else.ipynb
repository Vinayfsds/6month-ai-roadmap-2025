{
 "cells": [
  {
   "cell_type": "markdown",
   "id": "98825ef9-2362-418b-a152-df2247b2d278",
   "metadata": {},
   "source": [
    "Loops -- in software program if a task to be perform repeatedly, we use loops. It may be because of condition base or due to \n",
    "due to repeated actions.\n",
    "\n",
    "There are two types of loops \n",
    "- While loop\n",
    "- For loop"
   ]
  },
  {
   "cell_type": "code",
   "execution_count": 1,
   "id": "5bafa904-a742-4729-81bd-6c594e5d9921",
   "metadata": {},
   "outputs": [
    {
     "name": "stdout",
     "output_type": "stream",
     "text": [
      "data science\n",
      "data science\n",
      "data science\n",
      "data science\n",
      "data science\n"
     ]
    }
   ],
   "source": [
    "print('data science')\n",
    "print('data science')\n",
    "print('data science')\n",
    "print('data science')    \n",
    "print('data science')"
   ]
  },
  {
   "cell_type": "code",
   "execution_count": 2,
   "id": "61c02c9c-8ee3-4866-8293-dc09402d657f",
   "metadata": {},
   "outputs": [
    {
     "name": "stdout",
     "output_type": "stream",
     "text": [
      "data science\n",
      "data science\n",
      "data science\n"
     ]
    }
   ],
   "source": [
    "i = 1          # initializing\n",
    "\n",
    "while i<=3:    # condition\n",
    "    print('data science')\n",
    "    i = i + 1  # increment"
   ]
  },
  {
   "cell_type": "code",
   "execution_count": 4,
   "id": "a3ba07a9-3c87-4ab8-b013-998c7f6fd781",
   "metadata": {},
   "outputs": [
    {
     "name": "stdout",
     "output_type": "stream",
     "text": [
      "data science\n",
      "data science\n",
      "data science\n",
      "data science\n",
      "data science\n"
     ]
    }
   ],
   "source": [
    "i = 5          # initializing\n",
    "\n",
    "while i>=1:    # condition\n",
    "    print('data science')\n",
    "    i = i - 1  # decrement"
   ]
  },
  {
   "cell_type": "code",
   "execution_count": 5,
   "id": "b93e494e-a031-4e0d-b7c1-e86692ca5ce1",
   "metadata": {},
   "outputs": [
    {
     "name": "stdout",
     "output_type": "stream",
     "text": [
      "data science :  1\n",
      "data science :  2\n",
      "data science :  3\n",
      "data science :  4\n",
      "data science :  5\n"
     ]
    }
   ],
   "source": [
    "i = 1         # initializing\n",
    "while i<=5:    # condition\n",
    "    print('data science : ', i)\n",
    "    i = i + 1  # increment"
   ]
  },
  {
   "cell_type": "code",
   "execution_count": 3,
   "id": "658d1c35-3b3f-42e6-9e23-0849ce9ac13b",
   "metadata": {},
   "outputs": [
    {
     "name": "stdout",
     "output_type": "stream",
     "text": [
      "data science : 5\n",
      "data science : 4\n",
      "data science : 3\n",
      "data science : 2\n",
      "data science : 1\n"
     ]
    }
   ],
   "source": [
    "i = 5\n",
    "while i >=1:\n",
    "    print('data science :', i)\n",
    "    i = i - 1"
   ]
  },
  {
   "cell_type": "code",
   "execution_count": 6,
   "id": "e8aef976-82df-4159-9ad7-938f1aff4774",
   "metadata": {},
   "outputs": [
    {
     "name": "stdout",
     "output_type": "stream",
     "text": [
      "data science : 1\n",
      "technology :  1\n",
      "technology :  2\n",
      "technology :  3\n",
      "technology :  4\n",
      "data science : 2\n",
      "technology :  1\n",
      "technology :  2\n",
      "technology :  3\n",
      "technology :  4\n",
      "data science : 3\n",
      "technology :  1\n",
      "technology :  2\n",
      "technology :  3\n",
      "technology :  4\n",
      "data science : 4\n",
      "technology :  1\n",
      "technology :  2\n",
      "technology :  3\n",
      "technology :  4\n",
      "data science : 5\n",
      "technology :  1\n",
      "technology :  2\n",
      "technology :  3\n",
      "technology :  4\n"
     ]
    }
   ],
   "source": [
    "#nested while loop\n",
    "i = 1\n",
    "\n",
    "while i <=5:\n",
    "    print('data science :', i)\n",
    "    j =1\n",
    "    while j <=4:\n",
    "        print('technology : ', j)\n",
    "        j = j + 1\n",
    "    i = i +1\n",
    "\n"
   ]
  },
  {
   "cell_type": "code",
   "execution_count": 15,
   "id": "b7dfff19-5248-4cd9-84e8-68002207d913",
   "metadata": {
    "scrolled": true
   },
   "outputs": [
    {
     "name": "stdout",
     "output_type": "stream",
     "text": [
      "data science technology technology technology technology \n",
      "data science technology technology technology technology \n",
      "data science technology technology technology technology \n",
      "data science technology technology technology technology \n",
      "data science technology technology technology technology \n"
     ]
    }
   ],
   "source": [
    "i = 1\n",
    "\n",
    "while i <= 5:\n",
    "    print('data science', end= ' ')\n",
    "    j = 1\n",
    "    while j <=4:\n",
    "        print('technology', end= ' ')\n",
    "        j = j + 1\n",
    "        \n",
    "    i = i + 1\n",
    "    print()"
   ]
  },
  {
   "cell_type": "code",
   "execution_count": 17,
   "id": "6fba541b-7976-4098-8e78-2974b462ac7e",
   "metadata": {},
   "outputs": [
    {
     "name": "stdout",
     "output_type": "stream",
     "text": [
      "0 1 2 \n",
      "0 2 4 \n"
     ]
    }
   ],
   "source": [
    "# lets use while loop usig some numbers\n",
    "i = 1\n",
    "\n",
    "while i <= 2 :\n",
    "    j = 0\n",
    "    while  j <= 2 :\n",
    "        print(i*j, end=\" \")\n",
    "        j += 1\n",
    "    print()\n",
    "    i += 1"
   ]
  },
  {
   "cell_type": "code",
   "execution_count": 22,
   "id": "aa41a807-35ea-4171-9434-7b9d54ea9722",
   "metadata": {},
   "outputs": [
    {
     "name": "stdout",
     "output_type": "stream",
     "text": [
      "0 1 2 3 4 \n",
      "0 2 4 6 8 \n",
      "0 3 6 9 12 \n",
      "0 4 8 12 16 \n"
     ]
    }
   ],
   "source": [
    "i = 1\n",
    "\n",
    "while i <= 4:\n",
    "    j =0\n",
    "    while j <=4:\n",
    "        print(i * j, end = \" \")\n",
    "        j = j + 1\n",
    "    i = i + 1\n",
    "    print()"
   ]
  },
  {
   "cell_type": "code",
   "execution_count": 24,
   "id": "38fc4d6f-3189-4d32-a0ec-24cfbfc42a67",
   "metadata": {},
   "outputs": [
    {
     "name": "stdout",
     "output_type": "stream",
     "text": [
      "v\n",
      "i\n",
      "n\n",
      "a\n",
      "y\n"
     ]
    }
   ],
   "source": [
    "name = 'vinay'\n",
    "\n",
    "for i in name:\n",
    "    print(i)"
   ]
  },
  {
   "cell_type": "code",
   "execution_count": 29,
   "id": "0073c647-8ce1-4d34-b420-e4b516d6f50b",
   "metadata": {},
   "outputs": [
    {
     "name": "stdout",
     "output_type": "stream",
     "text": [
      "1 3.5 vinay "
     ]
    }
   ],
   "source": [
    "name1 = [1,3.5,'vinay'] #i want print the value individualy\n",
    "\n",
    "for i in name1:\n",
    "    print(i, end = \" \")"
   ]
  },
  {
   "cell_type": "code",
   "execution_count": 31,
   "id": "30f5fee0-825d-4403-bc57-3dd70c06743d",
   "metadata": {},
   "outputs": [
    {
     "data": {
      "text/plain": [
       "range(0, 10)"
      ]
     },
     "execution_count": 31,
     "metadata": {},
     "output_type": "execute_result"
    }
   ],
   "source": [
    "range(10)"
   ]
  },
  {
   "cell_type": "code",
   "execution_count": 33,
   "id": "3312ddaa-2ced-4081-a87c-e3e88f1b31fb",
   "metadata": {},
   "outputs": [
    {
     "name": "stdout",
     "output_type": "stream",
     "text": [
      "0\n",
      "1\n",
      "2\n",
      "3\n",
      "4\n",
      "5\n",
      "6\n",
      "7\n",
      "8\n",
      "9\n"
     ]
    }
   ],
   "source": [
    "for i in range(10):\n",
    "    print(i)"
   ]
  },
  {
   "cell_type": "code",
   "execution_count": 35,
   "id": "8f86406d-aaee-4cee-a3ae-4750593226a4",
   "metadata": {},
   "outputs": [
    {
     "name": "stdout",
     "output_type": "stream",
     "text": [
      "2\n",
      "3\n",
      "4\n",
      "5\n",
      "6\n",
      "7\n",
      "8\n",
      "9\n"
     ]
    }
   ],
   "source": [
    "for i in range(2,10):\n",
    "    print(i)"
   ]
  },
  {
   "cell_type": "code",
   "execution_count": 40,
   "id": "1cd7de60-0281-47a0-9df1-025fff44ff1b",
   "metadata": {},
   "outputs": [
    {
     "name": "stdout",
     "output_type": "stream",
     "text": [
      "1\n",
      "5\n",
      "9\n"
     ]
    }
   ],
   "source": [
    "for i in range(1,10,4):\n",
    "    print(i)"
   ]
  },
  {
   "cell_type": "code",
   "execution_count": 48,
   "id": "2504e951-2706-49ec-8484-9be79cb9fde4",
   "metadata": {},
   "outputs": [
    {
     "name": "stdout",
     "output_type": "stream",
     "text": [
      "0\n",
      "1\n",
      "2\n",
      "3\n",
      "4\n"
     ]
    }
   ],
   "source": [
    "for i in range(5):\n",
    "    print(i)"
   ]
  },
  {
   "cell_type": "code",
   "execution_count": 56,
   "id": "4dcd6f16-24f2-4ad5-b85d-6c99c6aaf0ff",
   "metadata": {},
   "outputs": [
    {
     "name": "stdout",
     "output_type": "stream",
     "text": [
      "5 * 1 = 5\n",
      "5 * 2 = 10\n",
      "5 * 3 = 15\n",
      "5 * 4 = 20\n",
      "5 * 5 = 25\n",
      "5 * 6 = 30\n",
      "5 * 7 = 35\n",
      "5 * 8 = 40\n",
      "5 * 9 = 45\n",
      "5 * 10 = 50\n"
     ]
    }
   ],
   "source": [
    "# multiple of 5\n",
    "for i in range(1,11):\n",
    "    j = 5\n",
    "    print(f'{j} * {i} = {i * j}')\n",
    "    i +=1"
   ]
  },
  {
   "cell_type": "code",
   "execution_count": 58,
   "id": "d845b684-fafe-4636-b985-6a8b33f2a616",
   "metadata": {},
   "outputs": [
    {
     "name": "stdout",
     "output_type": "stream",
     "text": [
      "1\n",
      "2\n",
      "3\n",
      "4\n",
      "5\n"
     ]
    }
   ],
   "source": [
    "#brek statement breaks the loop\n",
    "for i in range(1,11):\n",
    "    if i == 6:\n",
    "       break \n",
    "    print(i)"
   ]
  },
  {
   "cell_type": "code",
   "execution_count": 64,
   "id": "bf678cde-c3b6-41d5-a132-0193be94001f",
   "metadata": {},
   "outputs": [
    {
     "name": "stdout",
     "output_type": "stream",
     "text": [
      "1\n",
      "2\n",
      "4\n",
      "5\n",
      "6\n",
      "7\n",
      "8\n",
      "9\n",
      "10\n"
     ]
    }
   ],
   "source": [
    "# continue statement skips the condition mentioned and continues\n",
    "for i in range(1,11):\n",
    "    if i == 3:\n",
    "        continue \n",
    "    print(i)"
   ]
  },
  {
   "cell_type": "code",
   "execution_count": 70,
   "id": "6c9d3a86-9170-48fa-b815-9b8b16b70a96",
   "metadata": {},
   "outputs": [],
   "source": [
    "##PASS Statement - pass the code & it wont go ( code give you the error)\n",
    "for i in range(1,11):\n",
    "    pass"
   ]
  },
  {
   "cell_type": "code",
   "execution_count": 8,
   "id": "123db941-14e0-459f-ace7-d86a07bc43e9",
   "metadata": {},
   "outputs": [
    {
     "name": "stdout",
     "output_type": "stream",
     "text": [
      "number not found\n",
      "number not found\n",
      "number not found\n",
      "3\n",
      "number not found\n",
      "number not found\n",
      "number not found\n",
      "number not found\n",
      "number not found\n",
      "number not found\n"
     ]
    }
   ],
   "source": [
    "for i in range(10):\n",
    "    if i == 3:\n",
    "        print(i)\n",
    "    else:\n",
    "        print('number not found')\n",
    "    i = i + 1\n"
   ]
  },
  {
   "cell_type": "code",
   "execution_count": 10,
   "id": "e69b9c55-9218-4a9a-b443-15b48de716ab",
   "metadata": {},
   "outputs": [
    {
     "name": "stdout",
     "output_type": "stream",
     "text": [
      "3\n",
      "number not found\n"
     ]
    }
   ],
   "source": [
    "# for else \n",
    "for i in range(10):\n",
    "    if i == 3:\n",
    "        print(i)    \n",
    "    i = i + 1\n",
    "else:\n",
    "        print('number not found')\n"
   ]
  },
  {
   "cell_type": "code",
   "execution_count": null,
   "id": "7d25d4d3-1df9-4884-a344-feee929cc345",
   "metadata": {},
   "outputs": [],
   "source": []
  },
  {
   "cell_type": "code",
   "execution_count": null,
   "id": "a61af08a-9014-4ad6-9957-d7b19ca4fee1",
   "metadata": {},
   "outputs": [],
   "source": []
  },
  {
   "cell_type": "code",
   "execution_count": null,
   "id": "03f29843-dc97-481b-9454-8adafe00328d",
   "metadata": {},
   "outputs": [],
   "source": []
  }
 ],
 "metadata": {
  "kernelspec": {
   "display_name": "Python [conda env:base] *",
   "language": "python",
   "name": "conda-base-py"
  },
  "language_info": {
   "codemirror_mode": {
    "name": "ipython",
    "version": 3
   },
   "file_extension": ".py",
   "mimetype": "text/x-python",
   "name": "python",
   "nbconvert_exporter": "python",
   "pygments_lexer": "ipython3",
   "version": "3.12.7"
  }
 },
 "nbformat": 4,
 "nbformat_minor": 5
}
