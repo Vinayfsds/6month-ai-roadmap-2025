{
  "nbformat": 4,
  "nbformat_minor": 0,
  "metadata": {
    "colab": {
      "provenance": []
    },
    "kernelspec": {
      "name": "python3",
      "display_name": "Python 3"
    },
    "language_info": {
      "name": "python"
    }
  },
  "cells": [
    {
      "cell_type": "markdown",
      "source": [
        "26. Write a program that accepts a string and counts the occurrence of a particular character."
      ],
      "metadata": {
        "id": "AZLNTcRcPVcU"
      }
    },
    {
      "cell_type": "code",
      "execution_count": null,
      "metadata": {
        "colab": {
          "base_uri": "https://localhost:8080/"
        },
        "id": "qsrQqHwYOY0M",
        "outputId": "f17a908a-5057-435a-a697-f7ac834b81ea"
      },
      "outputs": [
        {
          "output_type": "stream",
          "name": "stdout",
          "text": [
            "Enter a textLearning is everyday practice\n",
            "Learning is everyday practice\n"
          ]
        },
        {
          "output_type": "execute_result",
          "data": {
            "text/plain": [
              "3"
            ]
          },
          "metadata": {},
          "execution_count": 3
        }
      ],
      "source": [
        "input_string = input('Enter a text')\n",
        "print(input_string)\n",
        "input_string.count('a')"
      ]
    },
    {
      "cell_type": "markdown",
      "source": [
        "27. How would you convert user input to lowercase using input()"
      ],
      "metadata": {
        "id": "TXs6X4x2PWsi"
      }
    },
    {
      "cell_type": "code",
      "source": [
        "user_input = input('Enter user input:')\n",
        "print(user_input.lower())"
      ],
      "metadata": {
        "colab": {
          "base_uri": "https://localhost:8080/"
        },
        "id": "fRGa9knmR-3Z",
        "outputId": "057c5220-ca97-4971-cb76-fcefd868be24"
      },
      "execution_count": null,
      "outputs": [
        {
          "output_type": "stream",
          "name": "stdout",
          "text": [
            "Enter user input:Test12345\n",
            "test12345\n"
          ]
        }
      ]
    },
    {
      "cell_type": "markdown",
      "source": [
        "28. Write a program that accepts a number and prints whether it is a multiple of 10."
      ],
      "metadata": {
        "id": "QX7Y0323Se_8"
      }
    },
    {
      "cell_type": "code",
      "source": [
        "input_number = int(input('Enter a number'))\n",
        "print('Multiple of 10' * ((input_number % 10) == 0))\n",
        "\n",
        "\n",
        "print('not a Multiple of 10' * ((input_number % 10) != 0))"
      ],
      "metadata": {
        "colab": {
          "base_uri": "https://localhost:8080/"
        },
        "id": "kOYjCNHhSkIG",
        "outputId": "30e81cab-0350-4667-a50e-6c7029e7be49"
      },
      "execution_count": null,
      "outputs": [
        {
          "output_type": "stream",
          "name": "stdout",
          "text": [
            "Enter a number4\n",
            "\n",
            "not a Multiple of 10\n"
          ]
        }
      ]
    },
    {
      "cell_type": "markdown",
      "source": [
        "29. How would you check if a string entered by the user contains only alphabets using input()?"
      ],
      "metadata": {
        "id": "t1kYwg7ycP-o"
      }
    },
    {
      "cell_type": "code",
      "source": [
        "input_user = input('Enter user input')\n",
        "print('Input has only alphabets' * (input_user.isalpha()))\n",
        "print('Input is of alpha numeric' * (input_user.isalpha() == False))"
      ],
      "metadata": {
        "colab": {
          "base_uri": "https://localhost:8080/"
        },
        "id": "GyFSqQDAcxuo",
        "outputId": "16006b14-d9f9-4e39-942b-24e800fd40a6"
      },
      "execution_count": null,
      "outputs": [
        {
          "output_type": "stream",
          "name": "stdout",
          "text": [
            "Enter user inputTest\n",
            "Input has only alphabets\n",
            "\n"
          ]
        }
      ]
    },
    {
      "cell_type": "markdown",
      "source": [
        "30. Write a program to count the number of words in a sentence entered by the user."
      ],
      "metadata": {
        "id": "1DnMHjCOgGIa"
      }
    },
    {
      "cell_type": "code",
      "source": [
        "input_words = input('Enter the sentence :')\n",
        "words_list = input_words.split(' ')\n",
        "print(f'Number of words in sentence : {len(words_list)} ')"
      ],
      "metadata": {
        "colab": {
          "base_uri": "https://localhost:8080/"
        },
        "id": "VaCDwkuUgIsA",
        "outputId": "58fedbc8-517e-40a9-c330-5c868b626ad0"
      },
      "execution_count": null,
      "outputs": [
        {
          "output_type": "stream",
          "name": "stdout",
          "text": [
            "Enter the sentence :This is a book\n",
            "Number of words in sentence : 4 \n"
          ]
        }
      ]
    },
    {
      "cell_type": "markdown",
      "source": [
        "32. Write a program that checks if the entered number is divisible by both 3 and 5."
      ],
      "metadata": {
        "id": "Swp145TOtfOr"
      }
    },
    {
      "cell_type": "code",
      "source": [
        "input_number = int(input('Enter a input :'))\n",
        "print(\"Given number is divisible by both 3 and 5\" * int((input_number % 3 == 0 and input_number % 5 == 0) == True))\n",
        "print(\"Given number is not divisible by both 3 and 5\" * int((input_number % 3 == 0 and input_number % 5 == 0) == False))"
      ],
      "metadata": {
        "colab": {
          "base_uri": "https://localhost:8080/"
        },
        "id": "4ULtHflBtgxd",
        "outputId": "d73f65db-011c-4a32-c987-cd2861b102fa"
      },
      "execution_count": 22,
      "outputs": [
        {
          "output_type": "stream",
          "name": "stdout",
          "text": [
            "Enter a input :135\n",
            "Given number is divisible by both 3 and 5\n",
            "\n"
          ]
        }
      ]
    },
    {
      "cell_type": "markdown",
      "source": [
        "33. Write a program to swap the values of two variables using input()."
      ],
      "metadata": {
        "id": "OFxDRtCjvOyX"
      }
    },
    {
      "cell_type": "code",
      "source": [
        "a = input('Enter value of a :')\n",
        "b = input('Enter value of b :')\n",
        "\n",
        "a,b = b,a\n",
        "print('After swap value of a :' + a )\n",
        "print('After swap value of b :' + b )\n"
      ],
      "metadata": {
        "colab": {
          "base_uri": "https://localhost:8080/"
        },
        "id": "QAG78iQku55-",
        "outputId": "f4f99f4f-1ca0-43ed-f55b-e77557399a9f"
      },
      "execution_count": 25,
      "outputs": [
        {
          "output_type": "stream",
          "name": "stdout",
          "text": [
            "Enter value of a :10\n",
            "Enter value of b :12\n",
            "After swap value of a :12\n",
            "After swap value of b :10\n"
          ]
        }
      ]
    },
    {
      "cell_type": "markdown",
      "source": [
        "34. Write a program to take user input and print it without spaces between words."
      ],
      "metadata": {
        "id": "QBJCvRVBwGMW"
      }
    },
    {
      "cell_type": "code",
      "source": [
        "input_string = input('Enter the input as text')\n",
        "\n",
        "input_string_words = input_string.split(' ')\n",
        "\n",
        "print(''.join(input_string_words))"
      ],
      "metadata": {
        "colab": {
          "base_uri": "https://localhost:8080/"
        },
        "id": "8gQdUMnZvdmF",
        "outputId": "2816e16c-b30a-45bc-8af2-9238eefe87d8"
      },
      "execution_count": 29,
      "outputs": [
        {
          "output_type": "stream",
          "name": "stdout",
          "text": [
            "Enter the input as textHello World !!!\n",
            "HelloWorld!!!\n"
          ]
        }
      ]
    },
    {
      "cell_type": "markdown",
      "source": [
        "36. Write a program that accepts a number and prints its cube."
      ],
      "metadata": {
        "id": "bmslsPTWx7iR"
      }
    },
    {
      "cell_type": "code",
      "source": [
        "input_number = int(input('Enter a number :'))\n",
        "print(f'Cube of the given number {input_number} is {input_number ** 3}')"
      ],
      "metadata": {
        "colab": {
          "base_uri": "https://localhost:8080/"
        },
        "id": "uy72lRhAwr8D",
        "outputId": "c7d8d39e-7b48-451f-f715-0d63318cfe69"
      },
      "execution_count": 31,
      "outputs": [
        {
          "output_type": "stream",
          "name": "stdout",
          "text": [
            "Enter a number :3\n",
            "Cube of the given number 3 is 27\n"
          ]
        }
      ]
    },
    {
      "cell_type": "markdown",
      "source": [
        "37. How would you accept and store multiple names from the user?"
      ],
      "metadata": {
        "id": "MwnCbh5jyp9n"
      }
    },
    {
      "cell_type": "code",
      "source": [
        "input_user = input(\"Please enter the values in comma to store as multiple : \")\n",
        "\n",
        "list1 = input_user.split(',')\n",
        "print(list1)"
      ],
      "metadata": {
        "colab": {
          "base_uri": "https://localhost:8080/"
        },
        "id": "aRTz6zzlyK7j",
        "outputId": "1434d73d-462e-4125-e548-2fb881d3a37a"
      },
      "execution_count": 36,
      "outputs": [
        {
          "output_type": "stream",
          "name": "stdout",
          "text": [
            "Please enter the values in comma to store as multiple : test, test1, test2\n",
            "['test', ' test1', ' test2']\n"
          ]
        }
      ]
    },
    {
      "cell_type": "markdown",
      "source": [
        "38. How would you extract numbers from a string entered by the user?"
      ],
      "metadata": {
        "id": "mNnU5vWg21WD"
      }
    },
    {
      "cell_type": "code",
      "source": [
        "# this I think loop is required"
      ],
      "metadata": {
        "id": "plXJBuuVy58x"
      },
      "execution_count": 37,
      "outputs": []
    },
    {
      "cell_type": "markdown",
      "source": [
        "39. How do you find the maximum number from a list of integers entered by the user?"
      ],
      "metadata": {
        "id": "2JlkTseW29a6"
      }
    },
    {
      "cell_type": "code",
      "source": [
        "list1 = [10, 50, 20, 100, 120, 170, 150]\n",
        "\n",
        "max(list1)"
      ],
      "metadata": {
        "colab": {
          "base_uri": "https://localhost:8080/"
        },
        "id": "JMjrCXhe25Ge",
        "outputId": "a60f7e9f-2044-4c3d-ca0a-2656bd4dc4c1"
      },
      "execution_count": 42,
      "outputs": [
        {
          "output_type": "execute_result",
          "data": {
            "text/plain": [
              "170"
            ]
          },
          "metadata": {},
          "execution_count": 42
        }
      ]
    },
    {
      "cell_type": "markdown",
      "source": [
        "40. How would you prompt the user for input until they enter a valid number?"
      ],
      "metadata": {
        "id": "gPNLY3QZ3tQh"
      }
    },
    {
      "cell_type": "code",
      "source": [
        "# This requires a loop or recursive function"
      ],
      "metadata": {
        "id": "fCbt6mX_3WDC"
      },
      "execution_count": 43,
      "outputs": []
    },
    {
      "cell_type": "markdown",
      "source": [
        "41. Write a program to check if the entered string has digits."
      ],
      "metadata": {
        "id": "KW7O6VIv34ZU"
      }
    },
    {
      "cell_type": "code",
      "source": [
        "# This requires a loop"
      ],
      "metadata": {
        "id": "akm3OiAN3omp"
      },
      "execution_count": 44,
      "outputs": []
    },
    {
      "cell_type": "markdown",
      "source": [
        "42. Write a program to check if the entered string has only whitespace characters."
      ],
      "metadata": {
        "id": "X4GorxTy4D8m"
      }
    },
    {
      "cell_type": "code",
      "source": [
        "input_whitespace = input('Enter user inout as whitespace:')\n",
        "print(\"Entered input has only whitespace \" * (len(input_whitespace.strip()) == 0))"
      ],
      "metadata": {
        "colab": {
          "base_uri": "https://localhost:8080/"
        },
        "id": "mjIO7zYM3_wY",
        "outputId": "8d346a20-065f-4276-a080-e78342a36001"
      },
      "execution_count": 46,
      "outputs": [
        {
          "output_type": "stream",
          "name": "stdout",
          "text": [
            "Enter user inout as whitespace:     \n",
            "Entered input has only whitespace \n"
          ]
        }
      ]
    },
    {
      "cell_type": "markdown",
      "source": [
        "43. Write a program to find the sum of all digits in a string entered by the user."
      ],
      "metadata": {
        "id": "oDLP_6f449m2"
      }
    },
    {
      "cell_type": "code",
      "source": [
        "# loop is required"
      ],
      "metadata": {
        "id": "CWE4KKSM5HdS"
      },
      "execution_count": 50,
      "outputs": []
    },
    {
      "cell_type": "markdown",
      "source": [
        "44. Write a program that accepts a number and prints its absolute value."
      ],
      "metadata": {
        "id": "6R7GYrNU51NY"
      }
    },
    {
      "cell_type": "code",
      "source": [
        "input_number = int(input('Enter a number :'))\n",
        "print(f\"Absolute value of {input_number} is {-(input_number)}\")"
      ],
      "metadata": {
        "colab": {
          "base_uri": "https://localhost:8080/"
        },
        "id": "nxtPskXE50N0",
        "outputId": "d7824b22-e873-4b6a-bc65-f1bb5ec8f1eb"
      },
      "execution_count": 53,
      "outputs": [
        {
          "output_type": "stream",
          "name": "stdout",
          "text": [
            "Enter a number :3\n",
            "Absolute value of 3 is -3\n"
          ]
        }
      ]
    },
    {
      "cell_type": "markdown",
      "source": [
        "45. How would you check if a string entered by the user contains any uppercase letters?"
      ],
      "metadata": {
        "id": "HYhkurRn6eOl"
      }
    },
    {
      "cell_type": "code",
      "source": [
        "# a loop is required"
      ],
      "metadata": {
        "id": "F0nVGmS66IQR"
      },
      "execution_count": 54,
      "outputs": []
    },
    {
      "cell_type": "markdown",
      "source": [
        "46. Write a program that converts Celsius to Fahrenheit."
      ],
      "metadata": {
        "id": "uUGEVK1E6mjt"
      }
    },
    {
      "cell_type": "code",
      "source": [
        "# skipping this for now"
      ],
      "metadata": {
        "id": "SaZ4G71z6hFP"
      },
      "execution_count": 55,
      "outputs": []
    },
    {
      "cell_type": "code",
      "source": [
        "# 47 - 50 requires loop. Now, doing right now as topic is not covered."
      ],
      "metadata": {
        "id": "qTckHmwj6odi"
      },
      "execution_count": 56,
      "outputs": []
    }
  ]
}