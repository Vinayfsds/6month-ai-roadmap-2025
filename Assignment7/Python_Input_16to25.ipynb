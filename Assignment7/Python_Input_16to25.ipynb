{
  "nbformat": 4,
  "nbformat_minor": 0,
  "metadata": {
    "colab": {
      "provenance": []
    },
    "kernelspec": {
      "name": "python3",
      "display_name": "Python 3"
    },
    "language_info": {
      "name": "python"
    }
  },
  "cells": [
    {
      "cell_type": "markdown",
      "source": [
        " 17.How can you accept a boolean value (True/False) from the user?"
      ],
      "metadata": {
        "id": "cLAyFJQ255MP"
      }
    },
    {
      "cell_type": "code",
      "execution_count": null,
      "metadata": {
        "colab": {
          "base_uri": "https://localhost:8080/"
        },
        "id": "u6qHSAM-5pax",
        "outputId": "5a4c67ec-3eb8-4ce6-b91d-8f477109d51e"
      },
      "outputs": [
        {
          "output_type": "stream",
          "name": "stdout",
          "text": [
            "Enter true or false(true/ false):test\n",
            "\n",
            "\n",
            "Allowed only true / false\n"
          ]
        }
      ],
      "source": [
        "input_True_False = input(\"Enter true or false(true/ false):\")\n",
        "print(\"True\" * int(input_True_False.upper() == \"TRUE\"))\n",
        "print(\"False\" * int(input_True_False.upper() == \"FALSE\"))\n",
        "print(\"Allowed only true / false\" * int((input_True_False.upper() != \"TRUE\") and (input_True_False.upper()!=\"FALSE\")))\n"
      ]
    },
    {
      "cell_type": "markdown",
      "source": [],
      "metadata": {
        "id": "bPqlBJII536C"
      }
    },
    {
      "cell_type": "markdown",
      "source": [
        "18. Write a program that accepts a string and prints the reverse of that string."
      ],
      "metadata": {
        "id": "eUpJwxx0B9Rc"
      }
    },
    {
      "cell_type": "code",
      "source": [
        "input_user_string = input('Enter your text should be in alphabets :')\n",
        "print(input_user_string[::-1])\n"
      ],
      "metadata": {
        "colab": {
          "base_uri": "https://localhost:8080/"
        },
        "id": "WfliF6O7B81j",
        "outputId": "511b61d2-c6ec-41f2-8c85-b6013f2996df"
      },
      "execution_count": null,
      "outputs": [
        {
          "output_type": "stream",
          "name": "stdout",
          "text": [
            "Enter your text should be in alphabets :reverse\n",
            "esrever\n"
          ]
        }
      ]
    },
    {
      "cell_type": "markdown",
      "source": [
        "19. Write a program that asks for a user's name and age and prints a message."
      ],
      "metadata": {
        "id": "qZfq_HoRC7tN"
      }
    },
    {
      "cell_type": "code",
      "source": [
        "input_username = input(\"Enter your username :\")\n",
        "input_age = input(\"Enter your age :\")\n",
        "print(f\"Welcome, {input_username}! You are just {input_age} years old.\")"
      ],
      "metadata": {
        "colab": {
          "base_uri": "https://localhost:8080/"
        },
        "id": "CuSRsLaoB--J",
        "outputId": "d8ed3aa1-2a2e-493a-b577-d887b0ef38c6"
      },
      "execution_count": null,
      "outputs": [
        {
          "output_type": "stream",
          "name": "stdout",
          "text": [
            "Enter your username :Test\n",
            "Enter your age :55\n",
            "Welcome, Test! You are just 55 years old.\n"
          ]
        }
      ]
    },
    {
      "cell_type": "markdown",
      "source": [
        "21. How do you prevent a user from entering an empty string?"
      ],
      "metadata": {
        "id": "ZPguqCk7HV07"
      }
    },
    {
      "cell_type": "code",
      "source": [
        "value =''\n",
        "def askInput():\n",
        "  value = input('Enter your text!!')\n",
        "  print(f\" you have entered the text as '{value}'\" * int(value.isalpha() == True))\n",
        "  #value == '' and askInput()\n",
        "  value == '' and askInput()\n",
        "  return value\n",
        "\n",
        "askInput()\n",
        "\n",
        "#print(askInput() * int(value.isalpha() == False))\n",
        "\n",
        "\n"
      ],
      "metadata": {
        "colab": {
          "base_uri": "https://localhost:8080/",
          "height": 104
        },
        "id": "UvpHBwkDDqNB",
        "outputId": "6044ae3b-c507-46bb-c654-6b53f0803bb5"
      },
      "execution_count": null,
      "outputs": [
        {
          "output_type": "stream",
          "name": "stdout",
          "text": [
            "Enter your text!!\n",
            "\n",
            "Enter your text!!test\n",
            " you have entered the text as 'test'\n"
          ]
        },
        {
          "output_type": "execute_result",
          "data": {
            "text/plain": [
              "''"
            ],
            "application/vnd.google.colaboratory.intrinsic+json": {
              "type": "string"
            }
          },
          "metadata": {},
          "execution_count": 52
        }
      ]
    },
    {
      "cell_type": "markdown",
      "source": [
        "22. Write a program to check if the entered number is a perfect square."
      ],
      "metadata": {
        "id": "husYq9NYWoc-"
      }
    },
    {
      "cell_type": "code",
      "source": [
        "import math as m\n",
        "input_number = int(input(\"Enter your number to check if it is a perfect square :\"))\n",
        "#print((m.sqrt(input_number).is_integer()))\n",
        "print(f\"Its is a perfect square for {m.floor(m.sqrt(input_number))}\" * int((m.sqrt(input_number).is_integer()) == True))\n",
        "print(f\"Its is a perfect not a square\" * int((m.sqrt(input_number).is_integer()) == False))"
      ],
      "metadata": {
        "colab": {
          "base_uri": "https://localhost:8080/"
        },
        "id": "zteMsQUkISPQ",
        "outputId": "c81a6762-b12f-4cee-d6c7-3c48978135ec"
      },
      "execution_count": null,
      "outputs": [
        {
          "output_type": "stream",
          "name": "stdout",
          "text": [
            "Enter your number to check if it is a perfect square :9\n",
            "Its is a perfect square for 3\n",
            "\n"
          ]
        }
      ]
    },
    {
      "cell_type": "markdown",
      "source": [
        "23. Write a program that asks for a year and determines if it's a leap year.\n"
      ],
      "metadata": {
        "id": "BmigkhzCf3f4"
      }
    },
    {
      "cell_type": "code",
      "source": [
        "input_year = int(input(\"Enter your year to check if it is a leap year :\"))\n",
        "print(f\"Its is a leap year\" * int((input_year % 4 == 0) == True))\n",
        "print(f\"Its is not a leap year\"  * int((input_year % 4 == 0) == False))"
      ],
      "metadata": {
        "colab": {
          "base_uri": "https://localhost:8080/"
        },
        "id": "Oyd4WlrUf4cl",
        "outputId": "ba97222c-e88e-4910-cf8a-cbae1ef55ac9"
      },
      "execution_count": null,
      "outputs": [
        {
          "output_type": "stream",
          "name": "stdout",
          "text": [
            "Enter your year to check if it is a leap year :2024\n",
            "Its is a leap year\n",
            "\n"
          ]
        }
      ]
    },
    {
      "cell_type": "markdown",
      "source": [
        "24. How can you remove leading and trailing spaces from a string input?"
      ],
      "metadata": {
        "id": "tsukbi0bgOZ7"
      }
    },
    {
      "cell_type": "code",
      "source": [
        "input_string = input(\"Enter your text with some spaces eiter at starting or ending of the text. :\")\n",
        "print(input_string.strip())"
      ],
      "metadata": {
        "colab": {
          "base_uri": "https://localhost:8080/"
        },
        "id": "0vXlZaaWgTe2",
        "outputId": "cb2e29c6-8eed-4ee4-95c0-148275d4c71d"
      },
      "execution_count": null,
      "outputs": [
        {
          "output_type": "stream",
          "name": "stdout",
          "text": [
            "Enter your text with some spaces eiter at starting or ending of the text. :     yyyy\n",
            "yyyy\n"
          ]
        }
      ]
    },
    {
      "cell_type": "markdown",
      "source": [
        " 25. How do you handle incorrect inputs when you expect an integer using input()?"
      ],
      "metadata": {
        "id": "Y8lA9nsZhEz2"
      }
    },
    {
      "cell_type": "code",
      "source": [
        "input_text = input('Enter your input:')\n",
        "print(f\"You have entered valid input {input_text}\" *  (input_text.isdigit() == True))\n",
        "print(\"Enter valid input\" *  (input_text.isdigit() == False))"
      ],
      "metadata": {
        "colab": {
          "base_uri": "https://localhost:8080/"
        },
        "id": "ZiEQ252RhGx1",
        "outputId": "e828113a-710a-4573-8ba0-8728219308a2"
      },
      "execution_count": null,
      "outputs": [
        {
          "output_type": "stream",
          "name": "stdout",
          "text": [
            "Enter your input:7\n",
            "You have entered valid input 7\n",
            "\n"
          ]
        }
      ]
    },
    {
      "cell_type": "markdown",
      "source": [
        "26. Write a program that accepts a string and counts the occurrence of a particular character."
      ],
      "metadata": {
        "id": "l2i9brOTkaAB"
      }
    },
    {
      "cell_type": "code",
      "source": [],
      "metadata": {
        "id": "9aLXJjQvkav8"
      },
      "execution_count": null,
      "outputs": []
    }
  ]
}