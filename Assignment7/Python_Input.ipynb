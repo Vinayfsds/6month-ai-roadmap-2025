{
 "cells": [
  {
   "cell_type": "markdown",
   "id": "1f66b4c1-f6d1-48e3-b86a-bc6199e05959",
   "metadata": {},
   "source": [
    "# Python input()"
   ]
  },
  {
   "cell_type": "markdown",
   "id": "1acdd77b-c010-4e88-844a-2282fbd6443e",
   "metadata": {},
   "source": [
    "1. What is the input() function in Python used for? "
   ]
  },
  {
   "cell_type": "markdown",
   "id": "a4b4591d-3462-4af5-a0e2-f0f21f50afb2",
   "metadata": {},
   "source": [
    "input() function in python is used to get the input entry from user"
   ]
  },
  {
   "cell_type": "markdown",
   "id": "2a9a5dd2-4e17-4409-a0e4-169fdafed4f6",
   "metadata": {},
   "source": [
    "2. How can you accept an integer as input from the user using input()? "
   ]
  },
  {
   "cell_type": "code",
   "execution_count": 8,
   "id": "2ae97443-d46a-4333-98f7-4267d6b7481d",
   "metadata": {},
   "outputs": [
    {
     "name": "stdin",
     "output_type": "stream",
     "text": [
      "Enter user input : 6\n"
     ]
    }
   ],
   "source": [
    "user_input_int = int(input(\"Enter user input :\"))   "
   ]
  },
  {
   "cell_type": "code",
   "execution_count": 10,
   "id": "4538cc92-9b50-4643-a3ee-9871b2c36932",
   "metadata": {},
   "outputs": [
    {
     "name": "stdout",
     "output_type": "stream",
     "text": [
      "6\n"
     ]
    }
   ],
   "source": [
    "print(user_input_int)"
   ]
  },
  {
   "cell_type": "markdown",
   "id": "4f96e3c7-2b17-407d-b6aa-7fd323e18d79",
   "metadata": {},
   "source": [
    "3. How do you accept a float input from the user?\n",
    "   "
   ]
  },
  {
   "cell_type": "code",
   "execution_count": 17,
   "id": "defd0547-c87f-4ab2-a3dd-0b2908cdcb05",
   "metadata": {},
   "outputs": [
    {
     "name": "stdin",
     "output_type": "stream",
     "text": [
      "Enter user input : 4.5\n"
     ]
    }
   ],
   "source": [
    "user_input_float = float(input(\"Enter user input in float format:\"))  "
   ]
  },
  {
   "cell_type": "code",
   "execution_count": 19,
   "id": "a0281b81-8a86-451d-8845-3e767982e455",
   "metadata": {},
   "outputs": [
    {
     "data": {
      "text/plain": [
       "4.5"
      ]
     },
     "execution_count": 19,
     "metadata": {},
     "output_type": "execute_result"
    }
   ],
   "source": [
    "user_input_float"
   ]
  },
  {
   "cell_type": "markdown",
   "id": "b464e210-a433-4de4-acaf-a78406e52913",
   "metadata": {},
   "source": [
    "4. How can you take multiple space-separated values as input? "
   ]
  },
  {
   "cell_type": "code",
   "execution_count": 42,
   "id": "d31a10f6-7498-4edc-a86f-8cdfd47f858c",
   "metadata": {},
   "outputs": [
    {
     "name": "stdin",
     "output_type": "stream",
     "text": [
      "Pass as multi-line text ''' test1 \\n test2 \\\n"
     ]
    }
   ],
   "source": [
    "multi_space_seperated =  input(\"Pass as multi-line text\")"
   ]
  },
  {
   "cell_type": "code",
   "execution_count": 32,
   "id": "49eda7a5-d25f-44f8-b211-a0282c12dec9",
   "metadata": {},
   "outputs": [
    {
     "data": {
      "text/plain": [
       "'This is explain of multiline text \\\\n eg: for new line'"
      ]
     },
     "execution_count": 32,
     "metadata": {},
     "output_type": "execute_result"
    }
   ],
   "source": [
    "multi_space_seperated"
   ]
  },
  {
   "cell_type": "code",
   "execution_count": 46,
   "id": "009d5bf9-e947-458f-b874-c6259bfb3cec",
   "metadata": {},
   "outputs": [
    {
     "name": "stdout",
     "output_type": "stream",
     "text": [
      "Welcome to Python 3.12's help utility! If this is your first time using\n",
      "Python, you should definitely check out the tutorial at\n",
      "https://docs.python.org/3.12/tutorial/.\n",
      "\n",
      "Enter the name of any module, keyword, or topic to get help on writing\n",
      "Python programs and using Python modules.  To get a list of available\n",
      "modules, keywords, symbols, or topics, enter \"modules\", \"keywords\",\n",
      "\"symbols\", or \"topics\".\n",
      "\n",
      "Each module also comes with a one-line summary of what it does; to list\n",
      "the modules whose name or summary contain a given string such as \"spam\",\n",
      "enter \"modules spam\".\n",
      "\n",
      "To quit this help utility and return to the interpreter,\n",
      "enter \"q\" or \"quit\".\n",
      "\n"
     ]
    },
    {
     "name": "stdin",
     "output_type": "stream",
     "text": [
      "help>  q\n"
     ]
    },
    {
     "name": "stdout",
     "output_type": "stream",
     "text": [
      "\n",
      "You are now leaving help and returning to the Python interpreter.\n",
      "If you want to ask for help on a particular object directly from the\n",
      "interpreter, you can type \"help(object)\".  Executing \"help('string')\"\n",
      "has the same effect as typing a particular string at the help> prompt.\n"
     ]
    }
   ],
   "source": [
    "help()"
   ]
  },
  {
   "cell_type": "markdown",
   "id": "2d705cf7-e3df-4d06-9c8b-127541d23809",
   "metadata": {},
   "source": [
    "5. How do you check if a number entered by the user is positive, negative, or zero? "
   ]
  },
  {
   "cell_type": "code",
   "execution_count": 74,
   "id": "cdc17302-0faf-4874-9992-24408eb7ed0a",
   "metadata": {},
   "outputs": [
    {
     "name": "stdin",
     "output_type": "stream",
     "text": [
      "Enter the user input to validate if positive or negative or Zero : -0\n"
     ]
    },
    {
     "name": "stdout",
     "output_type": "stream",
     "text": [
      "\n",
      "\n",
      "Entered number is equals to Zero\n"
     ]
    }
   ],
   "source": [
    "user_input_number = int(input(\"Enter the user input to validate if positive or negative or Zero :\"))\n",
    "print((\"Entered number is positive number : \" + str(user_input_number)) * int((user_input_number > 0)))\n",
    "print((\"Entered number is negative number : \" + str(user_input_number)) * int((user_input_number < 0)))\n",
    "print((\"Entered number is equals to Zero\") * int((user_input_number == 0)))"
   ]
  },
  {
   "cell_type": "markdown",
   "id": "4a7b8aaa-f435-4d58-8313-edc5a071296c",
   "metadata": {},
   "source": [
    "6. How do you convert user input to a list of integers? "
   ]
  },
  {
   "cell_type": "code",
   "execution_count": 92,
   "id": "5b78a28d-3f4a-4567-a6ca-38e383b69841",
   "metadata": {},
   "outputs": [
    {
     "name": "stdin",
     "output_type": "stream",
     "text": [
      "Enter numbers with comma seperated 1,4,8,2,7,9\n"
     ]
    },
    {
     "name": "stdout",
     "output_type": "stream",
     "text": [
      "['1', '4', '8', '2', '7', '9']\n"
     ]
    }
   ],
   "source": [
    "user_input_integers = input(\"Enter numbers with comma seperated\")\n",
    "list1 = list()\n",
    "for i in user_input_integers.split(','):\n",
    "    list1.append(i)\n",
    "\n",
    "print(list1)"
   ]
  },
  {
   "cell_type": "code",
   "execution_count": 94,
   "id": "cf523af1-7e21-40df-8b83-92826f1bfcf2",
   "metadata": {},
   "outputs": [
    {
     "data": {
      "text/plain": [
       "['1', '4', '8', '2', '7', '9']"
      ]
     },
     "execution_count": 94,
     "metadata": {},
     "output_type": "execute_result"
    }
   ],
   "source": [
    "list1"
   ]
  },
  {
   "cell_type": "code",
   "execution_count": 96,
   "id": "f5745bc9-cc99-42be-893e-f783ac657988",
   "metadata": {},
   "outputs": [
    {
     "data": {
      "text/plain": [
       "list"
      ]
     },
     "execution_count": 96,
     "metadata": {},
     "output_type": "execute_result"
    }
   ],
   "source": [
    "type(list1)"
   ]
  },
  {
   "cell_type": "markdown",
   "id": "3a335c03-0222-451d-880d-7c34ca5043e1",
   "metadata": {},
   "source": [
    "7. How do you accept a string input and print it in uppercase?"
   ]
  },
  {
   "cell_type": "code",
   "execution_count": 105,
   "id": "efb85f32-465a-4590-8534-87d73cbf6318",
   "metadata": {},
   "outputs": [
    {
     "name": "stdin",
     "output_type": "stream",
     "text": [
      "Enter string input I am a hard working human being\n"
     ]
    },
    {
     "name": "stdout",
     "output_type": "stream",
     "text": [
      "I AM A HARD WORKING HUMAN BEING\n"
     ]
    }
   ],
   "source": [
    "input_string = input(\"Enter string input\")\n",
    "print(input_string.upper())"
   ]
  },
  {
   "cell_type": "markdown",
   "id": "15a87c28-5cba-417f-aec4-504be1b5ca3d",
   "metadata": {},
   "source": [
    "8. Write a Python program that accepts a string and prints the number of vowels in it. "
   ]
  },
  {
   "cell_type": "code",
   "execution_count": 240,
   "id": "39a6896a-5a63-4320-afc0-bc1182f75f2b",
   "metadata": {},
   "outputs": [
    {
     "name": "stdin",
     "output_type": "stream",
     "text": [
      "Enter a text :  tests are life long process\n"
     ]
    },
    {
     "name": "stdout",
     "output_type": "stream",
     "text": [
      "Number of vowels :8\n"
     ]
    }
   ],
   "source": [
    "listofvowels = ['a', 'e', 'i', 'o', 'u']\n",
    "user_input_string = input('Enter a text : ')\n",
    "#user_input_string = \"the usa\"\n",
    "\n",
    "#Method 1:\n",
    "count_ofvowels = int(user_input_string.count('a')) \n",
    "count_ofvowels += int(user_input_string.count('e'))  \n",
    "count_ofvowels += int(user_input_string.count('i')) \n",
    "count_ofvowels += int(user_input_string.count('o')) \n",
    "count_ofvowels += int(user_input_string.count('u')) \n",
    "\n",
    "# Method 2:\n",
    "#count_ofvowels = 0\n",
    "#for i in listofvowels:\n",
    "#    count_ofvowels += int(user_input_string.count(i))\n",
    "\n",
    "print('Number of vowels :' + str(count_ofvowels))"
   ]
  },
  {
   "cell_type": "code",
   "execution_count": null,
   "id": "cdf2e00b-e3f7-457c-837e-d028656a2304",
   "metadata": {},
   "outputs": [],
   "source": [
    "\n"
   ]
  },
  {
   "cell_type": "markdown",
   "id": "37813d05-7f1e-47f1-b0c1-1ebbe9b612a8",
   "metadata": {},
   "source": [
    "9. Write a program that takes a number as input and checks if it is even or odd. "
   ]
  },
  {
   "cell_type": "code",
   "execution_count": 231,
   "id": "2152a6ea-f686-486d-ba57-63c6bc4319cc",
   "metadata": {},
   "outputs": [
    {
     "name": "stdin",
     "output_type": "stream",
     "text": [
      "Enter the value in number to validate even / odd :  8\n"
     ]
    },
    {
     "name": "stdout",
     "output_type": "stream",
     "text": [
      "It's a even number :8\n",
      "\n"
     ]
    }
   ],
   "source": [
    "validate_input_event_odd = int(input(\"Enter the value in number to validate even / odd : \"))\n",
    "isEvenOdd = ((validate_input_event_odd % 2) == 0)\n",
    "#print(isEvenOdd)\n",
    "print((\"It\\'s a even number :\" + str(validate_input_event_odd)) * int(isEvenOdd == True))\n",
    "print((\"It\\'s a odd number :\" + str(validate_input_event_odd)) * int(isEvenOdd == False))"
   ]
  },
  {
   "cell_type": "markdown",
   "id": "1f09cd22-fbd5-4e06-9b66-7f4bcbfa26cf",
   "metadata": {},
   "source": [
    "10. How would you check if a string is a palindrome using input()? "
   ]
  },
  {
   "cell_type": "code",
   "execution_count": 273,
   "id": "adc59c3a-d8cd-42df-95aa-8ed1c2be2cdc",
   "metadata": {},
   "outputs": [
    {
     "name": "stdin",
     "output_type": "stream",
     "text": [
      "Enter your text :  MEEM\n"
     ]
    },
    {
     "name": "stdout",
     "output_type": "stream",
     "text": [
      "Entered text is a palandrome\n",
      "\n"
     ]
    }
   ],
   "source": [
    "input_string = input('Enter your text : ')\n",
    "#input_string = \"MEEN\"\n",
    "input_string[::-1] == input_string \n",
    "print(\"Entered text is a palandrome\" * int((input_string[::-1] == input_string) == True))\n",
    "print(\"Entered text is a not a palandrome\" * int((input_string[::-1] == input_string) == False))\n",
    "        "
   ]
  },
  {
   "cell_type": "markdown",
   "id": "745b2c20-dfc7-408c-ae80-b8ed57735d16",
   "metadata": {},
   "source": [
    "11. Write a program that takes a number as input and prints its square. "
   ]
  },
  {
   "cell_type": "code",
   "execution_count": 278,
   "id": "7834609f-51db-4689-9dee-340d84389bc0",
   "metadata": {},
   "outputs": [
    {
     "name": "stdin",
     "output_type": "stream",
     "text": [
      "Enter a number :  6\n"
     ]
    },
    {
     "name": "stdout",
     "output_type": "stream",
     "text": [
      "Square of the entered number is : 36\n"
     ]
    }
   ],
   "source": [
    "input_number = int(input(\"Enter a number : \"))\n",
    "print(\"Square of the entered number is : \" + str(input_number ** 2))                   "
   ]
  },
  {
   "cell_type": "markdown",
   "id": "84eb09ae-8691-4b37-adfa-8a10b3863ab0",
   "metadata": {},
   "source": [
    "12. Write a program that asks for a number and prints whether it is divisible by 3. "
   ]
  },
  {
   "cell_type": "code",
   "execution_count": 293,
   "id": "d0175dd8-1ff9-45e6-a419-38c722714ba0",
   "metadata": {},
   "outputs": [
    {
     "name": "stdin",
     "output_type": "stream",
     "text": [
      "Enter a number :  21\n"
     ]
    },
    {
     "name": "stdout",
     "output_type": "stream",
     "text": [
      "It is divisible by 3 \n",
      "\n"
     ]
    }
   ],
   "source": [
    "input_number = int(input(\"Enter a number : \"))\n",
    "print(\"It is divisible by 3 \" * int((input_number % 3 == 0) == True))\n",
    "print(\"It is not divisible by 3 \" * int((input_number % 3 == 0) == False))"
   ]
  },
  {
   "cell_type": "markdown",
   "id": "40dfb5df-9944-4c54-b291-bd40a061aee6",
   "metadata": {},
   "source": [
    "13. How would you check if a number is divisible by both 3 and 7? "
   ]
  },
  {
   "cell_type": "code",
   "execution_count": 305,
   "id": "c0234ea7-73fa-457a-97b5-2f76bc3f0d2f",
   "metadata": {},
   "outputs": [
    {
     "name": "stdin",
     "output_type": "stream",
     "text": [
      "Enter a number :  63\n"
     ]
    },
    {
     "name": "stdout",
     "output_type": "stream",
     "text": [
      "It is divisible by 3 and 7 \n",
      "\n"
     ]
    }
   ],
   "source": [
    "# If the entered number reminder is 0 when divided by 3 and 7 then it is said to be divisible by both 3 and 7.\n",
    "input_number = int(input(\"Enter a number : \"))\n",
    "print(\"It is divisible by 3 and 7 \" * int(((input_number % 3 == 0) and (input_number % 7 == 0))== True))\n",
    "print(\"It is not divisible by 3 and 7 \" * int(((input_number % 3 == 0) and (input_number % 7 == 0)) == False))"
   ]
  },
  {
   "cell_type": "markdown",
   "id": "b5d03ff7-8b6f-4a2f-a59c-606f03d1c41f",
   "metadata": {},
   "source": [
    "14. How do you accept a list of comma-separated values as input? "
   ]
  },
  {
   "cell_type": "code",
   "execution_count": 329,
   "id": "a677eeea-cb96-4fff-bb5c-11e4d823d68e",
   "metadata": {},
   "outputs": [
    {
     "name": "stdin",
     "output_type": "stream",
     "text": [
      "Enter list of values 1,2,3,4,5,6\n"
     ]
    },
    {
     "name": "stdout",
     "output_type": "stream",
     "text": [
      "1,2,3,4,5,6\n"
     ]
    }
   ],
   "source": [
    "# add input numbers with commas\n",
    "list1 = input(\"Enter list of values\")\n",
    "print(list1)"
   ]
  },
  {
   "cell_type": "markdown",
   "id": "feb16584-f027-46b0-983d-d3f3300e82b9",
   "metadata": {},
   "source": [
    "15. Write a Python program that takes two numbers as input and prints their product. "
   ]
  },
  {
   "cell_type": "code",
   "execution_count": 341,
   "id": "70547e69-6624-44d5-94ab-29bcb20a425a",
   "metadata": {},
   "outputs": [
    {
     "name": "stdin",
     "output_type": "stream",
     "text": [
      "Enter input 1: 4\n",
      "Enter input 2: 5\n"
     ]
    },
    {
     "name": "stdout",
     "output_type": "stream",
     "text": [
      "Product is : 20\n"
     ]
    }
   ],
   "source": [
    "input1 , input2 = int(input(\"Enter input 1:\")), int(input(\"Enter input 2:\"))\n",
    "print(\"Product is : \" + str(input1 * input2))"
   ]
  },
  {
   "cell_type": "markdown",
   "id": "068ddacb-fb5d-4084-a1a6-9c5bdd0344bd",
   "metadata": {},
   "source": [
    "16. Write a program that checks if the input number is a prime number."
   ]
  },
  {
   "cell_type": "code",
   "execution_count": null,
   "id": "71c93e8b-c3be-403b-9bde-a86af99cd0ec",
   "metadata": {},
   "outputs": [],
   "source": []
  },
  {
   "cell_type": "code",
   "execution_count": null,
   "id": "2441e5be-8db7-4a8b-9170-82b0052a9ad4",
   "metadata": {},
   "outputs": [],
   "source": []
  },
  {
   "cell_type": "code",
   "execution_count": null,
   "id": "2c722b93-7167-4739-b426-91d28eb143f1",
   "metadata": {},
   "outputs": [],
   "source": []
  },
  {
   "cell_type": "code",
   "execution_count": null,
   "id": "c5bfb7f2-af40-498f-87d9-c7794d0ea8da",
   "metadata": {},
   "outputs": [],
   "source": []
  },
  {
   "cell_type": "code",
   "execution_count": null,
   "id": "207cf1ff-07b2-42e5-b91d-a86437709333",
   "metadata": {},
   "outputs": [],
   "source": []
  },
  {
   "cell_type": "code",
   "execution_count": null,
   "id": "bce27b60-fcf5-40d1-b1cf-2b7d2e58c6ef",
   "metadata": {},
   "outputs": [],
   "source": []
  },
  {
   "cell_type": "code",
   "execution_count": null,
   "id": "7ce66395-ba4e-4478-826f-73b831c575c4",
   "metadata": {},
   "outputs": [],
   "source": []
  },
  {
   "cell_type": "code",
   "execution_count": null,
   "id": "1e65b521-a56a-4ef9-bbfe-33a515424f8d",
   "metadata": {},
   "outputs": [],
   "source": []
  },
  {
   "cell_type": "code",
   "execution_count": null,
   "id": "89e8dc2f-c3a5-4fd7-891b-93048780adb0",
   "metadata": {},
   "outputs": [],
   "source": []
  }
 ],
 "metadata": {
  "kernelspec": {
   "display_name": "Python [conda env:base] *",
   "language": "python",
   "name": "conda-base-py"
  },
  "language_info": {
   "codemirror_mode": {
    "name": "ipython",
    "version": 3
   },
   "file_extension": ".py",
   "mimetype": "text/x-python",
   "name": "python",
   "nbconvert_exporter": "python",
   "pygments_lexer": "ipython3",
   "version": "3.12.7"
  }
 },
 "nbformat": 4,
 "nbformat_minor": 5
}
