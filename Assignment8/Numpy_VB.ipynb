{
  "nbformat": 4,
  "nbformat_minor": 0,
  "metadata": {
    "colab": {
      "provenance": []
    },
    "kernelspec": {
      "name": "python3",
      "display_name": "Python 3"
    },
    "language_info": {
      "name": "python"
    }
  },
  "cells": [
    {
      "cell_type": "code",
      "execution_count": 1,
      "metadata": {
        "id": "iq5RV1U1t0a1"
      },
      "outputs": [],
      "source": [
        "import numpy as np # importing numpy module."
      ]
    },
    {
      "cell_type": "code",
      "source": [
        "np.__version__ #numpy version"
      ],
      "metadata": {
        "colab": {
          "base_uri": "https://localhost:8080/",
          "height": 36
        },
        "id": "h1gSzTD1uYFR",
        "outputId": "1b56a5ea-22a7-48eb-e158-4e7e5da8e984"
      },
      "execution_count": 2,
      "outputs": [
        {
          "output_type": "execute_result",
          "data": {
            "text/plain": [
              "'2.0.2'"
            ],
            "application/vnd.google.colaboratory.intrinsic+json": {
              "type": "string"
            }
          },
          "metadata": {},
          "execution_count": 2
        }
      ]
    },
    {
      "cell_type": "code",
      "source": [
        "list_new = [1,2,3,4,5] #declaring a list and assigning to numpy\n",
        "numpy_array_new = np.array(list_new) # declaring as array in numpy\n",
        "\n",
        "print(array_new)\n"
      ],
      "metadata": {
        "colab": {
          "base_uri": "https://localhost:8080/"
        },
        "id": "hY0lXkCtui2b",
        "outputId": "87607076-dbf9-49f6-9361-a0b2110ee562"
      },
      "execution_count": 6,
      "outputs": [
        {
          "output_type": "stream",
          "name": "stdout",
          "text": [
            "[1 2 3 4 5]\n"
          ]
        }
      ]
    },
    {
      "cell_type": "code",
      "source": [
        "#creating 2D array\n",
        "array_2D = np.array([[1,2,3],[4,5,6]])\n",
        "print(array_2D)"
      ],
      "metadata": {
        "colab": {
          "base_uri": "https://localhost:8080/"
        },
        "id": "ysjVDMuYx7O6",
        "outputId": "c6224f20-78f8-41a2-fa1e-26077c9626d6"
      },
      "execution_count": 20,
      "outputs": [
        {
          "output_type": "stream",
          "name": "stdout",
          "text": [
            "[[1 2 3]\n",
            " [4 5 6]]\n"
          ]
        }
      ]
    },
    {
      "cell_type": "code",
      "source": [
        "# creating 3D array\n",
        "\n",
        "array_3D = np.array([[[1,2,3],[4,5,6],[7,8,9]]])\n",
        "\n",
        "print(array_3D)"
      ],
      "metadata": {
        "colab": {
          "base_uri": "https://localhost:8080/"
        },
        "id": "Q8HryFKNyph-",
        "outputId": "d27e7b76-68fb-41c7-a2a3-3c20d4222847"
      },
      "execution_count": 22,
      "outputs": [
        {
          "output_type": "stream",
          "name": "stdout",
          "text": [
            "[[[1 2 3]\n",
            "  [4 5 6]\n",
            "  [7 8 9]]]\n"
          ]
        }
      ]
    },
    {
      "cell_type": "code",
      "source": [
        "# dtype\n",
        "\n",
        "array_dtype_int = np.array([1,2,3], dtype=int)\n",
        "print(array_dtype_int)\n",
        "\n",
        "array_dtype_float = np.array([1,2,3], dtype=float)\n",
        "print(array_dtype_float)\n",
        "\n",
        "array_dtype_complex = np.array([1,2,3], dtype=complex)\n",
        "print(array_dtype_complex)\n",
        "\n",
        "array_dtype_bool = np.array([1,2,4,5,0], dtype=bool)\n",
        "print(array_dtype_bool)"
      ],
      "metadata": {
        "colab": {
          "base_uri": "https://localhost:8080/"
        },
        "id": "OMViXWQpzXeh",
        "outputId": "13785813-be15-4e61-f290-753ea8e4314f"
      },
      "execution_count": 27,
      "outputs": [
        {
          "output_type": "stream",
          "name": "stdout",
          "text": [
            "[1 2 3]\n",
            "[1. 2. 3.]\n",
            "[1.+0.j 2.+0.j 3.+0.j]\n",
            "[ True  True  True  True False]\n"
          ]
        }
      ]
    },
    {
      "cell_type": "code",
      "source": [],
      "metadata": {
        "id": "8hKOOBGKzxeT"
      },
      "execution_count": null,
      "outputs": []
    },
    {
      "cell_type": "code",
      "source": [
        "# example for arange in numpy\n",
        "numpy_arange = np.arange(7)\n",
        "numpy_array_new"
      ],
      "metadata": {
        "colab": {
          "base_uri": "https://localhost:8080/"
        },
        "id": "Y_0NM_g1vLUx",
        "outputId": "90853456-acd8-4db5-d880-7f4478196a83"
      },
      "execution_count": 8,
      "outputs": [
        {
          "output_type": "execute_result",
          "data": {
            "text/plain": [
              "array([1, 2, 3, 4, 5])"
            ]
          },
          "metadata": {},
          "execution_count": 8
        }
      ]
    },
    {
      "cell_type": "code",
      "source": [
        "numpy_arange_2 = np.arange(7,2)\n",
        "numpy_arange_2"
      ],
      "metadata": {
        "colab": {
          "base_uri": "https://localhost:8080/"
        },
        "id": "HRDkK0OVvmdq",
        "outputId": "ae22d98c-4adc-4733-fffe-4a3ad5496495"
      },
      "execution_count": 16,
      "outputs": [
        {
          "output_type": "execute_result",
          "data": {
            "text/plain": [
              "array([], dtype=int64)"
            ]
          },
          "metadata": {},
          "execution_count": 16
        }
      ]
    },
    {
      "cell_type": "code",
      "source": [
        "np.arange(1,25,2)\n"
      ],
      "metadata": {
        "colab": {
          "base_uri": "https://localhost:8080/"
        },
        "id": "1nlMlHNYwZKN",
        "outputId": "65d15db4-45c9-4f8d-eb9b-92a12a8af8b5"
      },
      "execution_count": 29,
      "outputs": [
        {
          "output_type": "execute_result",
          "data": {
            "text/plain": [
              "array([ 1,  3,  5,  7,  9, 11, 13, 15, 17, 19, 21, 23])"
            ]
          },
          "metadata": {},
          "execution_count": 29
        }
      ]
    },
    {
      "cell_type": "code",
      "source": [
        "np.arange(1,11).reshape(5,2) # prints a 2D matrices"
      ],
      "metadata": {
        "colab": {
          "base_uri": "https://localhost:8080/"
        },
        "id": "b8HrYgOh1k69",
        "outputId": "3222207b-9fe9-4334-e70e-c30cb4a48b29"
      },
      "execution_count": 30,
      "outputs": [
        {
          "output_type": "execute_result",
          "data": {
            "text/plain": [
              "array([[ 1,  2],\n",
              "       [ 3,  4],\n",
              "       [ 5,  6],\n",
              "       [ 7,  8],\n",
              "       [ 9, 10]])"
            ]
          },
          "metadata": {},
          "execution_count": 30
        }
      ]
    },
    {
      "cell_type": "code",
      "source": [
        "np.zeros((4,5)) # printing a 4X5 matrices with float zeros"
      ],
      "metadata": {
        "colab": {
          "base_uri": "https://localhost:8080/"
        },
        "id": "qnLOJJX51xdo",
        "outputId": "d047c61a-a7aa-4cc9-fc2e-1ce1389452b4"
      },
      "execution_count": 32,
      "outputs": [
        {
          "output_type": "execute_result",
          "data": {
            "text/plain": [
              "array([[0., 0., 0., 0., 0.],\n",
              "       [0., 0., 0., 0., 0.],\n",
              "       [0., 0., 0., 0., 0.],\n",
              "       [0., 0., 0., 0., 0.]])"
            ]
          },
          "metadata": {},
          "execution_count": 32
        }
      ]
    },
    {
      "cell_type": "code",
      "source": [
        "np.zeros([4,5], dtype='int32')"
      ],
      "metadata": {
        "colab": {
          "base_uri": "https://localhost:8080/"
        },
        "id": "GobTrIYT2C9e",
        "outputId": "37ea4d6e-ce1b-4b00-bca5-a92115021648"
      },
      "execution_count": 33,
      "outputs": [
        {
          "output_type": "execute_result",
          "data": {
            "text/plain": [
              "array([[0, 0, 0, 0, 0],\n",
              "       [0, 0, 0, 0, 0],\n",
              "       [0, 0, 0, 0, 0],\n",
              "       [0, 0, 0, 0, 0]], dtype=int32)"
            ]
          },
          "metadata": {},
          "execution_count": 33
        }
      ]
    },
    {
      "cell_type": "code",
      "source": [
        "# np.ones and np.zeros\n",
        "np.ones((5,5), dtype=float) # prints ones"
      ],
      "metadata": {
        "colab": {
          "base_uri": "https://localhost:8080/"
        },
        "id": "EMjb4G8s2Wfh",
        "outputId": "76ffe534-680b-44de-9ee1-16c051e295b6"
      },
      "execution_count": 34,
      "outputs": [
        {
          "output_type": "execute_result",
          "data": {
            "text/plain": [
              "array([[1., 1., 1., 1., 1.],\n",
              "       [1., 1., 1., 1., 1.],\n",
              "       [1., 1., 1., 1., 1.],\n",
              "       [1., 1., 1., 1., 1.],\n",
              "       [1., 1., 1., 1., 1.]])"
            ]
          },
          "metadata": {},
          "execution_count": 34
        }
      ]
    },
    {
      "cell_type": "code",
      "source": [
        "np.ones((5,5), dtype=int) # prints ones as int"
      ],
      "metadata": {
        "colab": {
          "base_uri": "https://localhost:8080/"
        },
        "id": "N0MDaK7E2ogN",
        "outputId": "c03efcf6-c53d-49ed-eb9c-2626c777f10e"
      },
      "execution_count": 35,
      "outputs": [
        {
          "output_type": "execute_result",
          "data": {
            "text/plain": [
              "array([[1, 1, 1, 1, 1],\n",
              "       [1, 1, 1, 1, 1],\n",
              "       [1, 1, 1, 1, 1],\n",
              "       [1, 1, 1, 1, 1],\n",
              "       [1, 1, 1, 1, 1]])"
            ]
          },
          "metadata": {},
          "execution_count": 35
        }
      ]
    },
    {
      "cell_type": "code",
      "source": [
        "np.ones((5,5), dtype=bool) # prints ones as bool"
      ],
      "metadata": {
        "colab": {
          "base_uri": "https://localhost:8080/"
        },
        "id": "s8z_ejjU2p-l",
        "outputId": "43275a63-acc3-4617-ef8a-29885d970e74"
      },
      "execution_count": 36,
      "outputs": [
        {
          "output_type": "execute_result",
          "data": {
            "text/plain": [
              "array([[ True,  True,  True,  True,  True],\n",
              "       [ True,  True,  True,  True,  True],\n",
              "       [ True,  True,  True,  True,  True],\n",
              "       [ True,  True,  True,  True,  True],\n",
              "       [ True,  True,  True,  True,  True]])"
            ]
          },
          "metadata": {},
          "execution_count": 36
        }
      ]
    },
    {
      "cell_type": "code",
      "source": [
        "np.arange(1,26).reshape(5,5) # reshape (should be a correct multiples for forming matrix)"
      ],
      "metadata": {
        "colab": {
          "base_uri": "https://localhost:8080/"
        },
        "id": "L60vsxh1262G",
        "outputId": "2cff8b25-6a44-4d56-bdef-8b17e5c192ba"
      },
      "execution_count": 44,
      "outputs": [
        {
          "output_type": "execute_result",
          "data": {
            "text/plain": [
              "array([[ 1,  2,  3,  4,  5],\n",
              "       [ 6,  7,  8,  9, 10],\n",
              "       [11, 12, 13, 14, 15],\n",
              "       [16, 17, 18, 19, 20],\n",
              "       [21, 22, 23, 24, 25]])"
            ]
          },
          "metadata": {},
          "execution_count": 44
        }
      ]
    },
    {
      "cell_type": "code",
      "source": [
        "# Another Type --> random()\n",
        "\n",
        "np.random.random((4,3))"
      ],
      "metadata": {
        "colab": {
          "base_uri": "https://localhost:8080/"
        },
        "id": "w6EZyCgw3O9J",
        "outputId": "9b496548-2c27-4971-d3de-01cae110df56"
      },
      "execution_count": 52,
      "outputs": [
        {
          "output_type": "execute_result",
          "data": {
            "text/plain": [
              "array([[0.49779078, 0.48233881, 0.8649055 ],\n",
              "       [0.24197386, 0.4710522 , 0.42753976],\n",
              "       [0.0461131 , 0.8895131 , 0.41924359],\n",
              "       [0.31095083, 0.14695276, 0.8225554 ]])"
            ]
          },
          "metadata": {},
          "execution_count": 52
        }
      ]
    },
    {
      "cell_type": "code",
      "source": [
        "np.ndarray"
      ],
      "metadata": {
        "colab": {
          "base_uri": "https://localhost:8080/"
        },
        "id": "rn_Xxdtr5eTf",
        "outputId": "728342a3-d737-4499-f8f0-6582b5342238"
      },
      "execution_count": 53,
      "outputs": [
        {
          "output_type": "execute_result",
          "data": {
            "text/plain": [
              "numpy.ndarray"
            ]
          },
          "metadata": {},
          "execution_count": 53
        }
      ]
    },
    {
      "cell_type": "code",
      "source": [
        "b = np.random.randint(10,20,(5,4))\n",
        "b"
      ],
      "metadata": {
        "colab": {
          "base_uri": "https://localhost:8080/"
        },
        "id": "Jn_5sR8x6oCT",
        "outputId": "37933cc8-39be-4ee0-a9b4-4c0a3a2c1dfc"
      },
      "execution_count": 55,
      "outputs": [
        {
          "output_type": "execute_result",
          "data": {
            "text/plain": [
              "array([[17, 14, 13, 19],\n",
              "       [16, 13, 12, 12],\n",
              "       [18, 19, 11, 13],\n",
              "       [13, 15, 11, 10],\n",
              "       [19, 15, 11, 16]])"
            ]
          },
          "metadata": {},
          "execution_count": 55
        }
      ]
    },
    {
      "cell_type": "code",
      "source": [
        "b[1:3]"
      ],
      "metadata": {
        "colab": {
          "base_uri": "https://localhost:8080/"
        },
        "id": "MDPZWVvu6yr6",
        "outputId": "3b5ed770-1db5-4d3a-a5e3-3f3f516edb45"
      },
      "execution_count": 56,
      "outputs": [
        {
          "output_type": "execute_result",
          "data": {
            "text/plain": [
              "array([[16, 13, 12, 12],\n",
              "       [18, 19, 11, 13]])"
            ]
          },
          "metadata": {},
          "execution_count": 56
        }
      ]
    },
    {
      "cell_type": "code",
      "source": [
        "b[1, 0]"
      ],
      "metadata": {
        "colab": {
          "base_uri": "https://localhost:8080/"
        },
        "id": "tZVhbcdi6-EH",
        "outputId": "02d34dc3-0ac9-4603-ead1-7671eeed84a2"
      },
      "execution_count": 64,
      "outputs": [
        {
          "output_type": "execute_result",
          "data": {
            "text/plain": [
              "np.int64(16)"
            ]
          },
          "metadata": {},
          "execution_count": 64
        }
      ]
    },
    {
      "cell_type": "code",
      "source": [
        "b[0:-2]"
      ],
      "metadata": {
        "colab": {
          "base_uri": "https://localhost:8080/"
        },
        "id": "vOXuu4xU7C3E",
        "outputId": "8540eb66-9826-4a8f-f55e-15df002ae28c"
      },
      "execution_count": 65,
      "outputs": [
        {
          "output_type": "execute_result",
          "data": {
            "text/plain": [
              "array([[17, 14, 13, 19],\n",
              "       [16, 13, 12, 12],\n",
              "       [18, 19, 11, 13]])"
            ]
          },
          "metadata": {},
          "execution_count": 65
        }
      ]
    },
    {
      "cell_type": "code",
      "source": [
        "# trying with 10 X 10 matrix\n",
        "\n",
        "arr2 = np.random.randint(0,100,(10,10))\n",
        "arr2"
      ],
      "metadata": {
        "colab": {
          "base_uri": "https://localhost:8080/"
        },
        "id": "sP4DSbUu7gUy",
        "outputId": "da5ff019-ef69-44ad-9acc-44df54ebc35f"
      },
      "execution_count": 68,
      "outputs": [
        {
          "output_type": "execute_result",
          "data": {
            "text/plain": [
              "array([[20, 86, 61,  9, 77, 63, 11, 20,  0, 33],\n",
              "       [78, 94, 21, 33, 81, 24,  6, 10,  6, 56],\n",
              "       [16, 32,  8, 62, 79, 70, 24, 26,  3, 58],\n",
              "       [39, 68,  7, 84, 49,  5, 41, 46, 89, 66],\n",
              "       [40, 33, 66,  2, 36, 19, 35, 74,  6, 79],\n",
              "       [89, 64, 59, 86, 13, 72,  3, 49,  5, 49],\n",
              "       [25, 17, 55, 50,  9, 31, 48, 59, 61, 22],\n",
              "       [81,  8, 95, 77, 79, 23, 98, 16, 70, 79],\n",
              "       [94, 32,  5, 34, 58, 88, 22,  1, 50, 77],\n",
              "       [96, 15, 46, 53,  9, 39, 99, 10, 74, 26]])"
            ]
          },
          "metadata": {},
          "execution_count": 68
        }
      ]
    },
    {
      "cell_type": "code",
      "source": [
        "print(arr2[::-1])"
      ],
      "metadata": {
        "colab": {
          "base_uri": "https://localhost:8080/"
        },
        "id": "64VVseu77pRr",
        "outputId": "624af20e-ab9e-4d85-ed66-0f7c8d9fe0ac"
      },
      "execution_count": 70,
      "outputs": [
        {
          "output_type": "stream",
          "name": "stdout",
          "text": [
            "[[96 15 46 53  9 39 99 10 74 26]\n",
            " [94 32  5 34 58 88 22  1 50 77]\n",
            " [81  8 95 77 79 23 98 16 70 79]\n",
            " [25 17 55 50  9 31 48 59 61 22]\n",
            " [89 64 59 86 13 72  3 49  5 49]\n",
            " [40 33 66  2 36 19 35 74  6 79]\n",
            " [39 68  7 84 49  5 41 46 89 66]\n",
            " [16 32  8 62 79 70 24 26  3 58]\n",
            " [78 94 21 33 81 24  6 10  6 56]\n",
            " [20 86 61  9 77 63 11 20  0 33]]\n"
          ]
        }
      ]
    },
    {
      "cell_type": "code",
      "source": [
        "print(arr2[::-2])"
      ],
      "metadata": {
        "colab": {
          "base_uri": "https://localhost:8080/"
        },
        "id": "r4UM7OHA8meV",
        "outputId": "93b5cb3b-d84b-4f1f-a76e-45d2693e5efe"
      },
      "execution_count": 71,
      "outputs": [
        {
          "output_type": "stream",
          "name": "stdout",
          "text": [
            "[[96 15 46 53  9 39 99 10 74 26]\n",
            " [81  8 95 77 79 23 98 16 70 79]\n",
            " [89 64 59 86 13 72  3 49  5 49]\n",
            " [39 68  7 84 49  5 41 46 89 66]\n",
            " [78 94 21 33 81 24  6 10  6 56]]\n"
          ]
        }
      ]
    },
    {
      "cell_type": "code",
      "source": [
        "print(arr2[::-3])"
      ],
      "metadata": {
        "colab": {
          "base_uri": "https://localhost:8080/"
        },
        "id": "igS5m2SF8rqD",
        "outputId": "027b48f8-a97c-4873-86e3-d9a5a4d5491b"
      },
      "execution_count": 72,
      "outputs": [
        {
          "output_type": "stream",
          "name": "stdout",
          "text": [
            "[[96 15 46 53  9 39 99 10 74 26]\n",
            " [25 17 55 50  9 31 48 59 61 22]\n",
            " [39 68  7 84 49  5 41 46 89 66]\n",
            " [20 86 61  9 77 63 11 20  0 33]]\n"
          ]
        }
      ]
    },
    {
      "cell_type": "code",
      "source": [
        "#arr2[0:10:3]\n",
        "# This slices rows from index 0 to 9, taking 3rd row\n",
        "arr2"
      ],
      "metadata": {
        "colab": {
          "base_uri": "https://localhost:8080/"
        },
        "id": "OjCtk6RR81mZ",
        "outputId": "97359220-bd81-4255-9beb-8bd95ef4dfec"
      },
      "execution_count": 73,
      "outputs": [
        {
          "output_type": "execute_result",
          "data": {
            "text/plain": [
              "array([[20, 86, 61,  9, 77, 63, 11, 20,  0, 33],\n",
              "       [78, 94, 21, 33, 81, 24,  6, 10,  6, 56],\n",
              "       [16, 32,  8, 62, 79, 70, 24, 26,  3, 58],\n",
              "       [39, 68,  7, 84, 49,  5, 41, 46, 89, 66],\n",
              "       [40, 33, 66,  2, 36, 19, 35, 74,  6, 79],\n",
              "       [89, 64, 59, 86, 13, 72,  3, 49,  5, 49],\n",
              "       [25, 17, 55, 50,  9, 31, 48, 59, 61, 22],\n",
              "       [81,  8, 95, 77, 79, 23, 98, 16, 70, 79],\n",
              "       [94, 32,  5, 34, 58, 88, 22,  1, 50, 77],\n",
              "       [96, 15, 46, 53,  9, 39, 99, 10, 74, 26]])"
            ]
          },
          "metadata": {},
          "execution_count": 73
        }
      ]
    },
    {
      "cell_type": "code",
      "source": [
        "arr2[0:10:3]"
      ],
      "metadata": {
        "colab": {
          "base_uri": "https://localhost:8080/"
        },
        "id": "8QhQhxtk9N9B",
        "outputId": "cadb942e-d157-4cd5-984e-41ad2ac4be05"
      },
      "execution_count": 77,
      "outputs": [
        {
          "output_type": "execute_result",
          "data": {
            "text/plain": [
              "array([[20, 86, 61,  9, 77, 63, 11, 20,  0, 33],\n",
              "       [39, 68,  7, 84, 49,  5, 41, 46, 89, 66],\n",
              "       [25, 17, 55, 50,  9, 31, 48, 59, 61, 22],\n",
              "       [96, 15, 46, 53,  9, 39, 99, 10, 74, 26]])"
            ]
          },
          "metadata": {},
          "execution_count": 77
        }
      ]
    },
    {
      "cell_type": "code",
      "source": [
        "arr2[0:10:4]"
      ],
      "metadata": {
        "colab": {
          "base_uri": "https://localhost:8080/"
        },
        "id": "__gRVlaV9SA-",
        "outputId": "1bd74c0d-4ec4-447e-8152-a27572747209"
      },
      "execution_count": 78,
      "outputs": [
        {
          "output_type": "execute_result",
          "data": {
            "text/plain": [
              "array([[20, 86, 61,  9, 77, 63, 11, 20,  0, 33],\n",
              "       [40, 33, 66,  2, 36, 19, 35, 74,  6, 79],\n",
              "       [94, 32,  5, 34, 58, 88, 22,  1, 50, 77]])"
            ]
          },
          "metadata": {},
          "execution_count": 78
        }
      ]
    },
    {
      "cell_type": "code",
      "source": [
        "arr2"
      ],
      "metadata": {
        "colab": {
          "base_uri": "https://localhost:8080/"
        },
        "id": "1QBbeUy89y-W",
        "outputId": "3f8901b3-6e61-4ec4-de94-28b5805d2cd4"
      },
      "execution_count": 79,
      "outputs": [
        {
          "output_type": "execute_result",
          "data": {
            "text/plain": [
              "array([[20, 86, 61,  9, 77, 63, 11, 20,  0, 33],\n",
              "       [78, 94, 21, 33, 81, 24,  6, 10,  6, 56],\n",
              "       [16, 32,  8, 62, 79, 70, 24, 26,  3, 58],\n",
              "       [39, 68,  7, 84, 49,  5, 41, 46, 89, 66],\n",
              "       [40, 33, 66,  2, 36, 19, 35, 74,  6, 79],\n",
              "       [89, 64, 59, 86, 13, 72,  3, 49,  5, 49],\n",
              "       [25, 17, 55, 50,  9, 31, 48, 59, 61, 22],\n",
              "       [81,  8, 95, 77, 79, 23, 98, 16, 70, 79],\n",
              "       [94, 32,  5, 34, 58, 88, 22,  1, 50, 77],\n",
              "       [96, 15, 46, 53,  9, 39, 99, 10, 74, 26]])"
            ]
          },
          "metadata": {},
          "execution_count": 79
        }
      ]
    },
    {
      "cell_type": "markdown",
      "source": [
        "Numpy Array Functions"
      ],
      "metadata": {
        "id": "QxM5RAwl-UhR"
      }
    },
    {
      "cell_type": "code",
      "source": [
        "print(arr2.max())"
      ],
      "metadata": {
        "colab": {
          "base_uri": "https://localhost:8080/"
        },
        "id": "FPIOBkyr97Nb",
        "outputId": "df55ce0f-7c33-49db-a008-9abd6ccfd436"
      },
      "execution_count": 81,
      "outputs": [
        {
          "output_type": "stream",
          "name": "stdout",
          "text": [
            "99\n"
          ]
        }
      ]
    },
    {
      "cell_type": "code",
      "source": [
        "print(arr2.min())"
      ],
      "metadata": {
        "colab": {
          "base_uri": "https://localhost:8080/"
        },
        "id": "V6x3nEaR-cFy",
        "outputId": "b719f68b-b6bf-4a3e-8946-4e8e07033829"
      },
      "execution_count": 82,
      "outputs": [
        {
          "output_type": "stream",
          "name": "stdout",
          "text": [
            "0\n"
          ]
        }
      ]
    },
    {
      "cell_type": "code",
      "source": [
        "print(arr2.mean())"
      ],
      "metadata": {
        "colab": {
          "base_uri": "https://localhost:8080/"
        },
        "id": "I7ZUvCIy-hb8",
        "outputId": "16aaadb1-cba0-483d-8935-c7d1e6e5e8f1"
      },
      "execution_count": 84,
      "outputs": [
        {
          "output_type": "stream",
          "name": "stdout",
          "text": [
            "44.71\n"
          ]
        }
      ]
    },
    {
      "cell_type": "code",
      "source": [
        "print(arr2.mode())"
      ],
      "metadata": {
        "colab": {
          "base_uri": "https://localhost:8080/",
          "height": 146
        },
        "id": "bi3J1YIX-gfP",
        "outputId": "05f5cdb0-cc7d-435e-cfeb-88149eaab692"
      },
      "execution_count": 85,
      "outputs": [
        {
          "output_type": "error",
          "ename": "AttributeError",
          "evalue": "'numpy.ndarray' object has no attribute 'mode'",
          "traceback": [
            "\u001b[0;31m---------------------------------------------------------------------------\u001b[0m",
            "\u001b[0;31mAttributeError\u001b[0m                            Traceback (most recent call last)",
            "\u001b[0;32m<ipython-input-85-e65b1ba001bc>\u001b[0m in \u001b[0;36m<cell line: 0>\u001b[0;34m()\u001b[0m\n\u001b[0;32m----> 1\u001b[0;31m \u001b[0mprint\u001b[0m\u001b[0;34m(\u001b[0m\u001b[0marr2\u001b[0m\u001b[0;34m.\u001b[0m\u001b[0mmode\u001b[0m\u001b[0;34m(\u001b[0m\u001b[0;34m)\u001b[0m\u001b[0;34m)\u001b[0m\u001b[0;34m\u001b[0m\u001b[0;34m\u001b[0m\u001b[0m\n\u001b[0m",
            "\u001b[0;31mAttributeError\u001b[0m: 'numpy.ndarray' object has no attribute 'mode'"
          ]
        }
      ]
    },
    {
      "cell_type": "code",
      "source": [
        "from numpy import *\n",
        "a = median(arr2)\n",
        "a"
      ],
      "metadata": {
        "colab": {
          "base_uri": "https://localhost:8080/"
        },
        "id": "V3yj5F8_-tIT",
        "outputId": "26d93305-3b9e-4c8f-ec5c-7bfcd99b8333"
      },
      "execution_count": 86,
      "outputs": [
        {
          "output_type": "execute_result",
          "data": {
            "text/plain": [
              "np.float64(43.5)"
            ]
          },
          "metadata": {},
          "execution_count": 86
        }
      ]
    },
    {
      "cell_type": "code",
      "source": [
        "arr2"
      ],
      "metadata": {
        "colab": {
          "base_uri": "https://localhost:8080/"
        },
        "id": "wwa5U6Vw_N5i",
        "outputId": "aa78cbaa-7935-437d-d0e2-f54d56522454"
      },
      "execution_count": 88,
      "outputs": [
        {
          "output_type": "execute_result",
          "data": {
            "text/plain": [
              "array([[20, 86, 61,  9, 77, 63, 11, 20,  0, 33],\n",
              "       [78, 94, 21, 33, 81, 24,  6, 10,  6, 56],\n",
              "       [16, 32,  8, 62, 79, 70, 24, 26,  3, 58],\n",
              "       [39, 68,  7, 84, 49,  5, 41, 46, 89, 66],\n",
              "       [40, 33, 66,  2, 36, 19, 35, 74,  6, 79],\n",
              "       [89, 64, 59, 86, 13, 72,  3, 49,  5, 49],\n",
              "       [25, 17, 55, 50,  9, 31, 48, 59, 61, 22],\n",
              "       [81,  8, 95, 77, 79, 23, 98, 16, 70, 79],\n",
              "       [94, 32,  5, 34, 58, 88, 22,  1, 50, 77],\n",
              "       [96, 15, 46, 53,  9, 39, 99, 10, 74, 26]])"
            ]
          },
          "metadata": {},
          "execution_count": 88
        }
      ]
    },
    {
      "cell_type": "code",
      "source": [
        "row =5\n",
        "col = 6\n",
        "\n",
        "print(arr2[row,col])"
      ],
      "metadata": {
        "colab": {
          "base_uri": "https://localhost:8080/"
        },
        "id": "wR7zjXDO-1GE",
        "outputId": "c2369e98-fa9e-4272-968d-175a267f4a7a"
      },
      "execution_count": 89,
      "outputs": [
        {
          "output_type": "stream",
          "name": "stdout",
          "text": [
            "3\n"
          ]
        }
      ]
    },
    {
      "cell_type": "code",
      "source": [
        "print(arr2[6,5])"
      ],
      "metadata": {
        "colab": {
          "base_uri": "https://localhost:8080/"
        },
        "id": "G6pfkYg3_JNQ",
        "outputId": "48ec20ad-2b90-45d8-dec8-540f11bffb2a"
      },
      "execution_count": 100,
      "outputs": [
        {
          "output_type": "stream",
          "name": "stdout",
          "text": [
            "31\n"
          ]
        }
      ]
    },
    {
      "cell_type": "code",
      "source": [
        "print(arr2[5:6, 2:3])"
      ],
      "metadata": {
        "colab": {
          "base_uri": "https://localhost:8080/"
        },
        "id": "EKpLGerX_wzL",
        "outputId": "c0a5faa1-0614-4461-a6ce-6f2959639fd7"
      },
      "execution_count": 91,
      "outputs": [
        {
          "output_type": "stream",
          "name": "stdout",
          "text": [
            "[[59]]\n"
          ]
        }
      ]
    },
    {
      "cell_type": "code",
      "source": [
        "arr2[7:10]"
      ],
      "metadata": {
        "colab": {
          "base_uri": "https://localhost:8080/"
        },
        "id": "yuc7dCKnCQ7B",
        "outputId": "e2f126a5-8385-4748-ccdd-02993c12949b"
      },
      "execution_count": 105,
      "outputs": [
        {
          "output_type": "execute_result",
          "data": {
            "text/plain": [
              "array([[81,  8, 95, 77, 79, 23, 98, 16, 70, 79],\n",
              "       [94, 32,  5, 34, 58, 88, 22,  1, 50, 77],\n",
              "       [96, 15, 46, 53,  9, 39, 99, 10, 74, 26]])"
            ]
          },
          "metadata": {},
          "execution_count": 105
        }
      ]
    },
    {
      "cell_type": "code",
      "source": [
        "arr2[:,col] # prints the column as blow is the result of column"
      ],
      "metadata": {
        "colab": {
          "base_uri": "https://localhost:8080/"
        },
        "id": "ZPNFpO0jDhor",
        "outputId": "4106aff1-84fb-4832-f78f-258c9884add4"
      },
      "execution_count": 106,
      "outputs": [
        {
          "output_type": "execute_result",
          "data": {
            "text/plain": [
              "array([11,  6, 24, 41, 35,  3, 48, 98, 22, 99])"
            ]
          },
          "metadata": {},
          "execution_count": 106
        }
      ]
    },
    {
      "cell_type": "code",
      "source": [
        "print(row)\n",
        "print(col)"
      ],
      "metadata": {
        "colab": {
          "base_uri": "https://localhost:8080/"
        },
        "id": "BoumFa4fECh1",
        "outputId": "ae6eb425-8d8c-4c98-8e09-76c0456a76fa"
      },
      "execution_count": 107,
      "outputs": [
        {
          "output_type": "stream",
          "name": "stdout",
          "text": [
            "5\n",
            "6\n"
          ]
        }
      ]
    },
    {
      "cell_type": "code",
      "source": [
        "print(arr2[row,:])"
      ],
      "metadata": {
        "colab": {
          "base_uri": "https://localhost:8080/"
        },
        "id": "jkndGaHOEHdn",
        "outputId": "5ac0d01e-8f2f-4fa6-e372-6f4c58152034"
      },
      "execution_count": 110,
      "outputs": [
        {
          "output_type": "stream",
          "name": "stdout",
          "text": [
            "[89 64 59 86 13 72  3 49  5 49]\n"
          ]
        }
      ]
    },
    {
      "cell_type": "code",
      "source": [
        "print(arr2[:,-1])"
      ],
      "metadata": {
        "colab": {
          "base_uri": "https://localhost:8080/"
        },
        "id": "4Uixer0zEs6H",
        "outputId": "c2717770-79f0-40ba-b8c8-1e5352a92b29"
      },
      "execution_count": 111,
      "outputs": [
        {
          "output_type": "stream",
          "name": "stdout",
          "text": [
            "[33 56 58 66 79 49 22 79 77 26]\n"
          ]
        }
      ]
    },
    {
      "cell_type": "code",
      "source": [
        "print(arr2[:])"
      ],
      "metadata": {
        "colab": {
          "base_uri": "https://localhost:8080/"
        },
        "id": "cl8-xKiiE_cH",
        "outputId": "bd3c1303-94f2-4a23-837f-7c17d09665b3"
      },
      "execution_count": 116,
      "outputs": [
        {
          "output_type": "stream",
          "name": "stdout",
          "text": [
            "[[20 86 61  9 77 63 11 20  0 33]\n",
            " [78 94 21 33 81 24  6 10  6 56]\n",
            " [16 32  8 62 79 70 24 26  3 58]\n",
            " [39 68  7 84 49  5 41 46 89 66]\n",
            " [40 33 66  2 36 19 35 74  6 79]\n",
            " [89 64 59 86 13 72  3 49  5 49]\n",
            " [25 17 55 50  9 31 48 59 61 22]\n",
            " [81  8 95 77 79 23 98 16 70 79]\n",
            " [94 32  5 34 58 88 22  1 50 77]\n",
            " [96 15 46 53  9 39 99 10 74 26]]\n"
          ]
        }
      ]
    },
    {
      "cell_type": "markdown",
      "source": [
        "Masking:\n",
        "\n",
        "Masking means applying a condition to a numpy arry to filter/select elements based on True/False values.\n",
        "\n"
      ],
      "metadata": {
        "id": "jV9u7NAYFaJW"
      }
    },
    {
      "cell_type": "code",
      "source": [
        "arr2 > 50 # This will just set the values greater than 50 to True and 50 and less than to False"
      ],
      "metadata": {
        "colab": {
          "base_uri": "https://localhost:8080/"
        },
        "id": "EbroT5GPFHF9",
        "outputId": "cf218f73-1dcd-427b-b8a4-37093a1b83cc"
      },
      "execution_count": 118,
      "outputs": [
        {
          "output_type": "execute_result",
          "data": {
            "text/plain": [
              "array([[False,  True,  True, False,  True,  True, False, False, False,\n",
              "        False],\n",
              "       [ True,  True, False, False,  True, False, False, False, False,\n",
              "         True],\n",
              "       [False, False, False,  True,  True,  True, False, False, False,\n",
              "         True],\n",
              "       [False,  True, False,  True, False, False, False, False,  True,\n",
              "         True],\n",
              "       [False, False,  True, False, False, False, False,  True, False,\n",
              "         True],\n",
              "       [ True,  True,  True,  True, False,  True, False, False, False,\n",
              "        False],\n",
              "       [False, False,  True, False, False, False, False,  True,  True,\n",
              "        False],\n",
              "       [ True, False,  True,  True,  True, False,  True, False,  True,\n",
              "         True],\n",
              "       [ True, False, False, False,  True,  True, False, False, False,\n",
              "         True],\n",
              "       [ True, False, False,  True, False, False,  True, False,  True,\n",
              "        False]])"
            ]
          },
          "metadata": {},
          "execution_count": 118
        }
      ]
    },
    {
      "cell_type": "code",
      "source": [
        "print(arr2[arr2 > 50]) # this would give the values greater than 50"
      ],
      "metadata": {
        "colab": {
          "base_uri": "https://localhost:8080/"
        },
        "id": "o9nUhEW9FrjB",
        "outputId": "9806db2b-1065-4be3-a511-bc6121ed3849"
      },
      "execution_count": 121,
      "outputs": [
        {
          "output_type": "stream",
          "name": "stdout",
          "text": [
            "[86 61 77 63 78 94 81 56 62 79 70 58 68 84 89 66 66 74 79 89 64 59 86 72\n",
            " 55 59 61 81 95 77 79 98 70 79 94 58 88 77 96 53 99 74]\n"
          ]
        }
      ]
    },
    {
      "cell_type": "code",
      "source": [],
      "metadata": {
        "id": "-CuQod4OF8em"
      },
      "execution_count": null,
      "outputs": []
    }
  ]
}