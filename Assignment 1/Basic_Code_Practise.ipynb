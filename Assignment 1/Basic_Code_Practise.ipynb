{
 "cells": [
  {
   "cell_type": "markdown",
   "id": "d10bd703-cd7e-43f0-be7d-6feb8ab1afe7",
   "metadata": {},
   "source": [
    "# Introduction to Python"
   ]
  },
  {
   "cell_type": "code",
   "execution_count": 2,
   "id": "5ae9bbd9-69ab-45c5-8512-9088ffd324a9",
   "metadata": {},
   "outputs": [
    {
     "name": "stdout",
     "output_type": "stream",
     "text": [
      "7\n",
      "3\n",
      "10\n",
      "2.5\n",
      "2\n",
      "1\n"
     ]
    }
   ],
   "source": [
    "print(5 + 2) # python addition\n",
    "print(5 -2) # python substraction\n",
    "print(5 * 2) # python multiplication\n",
    "print(5/2) # python division\n",
    "print(5//2) #python floor division\n",
    "print(5%2) # python modulous\n"
   ]
  },
  {
   "cell_type": "code",
   "execution_count": 8,
   "id": "8475dfb8-76bf-42cd-b71b-aaa68bf24ee0",
   "metadata": {},
   "outputs": [
    {
     "name": "stdout",
     "output_type": "stream",
     "text": [
      "<class 'int'>\n",
      "<class 'float'>\n",
      "<class 'complex'>\n",
      "<class 'str'>\n",
      "<class 'list'>\n",
      "<class 'tuple'>\n",
      "<class 'set'>\n",
      "<class 'dict'>\n",
      "<class 'bool'>\n",
      "<class 'bool'>\n"
     ]
    }
   ],
   "source": [
    "print(type(10)) #integer\n",
    "print(type(3.14)) #float\n",
    "print(type(1+2j)) #complex\n",
    "print(type('Vinay')) #string\n",
    "print(type([1,2,4])) #List\n",
    "print(type((1,2,3,4))) #tuple\n",
    "print(type({1,2,3})) #set\n",
    "print(type({'name':'vinay'})) # Dictionary\n",
    "print(type(3==3)) #bool\n",
    "print(type(3>3)) #bool"
   ]
  },
  {
   "cell_type": "code",
   "execution_count": null,
   "id": "98d20d24-fe64-4807-95d5-3f775f12698a",
   "metadata": {},
   "outputs": [],
   "source": []
  },
  {
   "cell_type": "code",
   "execution_count": null,
   "id": "fd5c8dab-51b3-41f4-aca0-3824153f3da5",
   "metadata": {},
   "outputs": [],
   "source": []
  },
  {
   "cell_type": "code",
   "execution_count": null,
   "id": "ff1d0597-e622-4fc0-9bab-ae766e74b212",
   "metadata": {},
   "outputs": [],
   "source": []
  },
  {
   "cell_type": "code",
   "execution_count": null,
   "id": "476968ab-f88b-4107-ae3d-1cec2895603d",
   "metadata": {},
   "outputs": [],
   "source": []
  },
  {
   "cell_type": "code",
   "execution_count": null,
   "id": "e52618c2-27f4-4a4c-bd6b-65568d00b271",
   "metadata": {},
   "outputs": [],
   "source": []
  }
 ],
 "metadata": {
  "kernelspec": {
   "display_name": "Python [conda env:base] *",
   "language": "python",
   "name": "conda-base-py"
  },
  "language_info": {
   "codemirror_mode": {
    "name": "ipython",
    "version": 3
   },
   "file_extension": ".py",
   "mimetype": "text/x-python",
   "name": "python",
   "nbconvert_exporter": "python",
   "pygments_lexer": "ipython3",
   "version": "3.12.7"
  }
 },
 "nbformat": 4,
 "nbformat_minor": 5
}
