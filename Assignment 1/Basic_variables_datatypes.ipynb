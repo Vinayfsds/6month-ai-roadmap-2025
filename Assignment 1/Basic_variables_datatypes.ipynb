{
 "cells": [
  {
   "cell_type": "markdown",
   "id": "b80188c8-b609-4f01-a3c3-1978c1053bf5",
   "metadata": {},
   "source": [
    "# simple numbers"
   ]
  },
  {
   "cell_type": "code",
   "execution_count": 2,
   "id": "8e1d3d28-d682-4ee3-b89e-69271990cebe",
   "metadata": {},
   "outputs": [
    {
     "data": {
      "text/plain": [
       "4"
      ]
     },
     "execution_count": 2,
     "metadata": {},
     "output_type": "execute_result"
    }
   ],
   "source": [
    "4\n"
   ]
  },
  {
   "cell_type": "code",
   "execution_count": 8,
   "id": "4717f9d0-0d51-4ee1-8125-24f0ba71db0a",
   "metadata": {},
   "outputs": [
    {
     "data": {
      "text/plain": [
       "8"
      ]
     },
     "execution_count": 8,
     "metadata": {},
     "output_type": "execute_result"
    }
   ],
   "source": [
    "4 + 4 # addition operation"
   ]
  },
  {
   "cell_type": "code",
   "execution_count": 10,
   "id": "6563d9e2-94ed-437c-85ac-c32d0182a51f",
   "metadata": {},
   "outputs": [
    {
     "data": {
      "text/plain": [
       "1"
      ]
     },
     "execution_count": 10,
     "metadata": {},
     "output_type": "execute_result"
    }
   ],
   "source": [
    "4-3 # subraction"
   ]
  },
  {
   "cell_type": "code",
   "execution_count": 12,
   "id": "3be9c52a-b641-42e7-b3c7-d627ba1316e1",
   "metadata": {},
   "outputs": [
    {
     "data": {
      "text/plain": [
       "12"
      ]
     },
     "execution_count": 12,
     "metadata": {},
     "output_type": "execute_result"
    }
   ],
   "source": [
    "4 * 3 # multiplication"
   ]
  },
  {
   "cell_type": "code",
   "execution_count": 14,
   "id": "37fdb5d2-3977-4d6f-bfdb-e8b301d553bd",
   "metadata": {},
   "outputs": [
    {
     "data": {
      "text/plain": [
       "1.3333333333333333"
      ]
     },
     "execution_count": 14,
     "metadata": {},
     "output_type": "execute_result"
    }
   ],
   "source": [
    "4 / 3 # simple division"
   ]
  },
  {
   "cell_type": "code",
   "execution_count": 16,
   "id": "8d40b7d3-96d1-4cc1-b78d-0d7d6862f2be",
   "metadata": {},
   "outputs": [
    {
     "data": {
      "text/plain": [
       "1"
      ]
     },
     "execution_count": 16,
     "metadata": {},
     "output_type": "execute_result"
    }
   ],
   "source": [
    "4//3 # floor division"
   ]
  },
  {
   "cell_type": "code",
   "execution_count": 26,
   "id": "a3f3f553-fc14-4408-948d-94f6570c013c",
   "metadata": {},
   "outputs": [
    {
     "data": {
      "text/plain": [
       "4"
      ]
     },
     "execution_count": 26,
     "metadata": {},
     "output_type": "execute_result"
    }
   ],
   "source": [
    "4 % 5  #using modulous"
   ]
  },
  {
   "cell_type": "markdown",
   "id": "e9489bf0-4665-406e-a883-8f33fb4844f5",
   "metadata": {},
   "source": [
    "# Numbers are operands and + - * / are operators"
   ]
  },
  {
   "cell_type": "markdown",
   "id": "15cd40c6-637b-4c62-8fc5-807fc3415b83",
   "metadata": {},
   "source": [
    " What are the different operators\n",
    " - arithmetic operator\n",
    " - assignment operator\n",
    " - rational operator\n",
    " - logical operator\n",
    " - Unary operator\n"
   ]
  },
  {
   "cell_type": "code",
   "execution_count": 35,
   "id": "8d714918-ffe6-444e-a068-558a34058d7f",
   "metadata": {},
   "outputs": [
    {
     "data": {
      "text/plain": [
       "15"
      ]
     },
     "execution_count": 35,
     "metadata": {},
     "output_type": "execute_result"
    }
   ],
   "source": [
    " 10 + 5"
   ]
  },
  {
   "cell_type": "code",
   "execution_count": 36,
   "id": "f076cae7-e569-41dc-ac27-0bd307b94a45",
   "metadata": {},
   "outputs": [
    {
     "data": {
      "text/plain": [
       "5"
      ]
     },
     "execution_count": 36,
     "metadata": {},
     "output_type": "execute_result"
    }
   ],
   "source": [
    "10 - 5"
   ]
  },
  {
   "cell_type": "code",
   "execution_count": 57,
   "id": "8591b306-1b6f-4c69-bb3f-28d347aa028c",
   "metadata": {},
   "outputs": [
    {
     "data": {
      "text/plain": [
       "50"
      ]
     },
     "execution_count": 57,
     "metadata": {},
     "output_type": "execute_result"
    }
   ],
   "source": [
    "10 * 5"
   ]
  },
  {
   "cell_type": "code",
   "execution_count": 58,
   "id": "58a365ff-26c4-4fe4-9399-16e7a62f9bac",
   "metadata": {},
   "outputs": [
    {
     "data": {
      "text/plain": [
       "2.0"
      ]
     },
     "execution_count": 58,
     "metadata": {},
     "output_type": "execute_result"
    }
   ],
   "source": [
    "10 /5"
   ]
  },
  {
   "cell_type": "code",
   "execution_count": 61,
   "id": "777caad4-0c5e-4699-bef4-8ae4875d30de",
   "metadata": {},
   "outputs": [
    {
     "data": {
      "text/plain": [
       "100"
      ]
     },
     "execution_count": 61,
     "metadata": {},
     "output_type": "execute_result"
    }
   ],
   "source": [
    "10 ** 2 # 10 to the power of 2"
   ]
  },
  {
   "cell_type": "code",
   "execution_count": 62,
   "id": "9721838d-49f6-4bc5-b79e-5ea937a5c01d",
   "metadata": {},
   "outputs": [
    {
     "ename": "SyntaxError",
     "evalue": "invalid syntax (2368405663.py, line 1)",
     "output_type": "error",
     "traceback": [
      "\u001b[1;36m  Cell \u001b[1;32mIn[62], line 1\u001b[1;36m\u001b[0m\n\u001b[1;33m    10 *** 2\u001b[0m\n\u001b[1;37m         ^\u001b[0m\n\u001b[1;31mSyntaxError\u001b[0m\u001b[1;31m:\u001b[0m invalid syntax\n"
     ]
    }
   ],
   "source": [
    "10 *** 2"
   ]
  },
  {
   "cell_type": "markdown",
   "id": "6075b996-e4de-4ead-9c2f-a72ad72d0937",
   "metadata": {},
   "source": [
    " # Assignment Operator"
   ]
  },
  {
   "cell_type": "code",
   "execution_count": 106,
   "id": "8d462437-80e6-4ce8-bd0d-7dff116a1ab2",
   "metadata": {},
   "outputs": [
    {
     "data": {
      "text/plain": [
       "10"
      ]
     },
     "execution_count": 106,
     "metadata": {},
     "output_type": "execute_result"
    }
   ],
   "source": [
    "x =10\n",
    "x\n",
    "# x is called variable or identifier or object"
   ]
  },
  {
   "cell_type": "code",
   "execution_count": 108,
   "id": "c6196316-44fe-462b-aaf5-f4df0cfdc9bb",
   "metadata": {},
   "outputs": [
    {
     "data": {
      "text/plain": [
       "12"
      ]
     },
     "execution_count": 108,
     "metadata": {},
     "output_type": "execute_result"
    }
   ],
   "source": [
    "x + 2"
   ]
  },
  {
   "cell_type": "code",
   "execution_count": 110,
   "id": "1251a820-6084-4773-b039-f02c31dcd099",
   "metadata": {},
   "outputs": [
    {
     "data": {
      "text/plain": [
       "12"
      ]
     },
     "execution_count": 110,
     "metadata": {},
     "output_type": "execute_result"
    }
   ],
   "source": [
    "x += 2\n",
    "x"
   ]
  },
  {
   "cell_type": "code",
   "execution_count": 114,
   "id": "7a8537a6-d259-4be6-88bd-c41f832c6fa7",
   "metadata": {},
   "outputs": [],
   "source": [
    "x +=4"
   ]
  },
  {
   "cell_type": "code",
   "execution_count": 116,
   "id": "107c4d60-d64c-4bc6-a445-afeabf1ba029",
   "metadata": {},
   "outputs": [
    {
     "data": {
      "text/plain": [
       "16"
      ]
     },
     "execution_count": 116,
     "metadata": {},
     "output_type": "execute_result"
    }
   ],
   "source": [
    "x"
   ]
  },
  {
   "cell_type": "code",
   "execution_count": 120,
   "id": "bc1a98bc-e902-4869-a903-8b2badbd4f9b",
   "metadata": {},
   "outputs": [],
   "source": [
    " x +=3"
   ]
  },
  {
   "cell_type": "code",
   "execution_count": 122,
   "id": "9b2c03b5-eb95-4547-955e-ce9825b843a4",
   "metadata": {},
   "outputs": [
    {
     "data": {
      "text/plain": [
       "19"
      ]
     },
     "execution_count": 122,
     "metadata": {},
     "output_type": "execute_result"
    }
   ],
   "source": [
    "x"
   ]
  },
  {
   "cell_type": "code",
   "execution_count": 138,
   "id": "3764d41a-5d80-4b05-955d-ba012e780319",
   "metadata": {},
   "outputs": [
    {
     "data": {
      "text/plain": [
       "18"
      ]
     },
     "execution_count": 138,
     "metadata": {},
     "output_type": "execute_result"
    }
   ],
   "source": [
    " x -=1\n",
    "x"
   ]
  },
  {
   "cell_type": "code",
   "execution_count": 140,
   "id": "8ce29ca1-756c-4d00-a3ba-3241c9b9d9e2",
   "metadata": {},
   "outputs": [],
   "source": [
    "x *=2"
   ]
  },
  {
   "cell_type": "code",
   "execution_count": 143,
   "id": "27496df1-7cb1-4dc0-a901-eaee65f6f936",
   "metadata": {},
   "outputs": [
    {
     "data": {
      "text/plain": [
       "36"
      ]
     },
     "execution_count": 143,
     "metadata": {},
     "output_type": "execute_result"
    }
   ],
   "source": [
    "x"
   ]
  },
  {
   "cell_type": "code",
   "execution_count": 145,
   "id": "bc54bf12-513f-4e16-a59c-9e6a9641bb86",
   "metadata": {},
   "outputs": [
    {
     "data": {
      "text/plain": [
       "18.0"
      ]
     },
     "execution_count": 145,
     "metadata": {},
     "output_type": "execute_result"
    }
   ],
   "source": [
    "x /=2\n",
    "x"
   ]
  },
  {
   "cell_type": "markdown",
   "id": "41bafb28-4847-4e6c-92ef-a91fe6a1b8cc",
   "metadata": {},
   "source": [
    "# unary operator"
   ]
  },
  {
   "cell_type": "code",
   "execution_count": 190,
   "id": "35929869-daed-4b2b-9c35-d2672e478614",
   "metadata": {},
   "outputs": [
    {
     "data": {
      "text/plain": [
       "7"
      ]
     },
     "execution_count": 190,
     "metadata": {},
     "output_type": "execute_result"
    }
   ],
   "source": [
    "n =7\n",
    "n"
   ]
  },
  {
   "cell_type": "code",
   "execution_count": 192,
   "id": "ae8c007f-0857-4a3f-a516-e8e28c038a51",
   "metadata": {},
   "outputs": [
    {
     "data": {
      "text/plain": [
       "-7"
      ]
     },
     "execution_count": 192,
     "metadata": {},
     "output_type": "execute_result"
    }
   ],
   "source": [
    "m =-n\n",
    "m"
   ]
  },
  {
   "cell_type": "markdown",
   "id": "12eb608d-6a04-408c-b662-53de93291ddd",
   "metadata": {},
   "source": [
    "# Variable and its valid and invalid declaration"
   ]
  },
  {
   "cell_type": "code",
   "execution_count": 207,
   "id": "5a838598-b0d3-472d-8566-ba013da430f1",
   "metadata": {},
   "outputs": [
    {
     "ename": "SyntaxError",
     "evalue": "invalid decimal literal (2360078672.py, line 1)",
     "output_type": "error",
     "traceback": [
      "\u001b[1;36m  Cell \u001b[1;32mIn[207], line 1\u001b[1;36m\u001b[0m\n\u001b[1;33m    1nit =6 # this is invalid declartion od variable\u001b[0m\n\u001b[1;37m    ^\u001b[0m\n\u001b[1;31mSyntaxError\u001b[0m\u001b[1;31m:\u001b[0m invalid decimal literal\n"
     ]
    }
   ],
   "source": [
    "1nit =6 # this is invalid declartion od variable\n"
   ]
  },
  {
   "cell_type": "code",
   "execution_count": 213,
   "id": "6a6157e6-3eba-45bc-86c9-f05be5ec14c7",
   "metadata": {},
   "outputs": [
    {
     "ename": "NameError",
     "evalue": "name 'test' is not defined",
     "output_type": "error",
     "traceback": [
      "\u001b[1;31m---------------------------------------------------------------------------\u001b[0m",
      "\u001b[1;31mNameError\u001b[0m                                 Traceback (most recent call last)",
      "Cell \u001b[1;32mIn[213], line 1\u001b[0m\n\u001b[1;32m----> 1\u001b[0m test\n",
      "\u001b[1;31mNameError\u001b[0m: name 'test' is not defined"
     ]
    }
   ],
   "source": [
    "test # only variable cannot declare without assigning value"
   ]
  },
  {
   "cell_type": "code",
   "execution_count": 224,
   "id": "73e07156-42fd-4ce0-8618-b0d565ca1eaf",
   "metadata": {},
   "outputs": [
    {
     "ename": "SyntaxError",
     "evalue": "invalid syntax (118138353.py, line 1)",
     "output_type": "error",
     "traceback": [
      "\u001b[1;36m  Cell \u001b[1;32mIn[224], line 1\u001b[1;36m\u001b[0m\n\u001b[1;33m    nit$ = 'test' # valid with these kind of special characters are not allowed\u001b[0m\n\u001b[1;37m       ^\u001b[0m\n\u001b[1;31mSyntaxError\u001b[0m\u001b[1;31m:\u001b[0m invalid syntax\n"
     ]
    }
   ],
   "source": [
    "nit$ = 'test' # valid with these kind of special characters are not allowed\n",
    "nit$"
   ]
  },
  {
   "cell_type": "code",
   "execution_count": 226,
   "id": "a0fc486b-1099-4de6-b640-ac6cb5132d77",
   "metadata": {},
   "outputs": [
    {
     "data": {
      "text/plain": [
       "123"
      ]
     },
     "execution_count": 226,
     "metadata": {},
     "output_type": "execute_result"
    }
   ],
   "source": [
    "test_ = 123 # vaid way pf delcaring the varaible as only '_' underscore is allowed\n",
    "test_"
   ]
  },
  {
   "cell_type": "code",
   "execution_count": 240,
   "id": "5bd9a1be-4bc3-4207-bef5-7adfca066d37",
   "metadata": {},
   "outputs": [
    {
     "data": {
      "text/plain": [
       "int"
      ]
     },
     "execution_count": 240,
     "metadata": {},
     "output_type": "execute_result"
    }
   ],
   "source": [
    "type(test_)"
   ]
  },
  {
   "cell_type": "code",
   "execution_count": 242,
   "id": "8d5eb4a4-6b6f-4c28-ba72-746fe9972d3b",
   "metadata": {},
   "outputs": [
    {
     "ename": "SyntaxError",
     "evalue": "invalid syntax (2118216469.py, line 1)",
     "output_type": "error",
     "traceback": [
      "\u001b[1;36m  Cell \u001b[1;32mIn[242], line 1\u001b[1;36m\u001b[0m\n\u001b[1;33m    def = 123455 # python defined keywords are not allowed\u001b[0m\n\u001b[1;37m        ^\u001b[0m\n\u001b[1;31mSyntaxError\u001b[0m\u001b[1;31m:\u001b[0m invalid syntax\n"
     ]
    }
   ],
   "source": [
    "def = 123455 # python defined keywords are not allowed\n"
   ]
  },
  {
   "cell_type": "code",
   "execution_count": 244,
   "id": "5ce08bca-b870-412e-8fbd-8c1db5076cdd",
   "metadata": {},
   "outputs": [
    {
     "data": {
      "text/plain": [
       "['False',\n",
       " 'None',\n",
       " 'True',\n",
       " 'and',\n",
       " 'as',\n",
       " 'assert',\n",
       " 'async',\n",
       " 'await',\n",
       " 'break',\n",
       " 'class',\n",
       " 'continue',\n",
       " 'def',\n",
       " 'del',\n",
       " 'elif',\n",
       " 'else',\n",
       " 'except',\n",
       " 'finally',\n",
       " 'for',\n",
       " 'from',\n",
       " 'global',\n",
       " 'if',\n",
       " 'import',\n",
       " 'in',\n",
       " 'is',\n",
       " 'lambda',\n",
       " 'nonlocal',\n",
       " 'not',\n",
       " 'or',\n",
       " 'pass',\n",
       " 'raise',\n",
       " 'return',\n",
       " 'try',\n",
       " 'while',\n",
       " 'with',\n",
       " 'yield']"
      ]
     },
     "execution_count": 244,
     "metadata": {},
     "output_type": "execute_result"
    }
   ],
   "source": [
    "import keyword\n",
    "keyword.kwlist"
   ]
  },
  {
   "cell_type": "code",
   "execution_count": 248,
   "id": "4b1e3a5d-357c-471f-b422-33d796df108b",
   "metadata": {},
   "outputs": [
    {
     "data": {
      "text/plain": [
       "35"
      ]
     },
     "execution_count": 248,
     "metadata": {},
     "output_type": "execute_result"
    }
   ],
   "source": [
    "len(keyword.kwlist) # to know the keywords count"
   ]
  },
  {
   "cell_type": "code",
   "execution_count": 250,
   "id": "363fb35d-4fd2-4ac8-8e6c-901ba05e744d",
   "metadata": {},
   "outputs": [
    {
     "data": {
      "text/plain": [
       "'3.12.7 | packaged by Anaconda, Inc. | (main, Oct  4 2024, 13:17:27) [MSC v.1929 64 bit (AMD64)]'"
      ]
     },
     "execution_count": 250,
     "metadata": {},
     "output_type": "execute_result"
    }
   ],
   "source": [
    "import sys\n",
    "sys.version\n"
   ]
  },
  {
   "cell_type": "code",
   "execution_count": 260,
   "id": "46043b85-45ef-4991-9fc7-edd989436fc2",
   "metadata": {},
   "outputs": [
    {
     "name": "stdout",
     "output_type": "stream",
     "text": [
      "10\n"
     ]
    }
   ],
   "source": [
    "a = 10\n",
    "print(a)"
   ]
  },
  {
   "cell_type": "code",
   "execution_count": 262,
   "id": "86a344b7-f0b9-40a3-b908-fa2261b862f7",
   "metadata": {},
   "outputs": [
    {
     "name": "stdout",
     "output_type": "stream",
     "text": [
      "test\n"
     ]
    }
   ],
   "source": [
    "a= 'test'\n",
    "print(a)"
   ]
  },
  {
   "cell_type": "markdown",
   "id": "9aacaf92-0d8d-4c31-88b2-991f5d758994",
   "metadata": {},
   "source": [
    "Python data types\n",
    "- integer\n",
    "- float\n",
    "- complex\n",
    "- string\n",
    "- boolean"
   ]
  },
  {
   "cell_type": "code",
   "execution_count": 281,
   "id": "c3d30a9a-0c5b-47ee-99e1-ee7bf654a93a",
   "metadata": {},
   "outputs": [
    {
     "name": "stdout",
     "output_type": "stream",
     "text": [
      "45\n"
     ]
    }
   ],
   "source": [
    "i =45\n",
    "print(i)"
   ]
  },
  {
   "cell_type": "code",
   "execution_count": 283,
   "id": "f8bd47ba-cf98-4804-9d9e-fc8e158fc4b7",
   "metadata": {},
   "outputs": [
    {
     "data": {
      "text/plain": [
       "int"
      ]
     },
     "execution_count": 283,
     "metadata": {},
     "output_type": "execute_result"
    }
   ],
   "source": [
    "type(i)"
   ]
  },
  {
   "cell_type": "code",
   "execution_count": 367,
   "id": "0e1e96b0-977c-4a42-a9ad-51dad6277d51",
   "metadata": {},
   "outputs": [
    {
     "name": "stdout",
     "output_type": "stream",
     "text": [
      "<class 'int'>\n"
     ]
    }
   ],
   "source": [
    "print(type(i))"
   ]
  },
  {
   "cell_type": "code",
   "execution_count": 368,
   "id": "3c83d2c6-5dd9-4028-b818-6401faa281d5",
   "metadata": {},
   "outputs": [],
   "source": [
    "i2,i3 = 10, 20"
   ]
  },
  {
   "cell_type": "code",
   "execution_count": 369,
   "id": "a86e2e0e-59b3-4f5c-b806-c58ba5045ee6",
   "metadata": {},
   "outputs": [
    {
     "name": "stdout",
     "output_type": "stream",
     "text": [
      "10\n",
      "20\n"
     ]
    }
   ],
   "source": [
    "print(i2)\n",
    "print(i3)"
   ]
  },
  {
   "cell_type": "code",
   "execution_count": 370,
   "id": "ed086e71-20b4-4303-bd01-0134889d44af",
   "metadata": {},
   "outputs": [
    {
     "name": "stdout",
     "output_type": "stream",
     "text": [
      "30\n",
      "-10\n",
      "200\n",
      "0.5\n"
     ]
    }
   ],
   "source": [
    "print(i2 + i3)\n",
    "print(i2 - i3)\n",
    "print(i2 * i3)\n",
    "print(i2 / i3)"
   ]
  },
  {
   "cell_type": "markdown",
   "id": "2dd32201-f3fa-4698-b5c6-66346dabac89",
   "metadata": {},
   "source": [
    "# float"
   ]
  },
  {
   "cell_type": "code",
   "execution_count": 372,
   "id": "408d1420-0754-480f-ba96-d5300b3f09de",
   "metadata": {},
   "outputs": [
    {
     "data": {
      "text/plain": [
       "110.6"
      ]
     },
     "execution_count": 372,
     "metadata": {},
     "output_type": "execute_result"
    }
   ],
   "source": [
    "petrol = 110.6\n",
    "petrol"
   ]
  },
  {
   "cell_type": "markdown",
   "id": "dacc518d-884d-404e-9356-0dead8a387c6",
   "metadata": {},
   "source": [
    "# string"
   ]
  },
  {
   "cell_type": "code",
   "execution_count": 379,
   "id": "e6f1b804-f027-4e55-82bc-8d9cce4bd34a",
   "metadata": {},
   "outputs": [
    {
     "ename": "NameError",
     "evalue": "name 'nareshit' is not defined",
     "output_type": "error",
     "traceback": [
      "\u001b[1;31m---------------------------------------------------------------------------\u001b[0m",
      "\u001b[1;31mNameError\u001b[0m                                 Traceback (most recent call last)",
      "Cell \u001b[1;32mIn[379], line 1\u001b[0m\n\u001b[1;32m----> 1\u001b[0m s \u001b[38;5;241m=\u001b[39m nareshit\n",
      "\u001b[1;31mNameError\u001b[0m: name 'nareshit' is not defined"
     ]
    }
   ],
   "source": [
    "s = nareshit"
   ]
  },
  {
   "cell_type": "code",
   "execution_count": null,
   "id": "5c7bbeda-58b0-46de-8a14-ff25856f1fe5",
   "metadata": {},
   "outputs": [],
   "source": [
    "s ='nareshit' # single quote string declaration"
   ]
  },
  {
   "cell_type": "code",
   "execution_count": 382,
   "id": "6474b792-ffb0-4d85-82ad-1211e21137f2",
   "metadata": {},
   "outputs": [
    {
     "data": {
      "text/plain": [
       "'nareshit'"
      ]
     },
     "execution_count": 382,
     "metadata": {},
     "output_type": "execute_result"
    }
   ],
   "source": [
    "s"
   ]
  },
  {
   "cell_type": "code",
   "execution_count": 384,
   "id": "7aac00ad-7409-4a0a-bf60-3c3df291d088",
   "metadata": {},
   "outputs": [
    {
     "data": {
      "text/plain": [
       "str"
      ]
     },
     "execution_count": 384,
     "metadata": {},
     "output_type": "execute_result"
    }
   ],
   "source": [
    "type(s)"
   ]
  },
  {
   "cell_type": "code",
   "execution_count": 385,
   "id": "bac5dbb6-affd-43cc-a840-5c02fffbc5b3",
   "metadata": {},
   "outputs": [],
   "source": [
    "s1 = \"nareshit\" # double quote string declaration"
   ]
  },
  {
   "cell_type": "code",
   "execution_count": 388,
   "id": "ebf31e27-a761-4da5-a63c-b6ec58fa4b74",
   "metadata": {},
   "outputs": [
    {
     "data": {
      "text/plain": [
       "'nareshit'"
      ]
     },
     "execution_count": 388,
     "metadata": {},
     "output_type": "execute_result"
    }
   ],
   "source": [
    "s1"
   ]
  },
  {
   "cell_type": "code",
   "execution_count": 389,
   "id": "e4acec0f-9763-4d33-9e9b-a75732cb4d37",
   "metadata": {},
   "outputs": [
    {
     "name": "stdout",
     "output_type": "stream",
     "text": [
      "Learning ai and data science \n",
      "        at \n",
      "        nareshit\n"
     ]
    }
   ],
   "source": [
    "# triple ''' quote for strind declaration\n",
    "s2 = '''Learning ai and data science \n",
    "        at \n",
    "        nareshit'''\n",
    "print(s2)"
   ]
  },
  {
   "cell_type": "code",
   "execution_count": 390,
   "id": "6d3be69b-e370-4ebf-a80e-1cfdbd184ebd",
   "metadata": {},
   "outputs": [
    {
     "data": {
      "text/plain": [
       "str"
      ]
     },
     "execution_count": 390,
     "metadata": {},
     "output_type": "execute_result"
    }
   ],
   "source": [
    "type(s2)"
   ]
  },
  {
   "cell_type": "code",
   "execution_count": 394,
   "id": "8b84a1a1-1795-408e-afa3-c10b613c041b",
   "metadata": {},
   "outputs": [
    {
     "name": "stdout",
     "output_type": "stream",
     "text": [
      "<class 'str'>\n"
     ]
    }
   ],
   "source": [
    "print(type(s2))\n"
   ]
  },
  {
   "cell_type": "code",
   "execution_count": 395,
   "id": "02cebf62-4933-415f-9f06-a714c45e3d40",
   "metadata": {},
   "outputs": [
    {
     "data": {
      "text/plain": [
       "'L'"
      ]
     },
     "execution_count": 395,
     "metadata": {},
     "output_type": "execute_result"
    }
   ],
   "source": [
    "s2[0]"
   ]
  },
  {
   "cell_type": "code",
   "execution_count": 396,
   "id": "8c71c2c2-6cbd-4a6d-aa58-8bf8d34e6591",
   "metadata": {},
   "outputs": [
    {
     "data": {
      "text/plain": [
       "'t'"
      ]
     },
     "execution_count": 396,
     "metadata": {},
     "output_type": "execute_result"
    }
   ],
   "source": [
    "s2[-1]"
   ]
  },
  {
   "cell_type": "code",
   "execution_count": 397,
   "id": "02df3f02-9e6b-4a3e-81f9-b47d355b7d06",
   "metadata": {},
   "outputs": [
    {
     "data": {
      "text/plain": [
       "'a'"
      ]
     },
     "execution_count": 397,
     "metadata": {},
     "output_type": "execute_result"
    }
   ],
   "source": [
    "s2[2:3]"
   ]
  },
  {
   "cell_type": "code",
   "execution_count": 402,
   "id": "f37e5eeb-dbd0-4c51-9ad1-f30dd2f7e017",
   "metadata": {},
   "outputs": [
    {
     "data": {
      "text/plain": [
       "'rnin'"
      ]
     },
     "execution_count": 402,
     "metadata": {},
     "output_type": "execute_result"
    }
   ],
   "source": [
    "s2[3:7]"
   ]
  },
  {
   "cell_type": "markdown",
   "id": "2bdf4b6a-7004-4a0c-9a8c-451b92e8abf8",
   "metadata": {},
   "source": [
    "# boolean"
   ]
  },
  {
   "cell_type": "code",
   "execution_count": 443,
   "id": "426f5f84-eee3-4bf6-b75f-68f2e2298ea7",
   "metadata": {},
   "outputs": [
    {
     "ename": "NameError",
     "evalue": "name 'true' is not defined",
     "output_type": "error",
     "traceback": [
      "\u001b[1;31m---------------------------------------------------------------------------\u001b[0m",
      "\u001b[1;31mNameError\u001b[0m                                 Traceback (most recent call last)",
      "Cell \u001b[1;32mIn[443], line 1\u001b[0m\n\u001b[1;32m----> 1\u001b[0m true\n",
      "\u001b[1;31mNameError\u001b[0m: name 'true' is not defined"
     ]
    }
   ],
   "source": [
    "true # boolean is a case sensitive"
   ]
  },
  {
   "cell_type": "code",
   "execution_count": 445,
   "id": "34d90dbc-a36c-4445-9847-5d8801f2a655",
   "metadata": {},
   "outputs": [
    {
     "data": {
      "text/plain": [
       "True"
      ]
     },
     "execution_count": 445,
     "metadata": {},
     "output_type": "execute_result"
    }
   ],
   "source": [
    "True"
   ]
  },
  {
   "cell_type": "code",
   "execution_count": 447,
   "id": "79c0d391-2529-4213-9487-8d8da82e5ddb",
   "metadata": {},
   "outputs": [
    {
     "data": {
      "text/plain": [
       "False"
      ]
     },
     "execution_count": 447,
     "metadata": {},
     "output_type": "execute_result"
    }
   ],
   "source": [
    "False"
   ]
  },
  {
   "cell_type": "code",
   "execution_count": 451,
   "id": "24c784c7-67c6-4f9c-9bcd-8a7c2c2e6de1",
   "metadata": {},
   "outputs": [
    {
     "data": {
      "text/plain": [
       "True"
      ]
     },
     "execution_count": 451,
     "metadata": {},
     "output_type": "execute_result"
    }
   ],
   "source": [
    "b = True\n",
    "b"
   ]
  },
  {
   "cell_type": "markdown",
   "id": "375dad38-9b93-41c8-bc77-75c53fe610ce",
   "metadata": {},
   "source": [
    "# Complex data type"
   ]
  },
  {
   "cell_type": "code",
   "execution_count": 467,
   "id": "9e8b7796-6e7c-497a-a2eb-a0f752696ceb",
   "metadata": {},
   "outputs": [
    {
     "data": {
      "text/plain": [
       "(1+4j)"
      ]
     },
     "execution_count": 467,
     "metadata": {},
     "output_type": "execute_result"
    }
   ],
   "source": [
    "a1 = 1 + 4j\n",
    "a1"
   ]
  },
  {
   "cell_type": "code",
   "execution_count": 469,
   "id": "79fd38e2-7c10-40cc-8dd8-da96ff0cc4d3",
   "metadata": {},
   "outputs": [
    {
     "data": {
      "text/plain": [
       "complex"
      ]
     },
     "execution_count": 469,
     "metadata": {},
     "output_type": "execute_result"
    }
   ],
   "source": [
    "type(a1)"
   ]
  },
  {
   "cell_type": "code",
   "execution_count": 471,
   "id": "99e930a2-c36f-48b3-975d-e95f5d2f9f0d",
   "metadata": {},
   "outputs": [
    {
     "name": "stdout",
     "output_type": "stream",
     "text": [
      "<class 'complex'>\n"
     ]
    }
   ],
   "source": [
    "print(type(a1))"
   ]
  },
  {
   "cell_type": "code",
   "execution_count": 473,
   "id": "85a9ec1c-c7e9-41df-be55-c1d995fa8feb",
   "metadata": {},
   "outputs": [
    {
     "name": "stdout",
     "output_type": "stream",
     "text": [
      "1.0\n"
     ]
    }
   ],
   "source": [
    "print(a1.real)"
   ]
  },
  {
   "cell_type": "code",
   "execution_count": 479,
   "id": "beb46120-24bf-40f9-8245-ec5a4701b03a",
   "metadata": {},
   "outputs": [
    {
     "name": "stdout",
     "output_type": "stream",
     "text": [
      "4.0\n"
     ]
    }
   ],
   "source": [
    "print(a1.imag)"
   ]
  },
  {
   "cell_type": "markdown",
   "id": "9e2b48be-a00e-46b7-8bf7-d501c9f833bd",
   "metadata": {},
   "source": [
    "# type casting or type coversion"
   ]
  },
  {
   "cell_type": "code",
   "execution_count": 488,
   "id": "7f829061-cdca-4ab5-80c3-c8bf2a3bee85",
   "metadata": {},
   "outputs": [
    {
     "ename": "TypeError",
     "evalue": "int() can't convert non-string with explicit base",
     "output_type": "error",
     "traceback": [
      "\u001b[1;31m---------------------------------------------------------------------------\u001b[0m",
      "\u001b[1;31mTypeError\u001b[0m                                 Traceback (most recent call last)",
      "Cell \u001b[1;32mIn[488], line 1\u001b[0m\n\u001b[1;32m----> 1\u001b[0m \u001b[38;5;28mint\u001b[39m(\u001b[38;5;28;01mTrue\u001b[39;00m, \u001b[38;5;28;01mFalse\u001b[39;00m)\n",
      "\u001b[1;31mTypeError\u001b[0m: int() can't convert non-string with explicit base"
     ]
    }
   ],
   "source": [
    "int(True, False) # only one argumnet is allowed.\n"
   ]
  },
  {
   "cell_type": "code",
   "execution_count": 492,
   "id": "9d425e04-483f-4ca4-9369-7812d0198f8c",
   "metadata": {},
   "outputs": [
    {
     "name": "stdout",
     "output_type": "stream",
     "text": [
      "20\n",
      "12\n",
      "1\n",
      "20\n"
     ]
    }
   ],
   "source": [
    "#data types such as  boolean, integer, float to another type are supportable. But, other data types such as complex and string casting are not supported\n",
    "print(int(20))\n",
    "print(int(12.6))\n",
    "print(int(True))\n",
    "print(int('20')) # only allowed when string is of number text and conversion would be successfull."
   ]
  },
  {
   "cell_type": "code",
   "execution_count": 502,
   "id": "19531c70-8dc3-4e8d-8eef-aca49431758b",
   "metadata": {},
   "outputs": [
    {
     "name": "stdout",
     "output_type": "stream",
     "text": [
      "True\n",
      "True\n",
      "True\n",
      "True\n",
      "False\n"
     ]
    }
   ],
   "source": [
    "print(bool('12'))\n",
    "print(bool(27.4))\n",
    "print(bool(34))\n",
    "print(bool(1+ 2j))\n",
    "print(bool(True == False))"
   ]
  },
  {
   "cell_type": "code",
   "execution_count": null,
   "id": "49b875dc-6d99-47f1-a06b-5bacd8afdd28",
   "metadata": {},
   "outputs": [],
   "source": []
  },
  {
   "cell_type": "code",
   "execution_count": null,
   "id": "f05ee495-8df2-452a-926c-fde527993220",
   "metadata": {},
   "outputs": [],
   "source": []
  },
  {
   "cell_type": "code",
   "execution_count": null,
   "id": "4dc3897a-0dff-498c-8315-932daad48783",
   "metadata": {},
   "outputs": [],
   "source": []
  },
  {
   "cell_type": "code",
   "execution_count": null,
   "id": "792dd626-99c6-477d-80fc-d1602f899a13",
   "metadata": {},
   "outputs": [],
   "source": []
  },
  {
   "cell_type": "code",
   "execution_count": null,
   "id": "76e5ad85-7ef6-40a9-8ed8-51d16e98bc83",
   "metadata": {},
   "outputs": [],
   "source": []
  },
  {
   "cell_type": "code",
   "execution_count": null,
   "id": "c8f18cb7-cfcd-4c19-91ef-a3b23295d4c0",
   "metadata": {},
   "outputs": [],
   "source": []
  },
  {
   "cell_type": "code",
   "execution_count": null,
   "id": "422b3d12-f8fb-4d9c-8b9e-b521e30c29d9",
   "metadata": {},
   "outputs": [],
   "source": []
  },
  {
   "cell_type": "code",
   "execution_count": null,
   "id": "ccb0b72d-bf65-430d-9f85-cb803d9c00a2",
   "metadata": {},
   "outputs": [],
   "source": []
  }
 ],
 "metadata": {
  "kernelspec": {
   "display_name": "Python [conda env:base] *",
   "language": "python",
   "name": "conda-base-py"
  },
  "language_info": {
   "codemirror_mode": {
    "name": "ipython",
    "version": 3
   },
   "file_extension": ".py",
   "mimetype": "text/x-python",
   "name": "python",
   "nbconvert_exporter": "python",
   "pygments_lexer": "ipython3",
   "version": "3.12.7"
  }
 },
 "nbformat": 4,
 "nbformat_minor": 5
}
