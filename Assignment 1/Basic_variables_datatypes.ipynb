{
 "cells": [
  {
   "cell_type": "markdown",
   "id": "b80188c8-b609-4f01-a3c3-1978c1053bf5",
   "metadata": {},
   "source": [
    "# simple numbers"
   ]
  },
  {
   "cell_type": "code",
   "execution_count": 2,
   "id": "8e1d3d28-d682-4ee3-b89e-69271990cebe",
   "metadata": {},
   "outputs": [
    {
     "data": {
      "text/plain": [
       "4"
      ]
     },
     "execution_count": 2,
     "metadata": {},
     "output_type": "execute_result"
    }
   ],
   "source": [
    "4\n"
   ]
  },
  {
   "cell_type": "code",
   "execution_count": 8,
   "id": "4717f9d0-0d51-4ee1-8125-24f0ba71db0a",
   "metadata": {},
   "outputs": [
    {
     "data": {
      "text/plain": [
       "8"
      ]
     },
     "execution_count": 8,
     "metadata": {},
     "output_type": "execute_result"
    }
   ],
   "source": [
    "4 + 4 # addition operation"
   ]
  },
  {
   "cell_type": "code",
   "execution_count": 10,
   "id": "6563d9e2-94ed-437c-85ac-c32d0182a51f",
   "metadata": {},
   "outputs": [
    {
     "data": {
      "text/plain": [
       "1"
      ]
     },
     "execution_count": 10,
     "metadata": {},
     "output_type": "execute_result"
    }
   ],
   "source": [
    "4-3 # subraction"
   ]
  },
  {
   "cell_type": "code",
   "execution_count": 12,
   "id": "3be9c52a-b641-42e7-b3c7-d627ba1316e1",
   "metadata": {},
   "outputs": [
    {
     "data": {
      "text/plain": [
       "12"
      ]
     },
     "execution_count": 12,
     "metadata": {},
     "output_type": "execute_result"
    }
   ],
   "source": [
    "4 * 3 # multiplication"
   ]
  },
  {
   "cell_type": "code",
   "execution_count": 14,
   "id": "37fdb5d2-3977-4d6f-bfdb-e8b301d553bd",
   "metadata": {},
   "outputs": [
    {
     "data": {
      "text/plain": [
       "1.3333333333333333"
      ]
     },
     "execution_count": 14,
     "metadata": {},
     "output_type": "execute_result"
    }
   ],
   "source": [
    "4 / 3 # simple division"
   ]
  },
  {
   "cell_type": "code",
   "execution_count": 16,
   "id": "8d40b7d3-96d1-4cc1-b78d-0d7d6862f2be",
   "metadata": {},
   "outputs": [
    {
     "data": {
      "text/plain": [
       "1"
      ]
     },
     "execution_count": 16,
     "metadata": {},
     "output_type": "execute_result"
    }
   ],
   "source": [
    "4//3 # floor division"
   ]
  },
  {
   "cell_type": "code",
   "execution_count": 21,
   "id": "a3f3f553-fc14-4408-948d-94f6570c013c",
   "metadata": {},
   "outputs": [
    {
     "data": {
      "text/plain": [
       "4"
      ]
     },
     "execution_count": 21,
     "metadata": {},
     "output_type": "execute_result"
    }
   ],
   "source": [
    "4 % 5  #using modulous"
   ]
  },
  {
   "cell_type": "markdown",
   "id": "e9489bf0-4665-406e-a883-8f33fb4844f5",
   "metadata": {},
   "source": [
    "# Numbers are operands and + - * / are operators"
   ]
  },
  {
   "cell_type": "markdown",
   "id": "15cd40c6-637b-4c62-8fc5-807fc3415b83",
   "metadata": {},
   "source": [
    "# What are the different operators\n",
    "# - arithmetic operator\n",
    "# - assignment operator\n",
    "# - rational operator\n",
    "# - logical operator\n",
    "# - Unary operator\n"
   ]
  },
  {
   "cell_type": "code",
   "execution_count": null,
   "id": "8d714918-ffe6-444e-a068-558a34058d7f",
   "metadata": {},
   "outputs": [],
   "source": []
  }
 ],
 "metadata": {
  "kernelspec": {
   "display_name": "Python [conda env:base] *",
   "language": "python",
   "name": "conda-base-py"
  },
  "language_info": {
   "codemirror_mode": {
    "name": "ipython",
    "version": 3
   },
   "file_extension": ".py",
   "mimetype": "text/x-python",
   "name": "python",
   "nbconvert_exporter": "python",
   "pygments_lexer": "ipython3",
   "version": "3.12.7"
  }
 },
 "nbformat": 4,
 "nbformat_minor": 5
}
