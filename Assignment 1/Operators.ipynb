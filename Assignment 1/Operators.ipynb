{
 "cells": [
  {
   "cell_type": "markdown",
   "id": "77460a46-3d62-4186-9a55-a71d962ed188",
   "metadata": {},
   "source": [
    "# Operators\n",
    "- Aritmatic operations"
   ]
  },
  {
   "cell_type": "code",
   "execution_count": 20,
   "id": "9ac649bc-9b66-4191-8dd9-1315780e0c80",
   "metadata": {},
   "outputs": [],
   "source": [
    "# Integers"
   ]
  },
  {
   "cell_type": "code",
   "execution_count": 30,
   "id": "8e437b13-85ac-4e6e-ab83-9d0a810b18f1",
   "metadata": {},
   "outputs": [
    {
     "name": "stdout",
     "output_type": "stream",
     "text": [
      "Addition -  7\n",
      "Substraction -  1\n",
      "Multiplication -  30\n",
      "Division -  2.0\n",
      "Division -  3.5\n",
      "Division -  3\n",
      "Modulous -  3\n",
      "Exponenttial -  16\n"
     ]
    }
   ],
   "source": [
    "print('Addition - ', 3 + 4)\n",
    "print('Substraction - ', 5 - 4)\n",
    "print('Multiplication - ', 6 * 5)\n",
    "print('Division - ', 6/3)\n",
    "print('Division - ', 7/2)\n",
    "print('Division - ', 7//2)\n",
    "print('Modulous - ', 11 % 4)\n",
    "print('Exponenttial - ', 2 **4)\n",
    "      "
   ]
  },
  {
   "cell_type": "code",
   "execution_count": 32,
   "id": "dc06b6d3-9158-401c-a591-12b984438064",
   "metadata": {},
   "outputs": [
    {
     "name": "stdout",
     "output_type": "stream",
     "text": [
      "Floating Number PT 3.14\n",
      "Floating number gravity 9.81\n"
     ]
    }
   ],
   "source": [
    "#floating\n",
    "print('Floating Number PT - ', 3.14)\n",
    "print('Floating number gravity - ', 9.81)"
   ]
  },
  {
   "cell_type": "code",
   "execution_count": 41,
   "id": "d92637b0-d1ef-4d70-a42f-17afbf6498b0",
   "metadata": {},
   "outputs": [
    {
     "name": "stdout",
     "output_type": "stream",
     "text": [
      "complex number -  (2+4j)\n",
      "Multiple complex number -  (-7+9j)\n"
     ]
    }
   ],
   "source": [
    "#complex number\n",
    "print('complex number - ', 2+ 4j)\n",
    "print('Multiple complex number - ', (2+3j) * (1 + 3j))"
   ]
  },
  {
   "cell_type": "code",
   "execution_count": 52,
   "id": "e35ea67e-5b74-433c-9938-76e296cedd9b",
   "metadata": {},
   "outputs": [
    {
     "name": "stdout",
     "output_type": "stream",
     "text": [
      "total 5\n",
      "difference 1\n",
      "product 6\n",
      "division 1.5\n",
      "floor division 1\n",
      "reminder 1\n",
      "exponential 9\n"
     ]
    }
   ],
   "source": [
    "a = 3\n",
    "b = 2\n",
    "\n",
    "total = a + b\n",
    "difference = a -b\n",
    "product = a * b\n",
    "division = a/ b\n",
    "floor_division = a//b\n",
    "remainder = a%b\n",
    "exponential = a **b\n",
    "\n",
    "print('total', total)\n",
    "print('difference', difference)\n",
    "print('product',product)\n",
    "print('division', division)\n",
    "print('floor division', floor_division)\n",
    "print('reminder', remainder)\n",
    "print('exponential', exponential)"
   ]
  },
  {
   "cell_type": "code",
   "execution_count": 60,
   "id": "ca5e71b8-c929-4601-b77a-efcd2a4f193e",
   "metadata": {},
   "outputs": [
    {
     "name": "stdout",
     "output_type": "stream",
     "text": [
      "28.26\n"
     ]
    }
   ],
   "source": [
    "# calculating area of a circle\n",
    "radius = 3\n",
    "areaofcircle = 3.14 * 3 ** 2\n",
    "print(areaofcircle)"
   ]
  },
  {
   "cell_type": "code",
   "execution_count": 62,
   "id": "3581a708-5ba5-436f-a572-338bd7495149",
   "metadata": {},
   "outputs": [
    {
     "name": "stdout",
     "output_type": "stream",
     "text": [
      "18.84\n"
     ]
    }
   ],
   "source": [
    "#perimeter of a circle\n",
    "perimeterofcircle = 2 * 3.14 * radius\n",
    "print(perimeterofcircle)"
   ]
  },
  {
   "cell_type": "code",
   "execution_count": 68,
   "id": "c41ad18e-50ec-4bff-ab68-7ff87e38e147",
   "metadata": {},
   "outputs": [
    {
     "name": "stdout",
     "output_type": "stream",
     "text": [
      "408\n"
     ]
    }
   ],
   "source": [
    "# area of a rectangle\n",
    "length = 34\n",
    "width = 12\n",
    "\n",
    "areaofrectangle = length * width\n",
    "print(areaofrectangle)\n"
   ]
  },
  {
   "cell_type": "code",
   "execution_count": 70,
   "id": "8433b008-3009-410f-9be7-7bbe86f3bcce",
   "metadata": {},
   "outputs": [
    {
     "name": "stdout",
     "output_type": "stream",
     "text": [
      "True\n",
      "False\n",
      "False\n",
      "True\n",
      "True\n",
      "False\n"
     ]
    }
   ],
   "source": [
    "print(3> 2)\n",
    "print(3< 2)\n",
    "print(3 == 2)\n",
    "print(3!=2)\n",
    "print(3>=2)\n",
    "print(3<=2)"
   ]
  },
  {
   "cell_type": "code",
   "execution_count": 77,
   "id": "563d72de-3e14-47a1-be3a-a45db193feef",
   "metadata": {},
   "outputs": [
    {
     "name": "stdout",
     "output_type": "stream",
     "text": [
      "True\n",
      "False\n"
     ]
    }
   ],
   "source": [
    "print(len('vinay') == len('kumar'))\n",
    "print(len('harika') == len('girl'))"
   ]
  },
  {
   "cell_type": "code",
   "execution_count": 87,
   "id": "cdac1e6a-c0fc-48ee-879b-f958e5295f5f",
   "metadata": {},
   "outputs": [
    {
     "name": "stdout",
     "output_type": "stream",
     "text": [
      "True\n"
     ]
    }
   ],
   "source": [
    "print(3 > 2 and 4 > 3)"
   ]
  },
  {
   "cell_type": "code",
   "execution_count": 89,
   "id": "2a0b741e-fa97-4370-b82c-f49bbe0046f3",
   "metadata": {},
   "outputs": [
    {
     "name": "stdout",
     "output_type": "stream",
     "text": [
      "1 is 1 True\n"
     ]
    },
    {
     "name": "stderr",
     "output_type": "stream",
     "text": [
      "<>:1: SyntaxWarning: \"is\" with 'int' literal. Did you mean \"==\"?\n",
      "<>:1: SyntaxWarning: \"is\" with 'int' literal. Did you mean \"==\"?\n",
      "C:\\Users\\Administrator\\AppData\\Local\\Temp\\2\\ipykernel_10932\\1839276060.py:1: SyntaxWarning: \"is\" with 'int' literal. Did you mean \"==\"?\n",
      "  print('1 is 1', 1 is 1)\n"
     ]
    }
   ],
   "source": [
    "print('1 is 1', 1 is 1) "
   ]
  },
  {
   "cell_type": "code",
   "execution_count": 93,
   "id": "f5e1dc56-4279-4812-a485-66f12ce17194",
   "metadata": {},
   "outputs": [
    {
     "data": {
      "text/plain": [
       "nan"
      ]
     },
     "execution_count": 93,
     "metadata": {},
     "output_type": "execute_result"
    }
   ],
   "source": [
    "import numpy as np\n",
    "np.nan"
   ]
  },
  {
   "cell_type": "code",
   "execution_count": 97,
   "id": "54fdb6d0-1867-45c1-9eae-1833c509b98b",
   "metadata": {},
   "outputs": [
    {
     "name": "stdout",
     "output_type": "stream",
     "text": [
      "2\n"
     ]
    }
   ],
   "source": [
    "print(True * 2)"
   ]
  },
  {
   "cell_type": "code",
   "execution_count": 99,
   "id": "aeb72c86-c894-49c2-87f7-04d96b5857c1",
   "metadata": {},
   "outputs": [
    {
     "data": {
      "text/plain": [
       "{1: 'vinay', 2: 'test'}"
      ]
     },
     "execution_count": 99,
     "metadata": {},
     "output_type": "execute_result"
    }
   ],
   "source": [
    "dic = {1:'vinay',2 : 'test'}\n",
    "dic"
   ]
  },
  {
   "cell_type": "code",
   "execution_count": 101,
   "id": "703aa86f-68eb-4c20-bf44-366cd51cb839",
   "metadata": {},
   "outputs": [],
   "source": [
    "dic[1] ='kumar'"
   ]
  },
  {
   "cell_type": "code",
   "execution_count": 110,
   "id": "32d29605-7e51-4ca9-9eb4-ec09ba363a8d",
   "metadata": {},
   "outputs": [
    {
     "data": {
      "text/plain": [
       "{1: 'kumar', 2: 'test'}"
      ]
     },
     "execution_count": 110,
     "metadata": {},
     "output_type": "execute_result"
    }
   ],
   "source": [
    "dic\n"
   ]
  },
  {
   "cell_type": "code",
   "execution_count": null,
   "id": "05f96919-1987-4e7c-8bdd-b78fca2d8a44",
   "metadata": {},
   "outputs": [],
   "source": []
  },
  {
   "cell_type": "code",
   "execution_count": null,
   "id": "3b5e81f3-22da-4bf5-bc3e-69468170603d",
   "metadata": {},
   "outputs": [],
   "source": []
  },
  {
   "cell_type": "code",
   "execution_count": null,
   "id": "b9309cd7-410c-4159-a01a-f19e60727a51",
   "metadata": {},
   "outputs": [],
   "source": []
  },
  {
   "cell_type": "code",
   "execution_count": null,
   "id": "9376d69e-0d9f-44d3-90ef-da5a9a949192",
   "metadata": {},
   "outputs": [],
   "source": []
  },
  {
   "cell_type": "code",
   "execution_count": null,
   "id": "3ee2946e-b11d-4388-83ef-4527d220efb0",
   "metadata": {},
   "outputs": [],
   "source": []
  },
  {
   "cell_type": "code",
   "execution_count": null,
   "id": "ca65470b-8162-4f84-a0e9-b379ae9f7448",
   "metadata": {},
   "outputs": [],
   "source": []
  },
  {
   "cell_type": "code",
   "execution_count": null,
   "id": "c8c1ac73-2242-43f2-aee3-02a661a8df1c",
   "metadata": {},
   "outputs": [],
   "source": []
  }
 ],
 "metadata": {
  "kernelspec": {
   "display_name": "Python [conda env:base] *",
   "language": "python",
   "name": "conda-base-py"
  },
  "language_info": {
   "codemirror_mode": {
    "name": "ipython",
    "version": 3
   },
   "file_extension": ".py",
   "mimetype": "text/x-python",
   "name": "python",
   "nbconvert_exporter": "python",
   "pygments_lexer": "ipython3",
   "version": "3.12.7"
  }
 },
 "nbformat": 4,
 "nbformat_minor": 5
}
