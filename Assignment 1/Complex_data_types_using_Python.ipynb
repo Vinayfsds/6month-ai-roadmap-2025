{
 "cells": [
  {
   "cell_type": "markdown",
   "id": "b7799ce6-2a08-405d-a5db-29dfbe917365",
   "metadata": {},
   "source": [
    "# Complex data types"
   ]
  },
  {
   "cell_type": "code",
   "execution_count": 2,
   "id": "0dffa75d-8d6b-4a64-81b7-d9a60136d0a1",
   "metadata": {},
   "outputs": [
    {
     "data": {
      "text/plain": [
       "(3+4j)"
      ]
     },
     "execution_count": 2,
     "metadata": {},
     "output_type": "execute_result"
    }
   ],
   "source": [
    "z = 3 + 4j\n",
    "z\n"
   ]
  },
  {
   "cell_type": "code",
   "execution_count": 4,
   "id": "79d2c2bd-f9e5-4eab-92a7-553c6f7a66b7",
   "metadata": {},
   "outputs": [
    {
     "name": "stdout",
     "output_type": "stream",
     "text": [
      "3.0\n",
      "4.0\n"
     ]
    }
   ],
   "source": [
    "print(z.real) ## gets the real part 3\n",
    "print(z.imag) # gets the imaginary part 4"
   ]
  },
  {
   "cell_type": "code",
   "execution_count": 6,
   "id": "1de7b48e-ac3e-4ebb-89e4-77d6a21053df",
   "metadata": {},
   "outputs": [
    {
     "data": {
      "text/plain": [
       "(9+11j)"
      ]
     },
     "execution_count": 6,
     "metadata": {},
     "output_type": "execute_result"
    }
   ],
   "source": [
    "a = 4 + 5j\n",
    "b = 5 + 6j\n",
    "\n",
    "a + b"
   ]
  },
  {
   "cell_type": "code",
   "execution_count": 8,
   "id": "892a2bd6-d382-4d16-92d3-45527ee4d4a9",
   "metadata": {},
   "outputs": [
    {
     "data": {
      "text/plain": [
       "(-1-1j)"
      ]
     },
     "execution_count": 8,
     "metadata": {},
     "output_type": "execute_result"
    }
   ],
   "source": [
    "a - b"
   ]
  },
  {
   "cell_type": "code",
   "execution_count": 10,
   "id": "a89b3245-10b5-4002-97af-afd4b412272e",
   "metadata": {},
   "outputs": [
    {
     "data": {
      "text/plain": [
       "(-10+49j)"
      ]
     },
     "execution_count": 10,
     "metadata": {},
     "output_type": "execute_result"
    }
   ],
   "source": [
    "a * b"
   ]
  },
  {
   "cell_type": "code",
   "execution_count": 14,
   "id": "139a99b4-3c66-4427-b4c2-ee814835d960",
   "metadata": {},
   "outputs": [
    {
     "data": {
      "text/plain": [
       "(0.8196721311475409+0.01639344262295085j)"
      ]
     },
     "execution_count": 14,
     "metadata": {},
     "output_type": "execute_result"
    }
   ],
   "source": [
    "a / b\n"
   ]
  },
  {
   "cell_type": "code",
   "execution_count": 23,
   "id": "ad659316-cba8-4630-a80a-73b5dc278756",
   "metadata": {},
   "outputs": [
    {
     "name": "stdout",
     "output_type": "stream",
     "text": [
      "5.0\n"
     ]
    }
   ],
   "source": [
    "print(abs(z))"
   ]
  },
  {
   "cell_type": "code",
   "execution_count": 41,
   "id": "b15ec668-1632-4397-a75d-8381bc3fe542",
   "metadata": {},
   "outputs": [
    {
     "name": "stdout",
     "output_type": "stream",
     "text": [
      "(3-4j)\n"
     ]
    }
   ],
   "source": [
    "print(z.conjugate())\n",
    "\n"
   ]
  },
  {
   "cell_type": "code",
   "execution_count": null,
   "id": "f1bc2388-91c6-4f3b-b597-20eb661a39d5",
   "metadata": {},
   "outputs": [],
   "source": []
  },
  {
   "cell_type": "code",
   "execution_count": null,
   "id": "13b37cb1-b1e7-4b20-b214-c294ed691836",
   "metadata": {},
   "outputs": [],
   "source": []
  },
  {
   "cell_type": "code",
   "execution_count": null,
   "id": "5c472f92-022b-4da3-af1d-c1caaa12dd69",
   "metadata": {},
   "outputs": [],
   "source": []
  },
  {
   "cell_type": "code",
   "execution_count": null,
   "id": "b672935a-28af-40d6-a8bc-cae73c0baaae",
   "metadata": {},
   "outputs": [],
   "source": []
  },
  {
   "cell_type": "code",
   "execution_count": null,
   "id": "191a46ff-a9d5-4217-9a2d-df761719f762",
   "metadata": {},
   "outputs": [],
   "source": []
  },
  {
   "cell_type": "code",
   "execution_count": null,
   "id": "1f87e429-5036-4e62-81dd-929729c492a4",
   "metadata": {},
   "outputs": [],
   "source": []
  }
 ],
 "metadata": {
  "kernelspec": {
   "display_name": "Python [conda env:base] *",
   "language": "python",
   "name": "conda-base-py"
  },
  "language_info": {
   "codemirror_mode": {
    "name": "ipython",
    "version": 3
   },
   "file_extension": ".py",
   "mimetype": "text/x-python",
   "name": "python",
   "nbconvert_exporter": "python",
   "pygments_lexer": "ipython3",
   "version": "3.12.7"
  }
 },
 "nbformat": 4,
 "nbformat_minor": 5
}
