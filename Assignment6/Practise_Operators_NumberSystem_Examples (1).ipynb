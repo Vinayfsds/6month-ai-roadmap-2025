{
 "cells": [
  {
   "cell_type": "markdown",
   "id": "f32b1e08-d8ca-4305-8ab1-8f64dc65521a",
   "metadata": {},
   "source": [
    "# Operators"
   ]
  },
  {
   "cell_type": "code",
   "execution_count": 2,
   "id": "9962e594-3975-4b56-b6a1-3dfecedb5166",
   "metadata": {},
   "outputs": [],
   "source": [
    "# Airthmetic Operators "
   ]
  },
  {
   "cell_type": "code",
   "execution_count": 4,
   "id": "ac24aafe-885e-43bc-9312-2a5a2e557f42",
   "metadata": {},
   "outputs": [],
   "source": [
    "a = 10 \n",
    "b = 30"
   ]
  },
  {
   "cell_type": "code",
   "execution_count": 6,
   "id": "a3b02650-761a-4446-977d-54760420a39b",
   "metadata": {},
   "outputs": [
    {
     "data": {
      "text/plain": [
       "40"
      ]
     },
     "execution_count": 6,
     "metadata": {},
     "output_type": "execute_result"
    }
   ],
   "source": [
    "a+ b"
   ]
  },
  {
   "cell_type": "code",
   "execution_count": 8,
   "id": "bd20cd2b-3c29-48f7-b391-dffb1fe6d53e",
   "metadata": {},
   "outputs": [
    {
     "data": {
      "text/plain": [
       "-20"
      ]
     },
     "execution_count": 8,
     "metadata": {},
     "output_type": "execute_result"
    }
   ],
   "source": [
    "a -b "
   ]
  },
  {
   "cell_type": "code",
   "execution_count": 10,
   "id": "5fffdd46-f119-4f50-bb76-962524301604",
   "metadata": {},
   "outputs": [
    {
     "data": {
      "text/plain": [
       "300"
      ]
     },
     "execution_count": 10,
     "metadata": {},
     "output_type": "execute_result"
    }
   ],
   "source": [
    "a * b"
   ]
  },
  {
   "cell_type": "code",
   "execution_count": 12,
   "id": "37bdc022-6a8c-4f49-b966-06285c619087",
   "metadata": {},
   "outputs": [
    {
     "data": {
      "text/plain": [
       "0.3333333333333333"
      ]
     },
     "execution_count": 12,
     "metadata": {},
     "output_type": "execute_result"
    }
   ],
   "source": [
    "a /b"
   ]
  },
  {
   "cell_type": "code",
   "execution_count": 14,
   "id": "85a392ac-98b7-471d-a49d-a7612e4ad237",
   "metadata": {},
   "outputs": [
    {
     "data": {
      "text/plain": [
       "0"
      ]
     },
     "execution_count": 14,
     "metadata": {},
     "output_type": "execute_result"
    }
   ],
   "source": [
    "a//b"
   ]
  },
  {
   "cell_type": "code",
   "execution_count": 20,
   "id": "0df4b1c1-55d0-4528-8e7d-44b1d6dbdf0f",
   "metadata": {},
   "outputs": [
    {
     "data": {
      "text/plain": [
       "10"
      ]
     },
     "execution_count": 20,
     "metadata": {},
     "output_type": "execute_result"
    }
   ],
   "source": [
    "a % b"
   ]
  },
  {
   "cell_type": "code",
   "execution_count": 22,
   "id": "91faa7ca-ed47-4fae-8a38-4a8b4b165df5",
   "metadata": {},
   "outputs": [],
   "source": [
    "# Assignment operators"
   ]
  },
  {
   "cell_type": "code",
   "execution_count": 24,
   "id": "5dcfd2b1-e637-40c2-a993-6d5b3b6e3c9c",
   "metadata": {},
   "outputs": [],
   "source": [
    "a = 5\n",
    "b = 6"
   ]
  },
  {
   "cell_type": "code",
   "execution_count": 31,
   "id": "d546e693-968f-486d-b9f5-34ebc4ff1bbc",
   "metadata": {},
   "outputs": [],
   "source": [
    "a += 6"
   ]
  },
  {
   "cell_type": "code",
   "execution_count": 33,
   "id": "7338584a-cbcf-4501-b4ea-dcaf64aa8259",
   "metadata": {},
   "outputs": [
    {
     "data": {
      "text/plain": [
       "11"
      ]
     },
     "execution_count": 33,
     "metadata": {},
     "output_type": "execute_result"
    }
   ],
   "source": [
    "a"
   ]
  },
  {
   "cell_type": "code",
   "execution_count": 35,
   "id": "886f1f04-38d9-4549-b039-b3c5f5e23b6b",
   "metadata": {},
   "outputs": [
    {
     "data": {
      "text/plain": [
       "9"
      ]
     },
     "execution_count": 35,
     "metadata": {},
     "output_type": "execute_result"
    }
   ],
   "source": [
    "b + 3"
   ]
  },
  {
   "cell_type": "code",
   "execution_count": 39,
   "id": "d33e7b0e-e9bc-4051-a84d-e080baf1c40d",
   "metadata": {},
   "outputs": [],
   "source": [
    "a-=3"
   ]
  },
  {
   "cell_type": "code",
   "execution_count": 41,
   "id": "0d680dfc-a598-4512-b6a3-69ea98ff9a9d",
   "metadata": {},
   "outputs": [
    {
     "data": {
      "text/plain": [
       "8"
      ]
     },
     "execution_count": 41,
     "metadata": {},
     "output_type": "execute_result"
    }
   ],
   "source": [
    "a\n"
   ]
  },
  {
   "cell_type": "code",
   "execution_count": 43,
   "id": "1ec8007d-5f39-489f-b512-3114b3fb607c",
   "metadata": {},
   "outputs": [],
   "source": [
    "a *=3"
   ]
  },
  {
   "cell_type": "code",
   "execution_count": 48,
   "id": "5fe5a19a-1185-4da6-91c7-fb06e095147e",
   "metadata": {},
   "outputs": [
    {
     "data": {
      "text/plain": [
       "24"
      ]
     },
     "execution_count": 48,
     "metadata": {},
     "output_type": "execute_result"
    }
   ],
   "source": [
    "a"
   ]
  },
  {
   "cell_type": "code",
   "execution_count": 50,
   "id": "06ff457a-cdf8-488c-b6ae-d5e735d8f665",
   "metadata": {},
   "outputs": [],
   "source": [
    "a /=2"
   ]
  },
  {
   "cell_type": "code",
   "execution_count": 55,
   "id": "08e49140-cc3f-47ab-a382-d73fb747a3c4",
   "metadata": {},
   "outputs": [
    {
     "data": {
      "text/plain": [
       "12.0"
      ]
     },
     "execution_count": 55,
     "metadata": {},
     "output_type": "execute_result"
    }
   ],
   "source": [
    "a"
   ]
  },
  {
   "cell_type": "code",
   "execution_count": 59,
   "id": "c86895f4-0b0a-49ba-b28b-a0d815f6edea",
   "metadata": {},
   "outputs": [],
   "source": [
    "a //=3"
   ]
  },
  {
   "cell_type": "code",
   "execution_count": 61,
   "id": "9a45cc38-2f2a-4053-a21f-c42244543d83",
   "metadata": {},
   "outputs": [
    {
     "data": {
      "text/plain": [
       "4.0"
      ]
     },
     "execution_count": 61,
     "metadata": {},
     "output_type": "execute_result"
    }
   ],
   "source": [
    "a"
   ]
  },
  {
   "cell_type": "code",
   "execution_count": 63,
   "id": "3e2b65c6-a19f-4848-adde-ece1befdc145",
   "metadata": {},
   "outputs": [],
   "source": [
    "# unary operator (-) negetation"
   ]
  },
  {
   "cell_type": "code",
   "execution_count": 65,
   "id": "a33edac7-eaf0-4905-baa8-90dce33f5170",
   "metadata": {},
   "outputs": [],
   "source": [
    "a = 5"
   ]
  },
  {
   "cell_type": "code",
   "execution_count": 67,
   "id": "94d95453-10e3-473b-af29-d42ce7b07c01",
   "metadata": {},
   "outputs": [],
   "source": [
    "b = -(a)"
   ]
  },
  {
   "cell_type": "code",
   "execution_count": 75,
   "id": "bec15f62-bc29-4d91-93dd-45fd32a08068",
   "metadata": {},
   "outputs": [
    {
     "data": {
      "text/plain": [
       "-5"
      ]
     },
     "execution_count": 75,
     "metadata": {},
     "output_type": "execute_result"
    }
   ],
   "source": [
    "b"
   ]
  },
  {
   "cell_type": "code",
   "execution_count": 77,
   "id": "0f8f0b94-7cd4-4e20-afb8-8c5c26c940cf",
   "metadata": {},
   "outputs": [
    {
     "data": {
      "text/plain": [
       "-5"
      ]
     },
     "execution_count": 77,
     "metadata": {},
     "output_type": "execute_result"
    }
   ],
   "source": [
    "-a"
   ]
  },
  {
   "cell_type": "code",
   "execution_count": 79,
   "id": "6fbf44d9-d49a-4059-8522-b977d9ddf20d",
   "metadata": {},
   "outputs": [],
   "source": [
    "# Logical Operators and,or, not"
   ]
  },
  {
   "cell_type": "code",
   "execution_count": 83,
   "id": "7be9725f-19ab-4371-a5f7-d56495d9ce9c",
   "metadata": {},
   "outputs": [],
   "source": [
    "a = 4\n",
    "b = 6"
   ]
  },
  {
   "cell_type": "code",
   "execution_count": 85,
   "id": "12a682d1-1085-42a5-9831-d27b0d6e506c",
   "metadata": {},
   "outputs": [
    {
     "data": {
      "text/plain": [
       "False"
      ]
     },
     "execution_count": 85,
     "metadata": {},
     "output_type": "execute_result"
    }
   ],
   "source": [
    "a < 3 and b < 7"
   ]
  },
  {
   "cell_type": "code",
   "execution_count": 90,
   "id": "975f8c7e-6c35-499d-a836-c43b18c86aad",
   "metadata": {},
   "outputs": [
    {
     "data": {
      "text/plain": [
       "True"
      ]
     },
     "execution_count": 90,
     "metadata": {},
     "output_type": "execute_result"
    }
   ],
   "source": [
    "a < 7 and b < 7"
   ]
  },
  {
   "cell_type": "code",
   "execution_count": 92,
   "id": "432df55d-e76f-45a5-81ec-9d425bd3eedb",
   "metadata": {},
   "outputs": [
    {
     "data": {
      "text/plain": [
       "False"
      ]
     },
     "execution_count": 92,
     "metadata": {},
     "output_type": "execute_result"
    }
   ],
   "source": [
    "a>=7"
   ]
  },
  {
   "cell_type": "code",
   "execution_count": 94,
   "id": "9c520ceb-a86b-4682-95df-7a11b57f421e",
   "metadata": {},
   "outputs": [
    {
     "data": {
      "text/plain": [
       "True"
      ]
     },
     "execution_count": 94,
     "metadata": {},
     "output_type": "execute_result"
    }
   ],
   "source": [
    "a <=7"
   ]
  },
  {
   "cell_type": "code",
   "execution_count": 96,
   "id": "e68c2e41-7b0b-4c4a-8b0a-ddc59241ec16",
   "metadata": {},
   "outputs": [
    {
     "data": {
      "text/plain": [
       "False"
      ]
     },
     "execution_count": 96,
     "metadata": {},
     "output_type": "execute_result"
    }
   ],
   "source": [
    "a ==b "
   ]
  },
  {
   "cell_type": "code",
   "execution_count": 102,
   "id": "906847d0-956e-4244-ba36-f95aade4ee17",
   "metadata": {},
   "outputs": [
    {
     "data": {
      "text/plain": [
       "True"
      ]
     },
     "execution_count": 102,
     "metadata": {},
     "output_type": "execute_result"
    }
   ],
   "source": [
    "a< 3 or b < 7"
   ]
  },
  {
   "cell_type": "code",
   "execution_count": 108,
   "id": "82438699-56ee-420e-911f-e6a8bdde7952",
   "metadata": {},
   "outputs": [
    {
     "data": {
      "text/plain": [
       "False"
      ]
     },
     "execution_count": 108,
     "metadata": {},
     "output_type": "execute_result"
    }
   ],
   "source": [
    "not True\n"
   ]
  },
  {
   "cell_type": "code",
   "execution_count": 110,
   "id": "d51ba508-112c-4d92-9663-022ae9e7ea7f",
   "metadata": {},
   "outputs": [
    {
     "data": {
      "text/plain": [
       "False"
      ]
     },
     "execution_count": 110,
     "metadata": {},
     "output_type": "execute_result"
    }
   ],
   "source": [
    "a == b"
   ]
  },
  {
   "cell_type": "code",
   "execution_count": 115,
   "id": "27d66c90-4e9f-4359-aa43-18ff382eb958",
   "metadata": {},
   "outputs": [],
   "source": [
    "# Number System (binary, octal, decimal, hexadecimal)"
   ]
  },
  {
   "cell_type": "code",
   "execution_count": 119,
   "id": "e3960b75-44ea-4d22-a5ef-d781604f6228",
   "metadata": {},
   "outputs": [],
   "source": [
    "n = 15"
   ]
  },
  {
   "cell_type": "code",
   "execution_count": 121,
   "id": "675df418-a95c-401d-9467-a702f7e01aee",
   "metadata": {},
   "outputs": [
    {
     "data": {
      "text/plain": [
       "'0b1111'"
      ]
     },
     "execution_count": 121,
     "metadata": {},
     "output_type": "execute_result"
    }
   ],
   "source": [
    "bin(15) # binary "
   ]
  },
  {
   "cell_type": "code",
   "execution_count": 128,
   "id": "28aacdaa-2ea9-4e5c-9362-d6edb9b552af",
   "metadata": {},
   "outputs": [
    {
     "data": {
      "text/plain": [
       "'0o17'"
      ]
     },
     "execution_count": 128,
     "metadata": {},
     "output_type": "execute_result"
    }
   ],
   "source": [
    "oct(15) #Octal "
   ]
  },
  {
   "cell_type": "code",
   "execution_count": 160,
   "id": "6061cfaa-5c2f-411b-8922-79a74f4b7aa3",
   "metadata": {},
   "outputs": [
    {
     "data": {
      "text/plain": [
       "'0xf'"
      ]
     },
     "execution_count": 160,
     "metadata": {},
     "output_type": "execute_result"
    }
   ],
   "source": [
    "hex(15) # hexa"
   ]
  },
  {
   "cell_type": "code",
   "execution_count": 162,
   "id": "02881ca4-bf65-48ac-8bca-6ae2e20ce185",
   "metadata": {},
   "outputs": [],
   "source": [
    " # relation operator"
   ]
  },
  {
   "cell_type": "code",
   "execution_count": 164,
   "id": "36b2ffa1-596b-489a-a1eb-c398706e6fb8",
   "metadata": {},
   "outputs": [
    {
     "name": "stdout",
     "output_type": "stream",
     "text": [
      "a is not equals to b\n"
     ]
    }
   ],
   "source": [
    "a = 5\n",
    "b = 8\n",
    "if (a ==b):\n",
    "    print('a is euals to b')\n",
    "else:\n",
    "    print('a is not equals to b')"
   ]
  },
  {
   "cell_type": "code",
   "execution_count": 165,
   "id": "29f14000-3d5d-47c6-9069-f4e8cb89c53b",
   "metadata": {},
   "outputs": [],
   "source": [
    "#swap numbers\n"
   ]
  },
  {
   "cell_type": "code",
   "execution_count": 166,
   "id": "8c3d9d64-f63f-4a2e-a88e-f1c3462f449d",
   "metadata": {},
   "outputs": [],
   "source": [
    "a = 4\n",
    "b = 7"
   ]
  },
  {
   "cell_type": "code",
   "execution_count": 180,
   "id": "16158ca2-58c7-4f03-a191-fd5ed3ab6ad3",
   "metadata": {},
   "outputs": [
    {
     "name": "stdout",
     "output_type": "stream",
     "text": [
      "7\n",
      "4\n"
     ]
    }
   ],
   "source": [
    "temp =a \n",
    "a = b \n",
    "print(a)\n",
    "a = temp\n",
    "print(a)\n"
   ]
  },
  {
   "cell_type": "code",
   "execution_count": 182,
   "id": "11322392-7912-4623-8fdc-0f98568bfcf5",
   "metadata": {},
   "outputs": [],
   "source": [
    "a = 10\n",
    "b = 7"
   ]
  },
  {
   "cell_type": "code",
   "execution_count": 184,
   "id": "23f9d62f-9ca6-45f6-bffa-0a6ca76f8743",
   "metadata": {},
   "outputs": [],
   "source": [
    "a, b = b, a"
   ]
  },
  {
   "cell_type": "code",
   "execution_count": 186,
   "id": "2d4c6985-cc75-401d-9eba-9b678afda773",
   "metadata": {},
   "outputs": [
    {
     "name": "stdout",
     "output_type": "stream",
     "text": [
      "7\n",
      "10\n"
     ]
    }
   ],
   "source": [
    "print(a)\n",
    "print(b)"
   ]
  },
  {
   "cell_type": "code",
   "execution_count": 190,
   "id": "cdf015e7-e607-4016-a509-08321eb32799",
   "metadata": {},
   "outputs": [],
   "source": [
    "a3 = 12\n"
   ]
  },
  {
   "cell_type": "code",
   "execution_count": 192,
   "id": "46217417-2111-41d5-ba9c-7e47b4ee3831",
   "metadata": {},
   "outputs": [],
   "source": [
    "b3 = 10"
   ]
  },
  {
   "cell_type": "code",
   "execution_count": null,
   "id": "4a35577b-3920-47c9-bd5a-3a0167da8525",
   "metadata": {},
   "outputs": [],
   "source": []
  }
 ],
 "metadata": {
  "kernelspec": {
   "display_name": "Python [conda env:base] *",
   "language": "python",
   "name": "conda-base-py"
  },
  "language_info": {
   "codemirror_mode": {
    "name": "ipython",
    "version": 3
   },
   "file_extension": ".py",
   "mimetype": "text/x-python",
   "name": "python",
   "nbconvert_exporter": "python",
   "pygments_lexer": "ipython3",
   "version": "3.12.7"
  }
 },
 "nbformat": 4,
 "nbformat_minor": 5
}
