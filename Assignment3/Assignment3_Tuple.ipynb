{
 "cells": [
  {
   "cell_type": "markdown",
   "id": "759464af-50c0-41ca-8561-b5767aa2a41c",
   "metadata": {},
   "source": [
    "# Tuple Creation"
   ]
  },
  {
   "cell_type": "code",
   "execution_count": 2,
   "id": "6530bdbc-b6dd-4ae5-a4e4-98162f75cf4a",
   "metadata": {},
   "outputs": [
    {
     "data": {
      "text/plain": [
       "()"
      ]
     },
     "execution_count": 2,
     "metadata": {},
     "output_type": "execute_result"
    }
   ],
   "source": [
    "tuple1 =() #creating a empty tuple\n",
    "tuple1"
   ]
  },
  {
   "cell_type": "code",
   "execution_count": 14,
   "id": "ed026df4-9ff7-48fa-a00d-38f9a24155ed",
   "metadata": {},
   "outputs": [
    {
     "data": {
      "text/plain": [
       "(10, 30, 60)"
      ]
     },
     "execution_count": 14,
     "metadata": {},
     "output_type": "execute_result"
    }
   ],
   "source": [
    "tuple2 = (10,30,60) # tuples for integers\n",
    "tuple2"
   ]
  },
  {
   "cell_type": "code",
   "execution_count": 16,
   "id": "fcb74516-5da5-49df-a05e-139cf4ff3742",
   "metadata": {},
   "outputs": [
    {
     "data": {
      "text/plain": [
       "('Vinay', 'Vedasree', 'Meenusree', 'Harika')"
      ]
     },
     "execution_count": 16,
     "metadata": {},
     "output_type": "execute_result"
    }
   ],
   "source": [
    "tupleString = ('Vinay', 'Vedasree', 'Meenusree', 'Harika') # tuples for strings\n",
    "tupleString"
   ]
  },
  {
   "cell_type": "code",
   "execution_count": 18,
   "id": "da2f16db-14fb-4b40-841d-bfb460795153",
   "metadata": {},
   "outputs": [
    {
     "data": {
      "text/plain": [
       "(1, 2, (10, 30, 60), ('Vinay', 'Vedasree', 'Meenusree', 'Harika'))"
      ]
     },
     "execution_count": 18,
     "metadata": {},
     "output_type": "execute_result"
    }
   ],
   "source": [
    "tupleNested = (1, 2, (10,30,60), ('Vinay', 'Vedasree', 'Meenusree', 'Harika')) # nested tupleswith different data types\n",
    "tupleNested"
   ]
  },
  {
   "cell_type": "code",
   "execution_count": 20,
   "id": "d3763792-d2a7-4180-b9c1-964ea1dd357b",
   "metadata": {},
   "outputs": [
    {
     "data": {
      "text/plain": [
       "4"
      ]
     },
     "execution_count": 20,
     "metadata": {},
     "output_type": "execute_result"
    }
   ],
   "source": [
    "len(tupleNested) # gets the number of items in tuple"
   ]
  },
  {
   "cell_type": "markdown",
   "id": "258d625a-f262-4f28-9860-42f7dfd916e8",
   "metadata": {},
   "source": [
    "# Tuple indexing"
   ]
  },
  {
   "cell_type": "code",
   "execution_count": 35,
   "id": "ecbe93cf-2beb-4ad6-9dc9-665509e9d6fa",
   "metadata": {},
   "outputs": [
    {
     "data": {
      "text/plain": [
       "10"
      ]
     },
     "execution_count": 35,
     "metadata": {},
     "output_type": "execute_result"
    }
   ],
   "source": [
    "tuple2[0] # gets the first item in tuple"
   ]
  },
  {
   "cell_type": "code",
   "execution_count": 37,
   "id": "05931b45-f9e9-4a3d-a8c8-cbc2229936e2",
   "metadata": {},
   "outputs": [
    {
     "data": {
      "text/plain": [
       "'Vinay'"
      ]
     },
     "execution_count": 37,
     "metadata": {},
     "output_type": "execute_result"
    }
   ],
   "source": [
    "tupleString[0] # gets the first string item in tuple"
   ]
  },
  {
   "cell_type": "code",
   "execution_count": 43,
   "id": "a565e96b-7d81-455b-9cdd-ef1b89478b59",
   "metadata": {},
   "outputs": [
    {
     "name": "stdout",
     "output_type": "stream",
     "text": [
      "V\n",
      "i\n",
      "n\n",
      "a\n",
      "y\n"
     ]
    }
   ],
   "source": [
    "print(tupleString[0][0]) # prints the tuple index items\n",
    "print(tupleString[0][1]) # prints the tuple index items\n",
    "print(tupleString[0][2])\n",
    "print(tupleString[0][3])\n",
    "print(tupleString[0][4])\n"
   ]
  },
  {
   "cell_type": "code",
   "execution_count": 47,
   "id": "4f32affe-925e-4eca-a2c4-cf7c82239db7",
   "metadata": {},
   "outputs": [
    {
     "data": {
      "text/plain": [
       "'Harika'"
      ]
     },
     "execution_count": 47,
     "metadata": {},
     "output_type": "execute_result"
    }
   ],
   "source": [
    "tupleString[-1] # prints the tuple index for -1 item"
   ]
  },
  {
   "cell_type": "markdown",
   "id": "a01e813b-a35a-4790-92da-a521482134c5",
   "metadata": {},
   "source": [
    "# Tuple Slicing"
   ]
  },
  {
   "cell_type": "code",
   "execution_count": 56,
   "id": "42744b0f-9925-483e-b1c0-198da5a0f311",
   "metadata": {},
   "outputs": [
    {
     "data": {
      "text/plain": [
       "('one', 'two', 'three', 'four', 'five', 'six', 'seven', 'eight', 'nine', 'ten')"
      ]
     },
     "execution_count": 56,
     "metadata": {},
     "output_type": "execute_result"
    }
   ],
   "source": [
    "myTuple = ('one', 'two', 'three', 'four', 'five', 'six', 'seven', 'eight', 'nine', 'ten')\n",
    "myTuple"
   ]
  },
  {
   "cell_type": "code",
   "execution_count": 60,
   "id": "3cefb15f-a2db-4b5f-bc58-74c26cf4ba59",
   "metadata": {},
   "outputs": [
    {
     "data": {
      "text/plain": [
       "('one', 'two', 'three')"
      ]
     },
     "execution_count": 60,
     "metadata": {},
     "output_type": "execute_result"
    }
   ],
   "source": [
    "myTuple[0:3] # gets the first 3 items"
   ]
  },
  {
   "cell_type": "code",
   "execution_count": 62,
   "id": "cb18e623-3483-47fc-8bef-1486eb0a93ff",
   "metadata": {},
   "outputs": [
    {
     "data": {
      "text/plain": [
       "('three', 'four', 'five')"
      ]
     },
     "execution_count": 62,
     "metadata": {},
     "output_type": "execute_result"
    }
   ],
   "source": [
    "myTuple[2:5] # gets the items from 2nd index to (5-1) "
   ]
  },
  {
   "cell_type": "code",
   "execution_count": 64,
   "id": "228378be-2eac-4ae5-8a44-4390fcbda157",
   "metadata": {},
   "outputs": [
    {
     "data": {
      "text/plain": [
       "('one', 'two')"
      ]
     },
     "execution_count": 64,
     "metadata": {},
     "output_type": "execute_result"
    }
   ],
   "source": [
    "myTuple[:2]"
   ]
  },
  {
   "cell_type": "code",
   "execution_count": 70,
   "id": "0c2d2f10-dacf-4881-bdae-72324aafd870",
   "metadata": {},
   "outputs": [
    {
     "data": {
      "text/plain": [
       "'eight'"
      ]
     },
     "execution_count": 70,
     "metadata": {},
     "output_type": "execute_result"
    }
   ],
   "source": [
    "myTuple[-3]"
   ]
  },
  {
   "cell_type": "code",
   "execution_count": 75,
   "id": "7dfee3d1-bcc6-46a9-bca1-52c955f84f1d",
   "metadata": {},
   "outputs": [
    {
     "data": {
      "text/plain": [
       "'ten'"
      ]
     },
     "execution_count": 75,
     "metadata": {},
     "output_type": "execute_result"
    }
   ],
   "source": [
    "myTuple[-1]"
   ]
  },
  {
   "cell_type": "code",
   "execution_count": 80,
   "id": "73dfd937-ec5c-4328-9053-87c5436cb001",
   "metadata": {},
   "outputs": [
    {
     "data": {
      "text/plain": [
       "('one', 'two', 'three', 'four', 'five', 'six', 'seven', 'eight', 'nine', 'ten')"
      ]
     },
     "execution_count": 80,
     "metadata": {},
     "output_type": "execute_result"
    }
   ],
   "source": [
    "myTuple[:]"
   ]
  },
  {
   "cell_type": "markdown",
   "id": "6d00ef43-ac3b-468f-850b-fc08dce218f5",
   "metadata": {},
   "source": [
    "# Remove and change Tuple"
   ]
  },
  {
   "cell_type": "code",
   "execution_count": 91,
   "id": "8414fbbb-ae70-4912-bcc2-83b47207433c",
   "metadata": {},
   "outputs": [
    {
     "ename": "TypeError",
     "evalue": "'tuple' object does not support item assignment",
     "output_type": "error",
     "traceback": [
      "\u001b[1;31m---------------------------------------------------------------------------\u001b[0m",
      "\u001b[1;31mTypeError\u001b[0m                                 Traceback (most recent call last)",
      "Cell \u001b[1;32mIn[91], line 1\u001b[0m\n\u001b[1;32m----> 1\u001b[0m myTuple[\u001b[38;5;241m1\u001b[39m] \u001b[38;5;241m=\u001b[39m \u001b[38;5;241m3\u001b[39m\n",
      "\u001b[1;31mTypeError\u001b[0m: 'tuple' object does not support item assignment"
     ]
    }
   ],
   "source": [
    "myTuple[1] = 3"
   ]
  },
  {
   "cell_type": "code",
   "execution_count": 97,
   "id": "ee328fce-e0d1-4626-930a-dc56a6e12f54",
   "metadata": {},
   "outputs": [],
   "source": [
    "myTuple2 = myTuple"
   ]
  },
  {
   "cell_type": "code",
   "execution_count": 99,
   "id": "ee1627e1-fbb5-4a87-bbb3-17fb17e5b6b3",
   "metadata": {},
   "outputs": [
    {
     "data": {
      "text/plain": [
       "('one', 'two', 'three', 'four', 'five', 'six', 'seven', 'eight', 'nine', 'ten')"
      ]
     },
     "execution_count": 99,
     "metadata": {},
     "output_type": "execute_result"
    }
   ],
   "source": [
    "myTuple2"
   ]
  },
  {
   "cell_type": "code",
   "execution_count": 120,
   "id": "71633128-d779-462e-bb18-56c5e35a66db",
   "metadata": {},
   "outputs": [
    {
     "ename": "NameError",
     "evalue": "name 'myT' is not defined",
     "output_type": "error",
     "traceback": [
      "\u001b[1;31m---------------------------------------------------------------------------\u001b[0m",
      "\u001b[1;31mNameError\u001b[0m                                 Traceback (most recent call last)",
      "Cell \u001b[1;32mIn[120], line 1\u001b[0m\n\u001b[1;32m----> 1\u001b[0m \u001b[38;5;28;01mdel\u001b[39;00m myT\n",
      "\u001b[1;31mNameError\u001b[0m: name 'myT' is not defined"
     ]
    }
   ],
   "source": [
    "del myT"
   ]
  },
  {
   "cell_type": "code",
   "execution_count": 130,
   "id": "cea5d68d-599d-43f9-87af-8d76ad35b279",
   "metadata": {},
   "outputs": [],
   "source": [
    "del myTuple2"
   ]
  },
  {
   "cell_type": "markdown",
   "id": "12c8ed11-2d88-4bde-9b57-d9cbb1e51b45",
   "metadata": {},
   "source": [
    "# Loop through Tuple"
   ]
  },
  {
   "cell_type": "code",
   "execution_count": 133,
   "id": "6c456a25-d073-4bf7-b7cd-502c71f4719d",
   "metadata": {},
   "outputs": [
    {
     "name": "stdout",
     "output_type": "stream",
     "text": [
      "one\n",
      "two\n",
      "three\n",
      "four\n",
      "five\n",
      "six\n",
      "seven\n",
      "eight\n",
      "nine\n",
      "ten\n"
     ]
    }
   ],
   "source": [
    "for i in myTuple:\n",
    "    print(i)"
   ]
  },
  {
   "cell_type": "code",
   "execution_count": 148,
   "id": "5fdf99db-695b-440b-a7a7-4cde968ac84e",
   "metadata": {},
   "outputs": [
    {
     "name": "stdout",
     "output_type": "stream",
     "text": [
      "(0, 'one')\n",
      "(1, 'two')\n",
      "(2, 'three')\n",
      "(3, 'four')\n",
      "(4, 'five')\n",
      "(5, 'six')\n",
      "(6, 'seven')\n",
      "(7, 'eight')\n",
      "(8, 'nine')\n",
      "(9, 'ten')\n"
     ]
    }
   ],
   "source": [
    "for i in enumerate(myTuple):\n",
    "    print(i)"
   ]
  },
  {
   "cell_type": "code",
   "execution_count": 150,
   "id": "f29038cf-fd31-4646-b8fe-5144d2a4d33d",
   "metadata": {},
   "outputs": [
    {
     "data": {
      "text/plain": [
       "('one', 'two', 'three', 'four', 'five', 'six', 'seven', 'eight', 'nine', 'ten')"
      ]
     },
     "execution_count": 150,
     "metadata": {},
     "output_type": "execute_result"
    }
   ],
   "source": [
    "myTuple"
   ]
  },
  {
   "cell_type": "code",
   "execution_count": 157,
   "id": "a67cd0e0-0f5f-4132-81ee-1461c802676c",
   "metadata": {},
   "outputs": [
    {
     "data": {
      "text/plain": [
       "True"
      ]
     },
     "execution_count": 157,
     "metadata": {},
     "output_type": "execute_result"
    }
   ],
   "source": [
    "'one' in myTuple"
   ]
  },
  {
   "cell_type": "code",
   "execution_count": 159,
   "id": "c55ffcce-2973-460a-890b-5c1691e62529",
   "metadata": {},
   "outputs": [
    {
     "data": {
      "text/plain": [
       "False"
      ]
     },
     "execution_count": 159,
     "metadata": {},
     "output_type": "execute_result"
    }
   ],
   "source": [
    "'eleven' in myTuple"
   ]
  },
  {
   "cell_type": "code",
   "execution_count": 168,
   "id": "7bec5b18-bc0e-4ea3-b4dd-21474bb54672",
   "metadata": {},
   "outputs": [
    {
     "name": "stdout",
     "output_type": "stream",
     "text": [
      "Found the item in Tuple\n"
     ]
    }
   ],
   "source": [
    "if 'one' in myTuple:\n",
    "    print('Found the item in Tuple')\n",
    "else:\n",
    "    print('Not Found the item in Tuple')\n",
    "\n"
   ]
  },
  {
   "cell_type": "code",
   "execution_count": 170,
   "id": "9b7659c7-8bbc-46da-a4a2-dab5cd453889",
   "metadata": {},
   "outputs": [
    {
     "name": "stdout",
     "output_type": "stream",
     "text": [
      "Not Found the item in Tuple\n"
     ]
    }
   ],
   "source": [
    "if 'eleven' in myTuple:\n",
    "    print('Found the item in Tuple')\n",
    "else:\n",
    "    print('Not Found the item in Tuple')"
   ]
  },
  {
   "cell_type": "markdown",
   "id": "aa5cf892-4fa2-42f7-9d4a-f8060412519b",
   "metadata": {},
   "source": [
    "# Index position in Tuple"
   ]
  },
  {
   "cell_type": "code",
   "execution_count": 180,
   "id": "083a1328-a080-4f6f-9172-ab43f38bd85f",
   "metadata": {},
   "outputs": [
    {
     "data": {
      "text/plain": [
       "('one', 'two', 'three', 'four', 'five', 'six', 'seven', 'eight', 'nine', 'ten')"
      ]
     },
     "execution_count": 180,
     "metadata": {},
     "output_type": "execute_result"
    }
   ],
   "source": [
    "myTuple"
   ]
  },
  {
   "cell_type": "code",
   "execution_count": 193,
   "id": "d8190824-dcb8-4410-a45d-1a8194dff6a7",
   "metadata": {},
   "outputs": [
    {
     "data": {
      "text/plain": [
       "1"
      ]
     },
     "execution_count": 193,
     "metadata": {},
     "output_type": "execute_result"
    }
   ],
   "source": [
    "myTuple.index('two')"
   ]
  },
  {
   "cell_type": "code",
   "execution_count": 195,
   "id": "9933b7d2-0760-4f99-bd29-0f506fc76405",
   "metadata": {},
   "outputs": [
    {
     "data": {
      "text/plain": [
       "4"
      ]
     },
     "execution_count": 195,
     "metadata": {},
     "output_type": "execute_result"
    }
   ],
   "source": [
    "myTuple.index('five')"
   ]
  },
  {
   "cell_type": "markdown",
   "id": "1e767b27-a599-4e4c-bcbb-0886bfad6cb5",
   "metadata": {},
   "source": [
    "# Sorting"
   ]
  },
  {
   "cell_type": "code",
   "execution_count": 207,
   "id": "404709a8-f183-4251-b48f-cda789790b24",
   "metadata": {},
   "outputs": [
    {
     "data": {
      "text/plain": [
       "['two', 'three', 'ten', 'six', 'seven', 'one', 'nine', 'four', 'five', 'eight']"
      ]
     },
     "execution_count": 207,
     "metadata": {},
     "output_type": "execute_result"
    }
   ],
   "source": [
    "sorted(myTuple, reverse=True)"
   ]
  },
  {
   "cell_type": "code",
   "execution_count": 209,
   "id": "3a6739ce-dd65-48ff-839d-76ecf71f9c2f",
   "metadata": {},
   "outputs": [
    {
     "data": {
      "text/plain": [
       "['eight', 'five', 'four', 'nine', 'one', 'seven', 'six', 'ten', 'three', 'two']"
      ]
     },
     "execution_count": 209,
     "metadata": {},
     "output_type": "execute_result"
    }
   ],
   "source": [
    "sorted(myTuple, reverse=False)"
   ]
  },
  {
   "cell_type": "code",
   "execution_count": 211,
   "id": "ec7fa74f-f6d9-4e62-8d69-57013bd5ce82",
   "metadata": {},
   "outputs": [
    {
     "data": {
      "text/plain": [
       "('one', 'two', 'three', 'four', 'five', 'six', 'seven', 'eight', 'nine', 'ten')"
      ]
     },
     "execution_count": 211,
     "metadata": {},
     "output_type": "execute_result"
    }
   ],
   "source": [
    "myTuple"
   ]
  },
  {
   "cell_type": "code",
   "execution_count": null,
   "id": "da9b1d43-ff0e-4ba1-8966-64345b7ae6bf",
   "metadata": {},
   "outputs": [],
   "source": []
  },
  {
   "cell_type": "code",
   "execution_count": null,
   "id": "cfaad381-cf07-4979-a98f-2b2f281b46a2",
   "metadata": {},
   "outputs": [],
   "source": []
  },
  {
   "cell_type": "code",
   "execution_count": null,
   "id": "31062f5e-318d-4af7-ba99-9fb231ef078a",
   "metadata": {},
   "outputs": [],
   "source": []
  },
  {
   "cell_type": "code",
   "execution_count": null,
   "id": "edc11a95-41b0-49b9-8098-0a581a630f26",
   "metadata": {},
   "outputs": [],
   "source": []
  }
 ],
 "metadata": {
  "kernelspec": {
   "display_name": "Python [conda env:base] *",
   "language": "python",
   "name": "conda-base-py"
  },
  "language_info": {
   "codemirror_mode": {
    "name": "ipython",
    "version": 3
   },
   "file_extension": ".py",
   "mimetype": "text/x-python",
   "name": "python",
   "nbconvert_exporter": "python",
   "pygments_lexer": "ipython3",
   "version": "3.12.7"
  }
 },
 "nbformat": 4,
 "nbformat_minor": 5
}
